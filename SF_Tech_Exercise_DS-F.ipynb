{
 "cells": [
  {
   "cell_type": "markdown",
   "metadata": {},
   "source": [
    "# SF. Tech Exercise, D.S  "
   ]
  },
  {
   "cell_type": "markdown",
   "metadata": {},
   "source": [
    "**Questions:**\n",
    "\n",
    "Note: We are only interested in predominantly **bachelor's-degree granting institutions**\n",
    "\n",
    "\n",
    "**Data Exploratory Analysis** "
   ]
  },
  {
   "cell_type": "code",
   "execution_count": 1,
   "metadata": {},
   "outputs": [
    {
     "data": {
      "text/html": [
       "<div>\n",
       "<style scoped>\n",
       "    .dataframe tbody tr th:only-of-type {\n",
       "        vertical-align: middle;\n",
       "    }\n",
       "\n",
       "    .dataframe tbody tr th {\n",
       "        vertical-align: top;\n",
       "    }\n",
       "\n",
       "    .dataframe thead th {\n",
       "        text-align: right;\n",
       "    }\n",
       "</style>\n",
       "<table border=\"1\" class=\"dataframe\">\n",
       "  <thead>\n",
       "    <tr style=\"text-align: right;\">\n",
       "      <th></th>\n",
       "      <th>UNITID</th>\n",
       "      <th>OPEID</th>\n",
       "      <th>INSTNM</th>\n",
       "      <th>CITY</th>\n",
       "      <th>STABBR</th>\n",
       "      <th>ZIP</th>\n",
       "      <th>REGION</th>\n",
       "      <th>CONTROL</th>\n",
       "      <th>ACCREDAGENCY</th>\n",
       "      <th>PREDDEG</th>\n",
       "      <th>...</th>\n",
       "      <th>PPTUG_EF</th>\n",
       "      <th>NPT4_PUB</th>\n",
       "      <th>NPT4_PRIV</th>\n",
       "      <th>INEXPFTE</th>\n",
       "      <th>AVGFACSAL</th>\n",
       "      <th>C150_4</th>\n",
       "      <th>PFTFTUG1_EF</th>\n",
       "      <th>COMPL_RPY_3YR_RT</th>\n",
       "      <th>COMPL_RPY_5YR_RT</th>\n",
       "      <th>MD_EARN_WNE_P10</th>\n",
       "    </tr>\n",
       "  </thead>\n",
       "  <tbody>\n",
       "    <tr>\n",
       "      <th>0</th>\n",
       "      <td>100654</td>\n",
       "      <td>100200</td>\n",
       "      <td>Alabama A &amp; M University</td>\n",
       "      <td>Normal</td>\n",
       "      <td>AL</td>\n",
       "      <td>35762</td>\n",
       "      <td>5</td>\n",
       "      <td>1</td>\n",
       "      <td>Southern Association of Colleges and Schools C...</td>\n",
       "      <td>3</td>\n",
       "      <td>...</td>\n",
       "      <td>0.0587</td>\n",
       "      <td>14444.0</td>\n",
       "      <td>NaN</td>\n",
       "      <td>5384.0</td>\n",
       "      <td>7101.0</td>\n",
       "      <td>0.2685</td>\n",
       "      <td>0.8987</td>\n",
       "      <td>0.429326</td>\n",
       "      <td>0.511318</td>\n",
       "      <td>31000.0</td>\n",
       "    </tr>\n",
       "    <tr>\n",
       "      <th>1</th>\n",
       "      <td>100663</td>\n",
       "      <td>105200</td>\n",
       "      <td>University of Alabama at Birmingham</td>\n",
       "      <td>Birmingham</td>\n",
       "      <td>AL</td>\n",
       "      <td>35294-0110</td>\n",
       "      <td>5</td>\n",
       "      <td>1</td>\n",
       "      <td>Southern Association of Colleges and Schools C...</td>\n",
       "      <td>3</td>\n",
       "      <td>...</td>\n",
       "      <td>0.2425</td>\n",
       "      <td>17005.0</td>\n",
       "      <td>NaN</td>\n",
       "      <td>16454.0</td>\n",
       "      <td>10717.0</td>\n",
       "      <td>0.5829</td>\n",
       "      <td>0.6009</td>\n",
       "      <td>0.618270</td>\n",
       "      <td>0.673330</td>\n",
       "      <td>41200.0</td>\n",
       "    </tr>\n",
       "    <tr>\n",
       "      <th>2</th>\n",
       "      <td>100690</td>\n",
       "      <td>2503400</td>\n",
       "      <td>Amridge University</td>\n",
       "      <td>Montgomery</td>\n",
       "      <td>AL</td>\n",
       "      <td>36117-3553</td>\n",
       "      <td>5</td>\n",
       "      <td>2</td>\n",
       "      <td>Southern Association of Colleges and Schools C...</td>\n",
       "      <td>3</td>\n",
       "      <td>...</td>\n",
       "      <td>0.5014</td>\n",
       "      <td>NaN</td>\n",
       "      <td>15322.0</td>\n",
       "      <td>4206.0</td>\n",
       "      <td>4292.0</td>\n",
       "      <td>0.4000</td>\n",
       "      <td>0.0035</td>\n",
       "      <td>0.439024</td>\n",
       "      <td>0.550725</td>\n",
       "      <td>39600.0</td>\n",
       "    </tr>\n",
       "    <tr>\n",
       "      <th>3</th>\n",
       "      <td>100706</td>\n",
       "      <td>105500</td>\n",
       "      <td>University of Alabama in Huntsville</td>\n",
       "      <td>Huntsville</td>\n",
       "      <td>AL</td>\n",
       "      <td>35899</td>\n",
       "      <td>5</td>\n",
       "      <td>1</td>\n",
       "      <td>Southern Association of Colleges and Schools C...</td>\n",
       "      <td>3</td>\n",
       "      <td>...</td>\n",
       "      <td>0.1443</td>\n",
       "      <td>20909.0</td>\n",
       "      <td>NaN</td>\n",
       "      <td>9242.0</td>\n",
       "      <td>9442.0</td>\n",
       "      <td>0.5187</td>\n",
       "      <td>0.6176</td>\n",
       "      <td>0.680887</td>\n",
       "      <td>0.742248</td>\n",
       "      <td>46700.0</td>\n",
       "    </tr>\n",
       "    <tr>\n",
       "      <th>4</th>\n",
       "      <td>100724</td>\n",
       "      <td>100500</td>\n",
       "      <td>Alabama State University</td>\n",
       "      <td>Montgomery</td>\n",
       "      <td>AL</td>\n",
       "      <td>36104-0271</td>\n",
       "      <td>5</td>\n",
       "      <td>1</td>\n",
       "      <td>Southern Association of Colleges and Schools C...</td>\n",
       "      <td>3</td>\n",
       "      <td>...</td>\n",
       "      <td>0.0666</td>\n",
       "      <td>13043.0</td>\n",
       "      <td>NaN</td>\n",
       "      <td>8527.0</td>\n",
       "      <td>7754.0</td>\n",
       "      <td>0.3001</td>\n",
       "      <td>0.8650</td>\n",
       "      <td>0.366038</td>\n",
       "      <td>0.442308</td>\n",
       "      <td>27700.0</td>\n",
       "    </tr>\n",
       "  </tbody>\n",
       "</table>\n",
       "<p>5 rows × 33 columns</p>\n",
       "</div>"
      ],
      "text/plain": [
       "   UNITID    OPEID                               INSTNM        CITY STABBR  \\\n",
       "0  100654   100200             Alabama A & M University      Normal     AL   \n",
       "1  100663   105200  University of Alabama at Birmingham  Birmingham     AL   \n",
       "2  100690  2503400                   Amridge University  Montgomery     AL   \n",
       "3  100706   105500  University of Alabama in Huntsville  Huntsville     AL   \n",
       "4  100724   100500             Alabama State University  Montgomery     AL   \n",
       "\n",
       "          ZIP  REGION  CONTROL  \\\n",
       "0       35762       5        1   \n",
       "1  35294-0110       5        1   \n",
       "2  36117-3553       5        2   \n",
       "3       35899       5        1   \n",
       "4  36104-0271       5        1   \n",
       "\n",
       "                                        ACCREDAGENCY  PREDDEG  ...  PPTUG_EF  \\\n",
       "0  Southern Association of Colleges and Schools C...        3  ...    0.0587   \n",
       "1  Southern Association of Colleges and Schools C...        3  ...    0.2425   \n",
       "2  Southern Association of Colleges and Schools C...        3  ...    0.5014   \n",
       "3  Southern Association of Colleges and Schools C...        3  ...    0.1443   \n",
       "4  Southern Association of Colleges and Schools C...        3  ...    0.0666   \n",
       "\n",
       "   NPT4_PUB  NPT4_PRIV  INEXPFTE  AVGFACSAL  C150_4  PFTFTUG1_EF  \\\n",
       "0   14444.0        NaN    5384.0     7101.0  0.2685       0.8987   \n",
       "1   17005.0        NaN   16454.0    10717.0  0.5829       0.6009   \n",
       "2       NaN    15322.0    4206.0     4292.0  0.4000       0.0035   \n",
       "3   20909.0        NaN    9242.0     9442.0  0.5187       0.6176   \n",
       "4   13043.0        NaN    8527.0     7754.0  0.3001       0.8650   \n",
       "\n",
       "   COMPL_RPY_3YR_RT  COMPL_RPY_5YR_RT  MD_EARN_WNE_P10  \n",
       "0          0.429326          0.511318          31000.0  \n",
       "1          0.618270          0.673330          41200.0  \n",
       "2          0.439024          0.550725          39600.0  \n",
       "3          0.680887          0.742248          46700.0  \n",
       "4          0.366038          0.442308          27700.0  \n",
       "\n",
       "[5 rows x 33 columns]"
      ]
     },
     "execution_count": 1,
     "metadata": {},
     "output_type": "execute_result"
    }
   ],
   "source": [
    "# Importing excel file\n",
    "\n",
    "import pandas as pd\n",
    "import numpy as np\n",
    "missing_value= [\"n/a\", \"na\", \"--\", \"PrivacySuppressed\", \"privacysupressed\"]\n",
    "df = pd.read_excel('/Users/leonardo/Dropbox/Suffolk_MSBA/Stride_Funding/College_Scorecard_Variables.xlsx', na_values = missing_value)\n",
    "df.head()"
   ]
  },
  {
   "cell_type": "code",
   "execution_count": 2,
   "metadata": {},
   "outputs": [
    {
     "data": {
      "text/plain": [
       "(6806, 33)"
      ]
     },
     "execution_count": 2,
     "metadata": {},
     "output_type": "execute_result"
    }
   ],
   "source": [
    "df.shape"
   ]
  },
  {
   "cell_type": "markdown",
   "metadata": {},
   "source": [
    "**Filtering data to get only bachelor's-degree granting institutions**"
   ]
  },
  {
   "cell_type": "code",
   "execution_count": 3,
   "metadata": {},
   "outputs": [
    {
     "data": {
      "text/html": [
       "<div>\n",
       "<style scoped>\n",
       "    .dataframe tbody tr th:only-of-type {\n",
       "        vertical-align: middle;\n",
       "    }\n",
       "\n",
       "    .dataframe tbody tr th {\n",
       "        vertical-align: top;\n",
       "    }\n",
       "\n",
       "    .dataframe thead th {\n",
       "        text-align: right;\n",
       "    }\n",
       "</style>\n",
       "<table border=\"1\" class=\"dataframe\">\n",
       "  <thead>\n",
       "    <tr style=\"text-align: right;\">\n",
       "      <th></th>\n",
       "      <th>UNITID</th>\n",
       "      <th>OPEID</th>\n",
       "      <th>INSTNM</th>\n",
       "      <th>CITY</th>\n",
       "      <th>STABBR</th>\n",
       "      <th>ZIP</th>\n",
       "      <th>REGION</th>\n",
       "      <th>CONTROL</th>\n",
       "      <th>ACCREDAGENCY</th>\n",
       "      <th>PREDDEG</th>\n",
       "      <th>...</th>\n",
       "      <th>PPTUG_EF</th>\n",
       "      <th>NPT4_PUB</th>\n",
       "      <th>NPT4_PRIV</th>\n",
       "      <th>INEXPFTE</th>\n",
       "      <th>AVGFACSAL</th>\n",
       "      <th>C150_4</th>\n",
       "      <th>PFTFTUG1_EF</th>\n",
       "      <th>COMPL_RPY_3YR_RT</th>\n",
       "      <th>COMPL_RPY_5YR_RT</th>\n",
       "      <th>MD_EARN_WNE_P10</th>\n",
       "    </tr>\n",
       "  </thead>\n",
       "  <tbody>\n",
       "    <tr>\n",
       "      <th>0</th>\n",
       "      <td>100654</td>\n",
       "      <td>100200</td>\n",
       "      <td>Alabama A &amp; M University</td>\n",
       "      <td>Normal</td>\n",
       "      <td>AL</td>\n",
       "      <td>35762</td>\n",
       "      <td>5</td>\n",
       "      <td>1</td>\n",
       "      <td>Southern Association of Colleges and Schools C...</td>\n",
       "      <td>3</td>\n",
       "      <td>...</td>\n",
       "      <td>0.0587</td>\n",
       "      <td>14444.0</td>\n",
       "      <td>NaN</td>\n",
       "      <td>5384.0</td>\n",
       "      <td>7101.0</td>\n",
       "      <td>0.2685</td>\n",
       "      <td>0.8987</td>\n",
       "      <td>0.429326</td>\n",
       "      <td>0.511318</td>\n",
       "      <td>31000.0</td>\n",
       "    </tr>\n",
       "    <tr>\n",
       "      <th>1</th>\n",
       "      <td>100663</td>\n",
       "      <td>105200</td>\n",
       "      <td>University of Alabama at Birmingham</td>\n",
       "      <td>Birmingham</td>\n",
       "      <td>AL</td>\n",
       "      <td>35294-0110</td>\n",
       "      <td>5</td>\n",
       "      <td>1</td>\n",
       "      <td>Southern Association of Colleges and Schools C...</td>\n",
       "      <td>3</td>\n",
       "      <td>...</td>\n",
       "      <td>0.2425</td>\n",
       "      <td>17005.0</td>\n",
       "      <td>NaN</td>\n",
       "      <td>16454.0</td>\n",
       "      <td>10717.0</td>\n",
       "      <td>0.5829</td>\n",
       "      <td>0.6009</td>\n",
       "      <td>0.618270</td>\n",
       "      <td>0.673330</td>\n",
       "      <td>41200.0</td>\n",
       "    </tr>\n",
       "    <tr>\n",
       "      <th>2</th>\n",
       "      <td>100690</td>\n",
       "      <td>2503400</td>\n",
       "      <td>Amridge University</td>\n",
       "      <td>Montgomery</td>\n",
       "      <td>AL</td>\n",
       "      <td>36117-3553</td>\n",
       "      <td>5</td>\n",
       "      <td>2</td>\n",
       "      <td>Southern Association of Colleges and Schools C...</td>\n",
       "      <td>3</td>\n",
       "      <td>...</td>\n",
       "      <td>0.5014</td>\n",
       "      <td>NaN</td>\n",
       "      <td>15322.0</td>\n",
       "      <td>4206.0</td>\n",
       "      <td>4292.0</td>\n",
       "      <td>0.4000</td>\n",
       "      <td>0.0035</td>\n",
       "      <td>0.439024</td>\n",
       "      <td>0.550725</td>\n",
       "      <td>39600.0</td>\n",
       "    </tr>\n",
       "    <tr>\n",
       "      <th>3</th>\n",
       "      <td>100706</td>\n",
       "      <td>105500</td>\n",
       "      <td>University of Alabama in Huntsville</td>\n",
       "      <td>Huntsville</td>\n",
       "      <td>AL</td>\n",
       "      <td>35899</td>\n",
       "      <td>5</td>\n",
       "      <td>1</td>\n",
       "      <td>Southern Association of Colleges and Schools C...</td>\n",
       "      <td>3</td>\n",
       "      <td>...</td>\n",
       "      <td>0.1443</td>\n",
       "      <td>20909.0</td>\n",
       "      <td>NaN</td>\n",
       "      <td>9242.0</td>\n",
       "      <td>9442.0</td>\n",
       "      <td>0.5187</td>\n",
       "      <td>0.6176</td>\n",
       "      <td>0.680887</td>\n",
       "      <td>0.742248</td>\n",
       "      <td>46700.0</td>\n",
       "    </tr>\n",
       "    <tr>\n",
       "      <th>4</th>\n",
       "      <td>100724</td>\n",
       "      <td>100500</td>\n",
       "      <td>Alabama State University</td>\n",
       "      <td>Montgomery</td>\n",
       "      <td>AL</td>\n",
       "      <td>36104-0271</td>\n",
       "      <td>5</td>\n",
       "      <td>1</td>\n",
       "      <td>Southern Association of Colleges and Schools C...</td>\n",
       "      <td>3</td>\n",
       "      <td>...</td>\n",
       "      <td>0.0666</td>\n",
       "      <td>13043.0</td>\n",
       "      <td>NaN</td>\n",
       "      <td>8527.0</td>\n",
       "      <td>7754.0</td>\n",
       "      <td>0.3001</td>\n",
       "      <td>0.8650</td>\n",
       "      <td>0.366038</td>\n",
       "      <td>0.442308</td>\n",
       "      <td>27700.0</td>\n",
       "    </tr>\n",
       "  </tbody>\n",
       "</table>\n",
       "<p>5 rows × 33 columns</p>\n",
       "</div>"
      ],
      "text/plain": [
       "   UNITID    OPEID                               INSTNM        CITY STABBR  \\\n",
       "0  100654   100200             Alabama A & M University      Normal     AL   \n",
       "1  100663   105200  University of Alabama at Birmingham  Birmingham     AL   \n",
       "2  100690  2503400                   Amridge University  Montgomery     AL   \n",
       "3  100706   105500  University of Alabama in Huntsville  Huntsville     AL   \n",
       "4  100724   100500             Alabama State University  Montgomery     AL   \n",
       "\n",
       "          ZIP  REGION  CONTROL  \\\n",
       "0       35762       5        1   \n",
       "1  35294-0110       5        1   \n",
       "2  36117-3553       5        2   \n",
       "3       35899       5        1   \n",
       "4  36104-0271       5        1   \n",
       "\n",
       "                                        ACCREDAGENCY  PREDDEG  ...  PPTUG_EF  \\\n",
       "0  Southern Association of Colleges and Schools C...        3  ...    0.0587   \n",
       "1  Southern Association of Colleges and Schools C...        3  ...    0.2425   \n",
       "2  Southern Association of Colleges and Schools C...        3  ...    0.5014   \n",
       "3  Southern Association of Colleges and Schools C...        3  ...    0.1443   \n",
       "4  Southern Association of Colleges and Schools C...        3  ...    0.0666   \n",
       "\n",
       "   NPT4_PUB  NPT4_PRIV  INEXPFTE  AVGFACSAL  C150_4  PFTFTUG1_EF  \\\n",
       "0   14444.0        NaN    5384.0     7101.0  0.2685       0.8987   \n",
       "1   17005.0        NaN   16454.0    10717.0  0.5829       0.6009   \n",
       "2       NaN    15322.0    4206.0     4292.0  0.4000       0.0035   \n",
       "3   20909.0        NaN    9242.0     9442.0  0.5187       0.6176   \n",
       "4   13043.0        NaN    8527.0     7754.0  0.3001       0.8650   \n",
       "\n",
       "   COMPL_RPY_3YR_RT  COMPL_RPY_5YR_RT  MD_EARN_WNE_P10  \n",
       "0          0.429326          0.511318          31000.0  \n",
       "1          0.618270          0.673330          41200.0  \n",
       "2          0.439024          0.550725          39600.0  \n",
       "3          0.680887          0.742248          46700.0  \n",
       "4          0.366038          0.442308          27700.0  \n",
       "\n",
       "[5 rows x 33 columns]"
      ]
     },
     "execution_count": 3,
     "metadata": {},
     "output_type": "execute_result"
    }
   ],
   "source": [
    "\n",
    "# Variable of interest for filtering the data frame is PREDDEG == 3, \n",
    "# which referes to Predominantly bachelor's-degree granting\n",
    "\n",
    "df_bachelorsDGI = df[(df['PREDDEG']==3)]\n",
    "df_bachelorsDGI.head()"
   ]
  },
  {
   "cell_type": "code",
   "execution_count": 4,
   "metadata": {},
   "outputs": [
    {
     "data": {
      "text/plain": [
       "9244.0     2\n",
       "15020.0    2\n",
       "17707.0    2\n",
       "13857.0    2\n",
       "15970.0    2\n",
       "          ..\n",
       "9361.0     1\n",
       "12233.0    1\n",
       "16259.0    1\n",
       "19287.0    1\n",
       "6272.0     1\n",
       "Name: NPT4_PUB, Length: 562, dtype: int64"
      ]
     },
     "execution_count": 4,
     "metadata": {},
     "output_type": "execute_result"
    }
   ],
   "source": [
    "df_bachelorsDGI['NPT4_PUB'].value_counts()"
   ]
  },
  {
   "cell_type": "code",
   "execution_count": 5,
   "metadata": {},
   "outputs": [
    {
     "data": {
      "text/plain": [
       "(2058, 33)"
      ]
     },
     "execution_count": 5,
     "metadata": {},
     "output_type": "execute_result"
    }
   ],
   "source": [
    "df_bachelorsDGI.shape\n",
    "\n",
    "# A total of 4,758 observations were filtered out of the df"
   ]
  },
  {
   "cell_type": "code",
   "execution_count": 6,
   "metadata": {},
   "outputs": [
    {
     "name": "stdout",
     "output_type": "stream",
     "text": [
      "<class 'pandas.core.frame.DataFrame'>\n",
      "Int64Index: 2058 entries, 0 to 6322\n",
      "Data columns (total 33 columns):\n",
      " #   Column            Non-Null Count  Dtype  \n",
      "---  ------            --------------  -----  \n",
      " 0   UNITID            2058 non-null   int64  \n",
      " 1   OPEID             2058 non-null   int64  \n",
      " 2   INSTNM            2058 non-null   object \n",
      " 3   CITY              2058 non-null   object \n",
      " 4   STABBR            2058 non-null   object \n",
      " 5   ZIP               2058 non-null   object \n",
      " 6   REGION            2058 non-null   int64  \n",
      " 7   CONTROL           2058 non-null   int64  \n",
      " 8   ACCREDAGENCY      2018 non-null   object \n",
      " 9   PREDDEG           2058 non-null   int64  \n",
      " 10  HIGHDEG           2058 non-null   int64  \n",
      " 11  LOCALE            2058 non-null   float64\n",
      " 12  CCSIZSET          2058 non-null   float64\n",
      " 13  HBCU              2058 non-null   float64\n",
      " 14  ADM_RATE          1669 non-null   float64\n",
      " 15  SATVRMID          1204 non-null   float64\n",
      " 16  SATMTMID          1207 non-null   float64\n",
      " 17  SATWRMID          716 non-null    float64\n",
      " 18  SAT_AVG           1258 non-null   float64\n",
      " 19  ACTCMMID          1236 non-null   float64\n",
      " 20  ACTENMID          1163 non-null   float64\n",
      " 21  ACTMTMID          1163 non-null   float64\n",
      " 22  ACTWRMID          318 non-null    float64\n",
      " 23  PPTUG_EF          2052 non-null   float64\n",
      " 24  NPT4_PUB          570 non-null    float64\n",
      " 25  NPT4_PRIV         1300 non-null   float64\n",
      " 26  INEXPFTE          2055 non-null   float64\n",
      " 27  AVGFACSAL         1996 non-null   float64\n",
      " 28  C150_4            1897 non-null   float64\n",
      " 29  PFTFTUG1_EF       1903 non-null   float64\n",
      " 30  COMPL_RPY_3YR_RT  1780 non-null   float64\n",
      " 31  COMPL_RPY_5YR_RT  1730 non-null   float64\n",
      " 32  MD_EARN_WNE_P10   1805 non-null   float64\n",
      "dtypes: float64(22), int64(6), object(5)\n",
      "memory usage: 546.7+ KB\n"
     ]
    }
   ],
   "source": [
    "df_bachelorsDGI.info()"
   ]
  },
  {
   "cell_type": "code",
   "execution_count": 7,
   "metadata": {},
   "outputs": [
    {
     "name": "stdout",
     "output_type": "stream",
     "text": [
      "UNITID                 0\n",
      "OPEID                  0\n",
      "INSTNM                 0\n",
      "CITY                   0\n",
      "STABBR                 0\n",
      "ZIP                    0\n",
      "REGION                 0\n",
      "CONTROL                0\n",
      "ACCREDAGENCY          40\n",
      "PREDDEG                0\n",
      "HIGHDEG                0\n",
      "LOCALE                 0\n",
      "CCSIZSET               0\n",
      "HBCU                   0\n",
      "ADM_RATE             389\n",
      "SATVRMID             854\n",
      "SATMTMID             851\n",
      "SATWRMID            1342\n",
      "SAT_AVG              800\n",
      "ACTCMMID             822\n",
      "ACTENMID             895\n",
      "ACTMTMID             895\n",
      "ACTWRMID            1740\n",
      "PPTUG_EF               6\n",
      "NPT4_PUB            1488\n",
      "NPT4_PRIV            758\n",
      "INEXPFTE               3\n",
      "AVGFACSAL             62\n",
      "C150_4               161\n",
      "PFTFTUG1_EF          155\n",
      "COMPL_RPY_3YR_RT     278\n",
      "COMPL_RPY_5YR_RT     328\n",
      "MD_EARN_WNE_P10      253\n",
      "dtype: int64\n"
     ]
    }
   ],
   "source": [
    "# Based on the gotten results, there are several numerical columns with a significant amount of null-values\n",
    "# and a categorical variable with missing values \n",
    "\n",
    "#Summarizing the number of null values per column\n",
    "\n",
    "print(df_bachelorsDGI.isnull().sum())"
   ]
  },
  {
   "cell_type": "code",
   "execution_count": 8,
   "metadata": {},
   "outputs": [
    {
     "data": {
      "text/plain": [
       "UNITID              0.000000\n",
       "OPEID               0.000000\n",
       "INSTNM              0.000000\n",
       "CITY                0.000000\n",
       "STABBR              0.000000\n",
       "ZIP                 0.000000\n",
       "REGION              0.000000\n",
       "CONTROL             0.000000\n",
       "ACCREDAGENCY        0.019436\n",
       "PREDDEG             0.000000\n",
       "HIGHDEG             0.000000\n",
       "LOCALE              0.000000\n",
       "CCSIZSET            0.000000\n",
       "HBCU                0.000000\n",
       "ADM_RATE            0.189018\n",
       "SATVRMID            0.414966\n",
       "SATMTMID            0.413508\n",
       "SATWRMID            0.652089\n",
       "SAT_AVG             0.388727\n",
       "ACTCMMID            0.399417\n",
       "ACTENMID            0.434888\n",
       "ACTMTMID            0.434888\n",
       "ACTWRMID            0.845481\n",
       "PPTUG_EF            0.002915\n",
       "NPT4_PUB            0.723032\n",
       "NPT4_PRIV           0.368319\n",
       "INEXPFTE            0.001458\n",
       "AVGFACSAL           0.030126\n",
       "C150_4              0.078231\n",
       "PFTFTUG1_EF         0.075316\n",
       "COMPL_RPY_3YR_RT    0.135083\n",
       "COMPL_RPY_5YR_RT    0.159378\n",
       "MD_EARN_WNE_P10     0.122935\n",
       "dtype: float64"
      ]
     },
     "execution_count": 8,
     "metadata": {},
     "output_type": "execute_result"
    }
   ],
   "source": [
    "#To determine the percentage of missing values in each column of the dataset; divide it by the len of the df,\n",
    "\n",
    "df_bachelorsDGI.isnull().sum()/len(df_bachelorsDGI)"
   ]
  },
  {
   "cell_type": "markdown",
   "metadata": {},
   "source": [
    "**Dropping variables with >= 40% of missing values**"
   ]
  },
  {
   "cell_type": "code",
   "execution_count": 9,
   "metadata": {},
   "outputs": [
    {
     "data": {
      "text/html": [
       "<div>\n",
       "<style scoped>\n",
       "    .dataframe tbody tr th:only-of-type {\n",
       "        vertical-align: middle;\n",
       "    }\n",
       "\n",
       "    .dataframe tbody tr th {\n",
       "        vertical-align: top;\n",
       "    }\n",
       "\n",
       "    .dataframe thead th {\n",
       "        text-align: right;\n",
       "    }\n",
       "</style>\n",
       "<table border=\"1\" class=\"dataframe\">\n",
       "  <thead>\n",
       "    <tr style=\"text-align: right;\">\n",
       "      <th></th>\n",
       "      <th>UNITID</th>\n",
       "      <th>OPEID</th>\n",
       "      <th>INSTNM</th>\n",
       "      <th>CITY</th>\n",
       "      <th>STABBR</th>\n",
       "      <th>ZIP</th>\n",
       "      <th>REGION</th>\n",
       "      <th>CONTROL</th>\n",
       "      <th>ACCREDAGENCY</th>\n",
       "      <th>PREDDEG</th>\n",
       "      <th>...</th>\n",
       "      <th>ACTCMMID</th>\n",
       "      <th>PPTUG_EF</th>\n",
       "      <th>NPT4_PRIV</th>\n",
       "      <th>INEXPFTE</th>\n",
       "      <th>AVGFACSAL</th>\n",
       "      <th>C150_4</th>\n",
       "      <th>PFTFTUG1_EF</th>\n",
       "      <th>COMPL_RPY_3YR_RT</th>\n",
       "      <th>COMPL_RPY_5YR_RT</th>\n",
       "      <th>MD_EARN_WNE_P10</th>\n",
       "    </tr>\n",
       "  </thead>\n",
       "  <tbody>\n",
       "    <tr>\n",
       "      <th>0</th>\n",
       "      <td>100654</td>\n",
       "      <td>100200</td>\n",
       "      <td>Alabama A &amp; M University</td>\n",
       "      <td>Normal</td>\n",
       "      <td>AL</td>\n",
       "      <td>35762</td>\n",
       "      <td>5</td>\n",
       "      <td>1</td>\n",
       "      <td>Southern Association of Colleges and Schools C...</td>\n",
       "      <td>3</td>\n",
       "      <td>...</td>\n",
       "      <td>18.0</td>\n",
       "      <td>0.0587</td>\n",
       "      <td>NaN</td>\n",
       "      <td>5384.0</td>\n",
       "      <td>7101.0</td>\n",
       "      <td>0.2685</td>\n",
       "      <td>0.8987</td>\n",
       "      <td>0.429326</td>\n",
       "      <td>0.511318</td>\n",
       "      <td>31000.0</td>\n",
       "    </tr>\n",
       "    <tr>\n",
       "      <th>1</th>\n",
       "      <td>100663</td>\n",
       "      <td>105200</td>\n",
       "      <td>University of Alabama at Birmingham</td>\n",
       "      <td>Birmingham</td>\n",
       "      <td>AL</td>\n",
       "      <td>35294-0110</td>\n",
       "      <td>5</td>\n",
       "      <td>1</td>\n",
       "      <td>Southern Association of Colleges and Schools C...</td>\n",
       "      <td>3</td>\n",
       "      <td>...</td>\n",
       "      <td>25.0</td>\n",
       "      <td>0.2425</td>\n",
       "      <td>NaN</td>\n",
       "      <td>16454.0</td>\n",
       "      <td>10717.0</td>\n",
       "      <td>0.5829</td>\n",
       "      <td>0.6009</td>\n",
       "      <td>0.618270</td>\n",
       "      <td>0.673330</td>\n",
       "      <td>41200.0</td>\n",
       "    </tr>\n",
       "    <tr>\n",
       "      <th>2</th>\n",
       "      <td>100690</td>\n",
       "      <td>2503400</td>\n",
       "      <td>Amridge University</td>\n",
       "      <td>Montgomery</td>\n",
       "      <td>AL</td>\n",
       "      <td>36117-3553</td>\n",
       "      <td>5</td>\n",
       "      <td>2</td>\n",
       "      <td>Southern Association of Colleges and Schools C...</td>\n",
       "      <td>3</td>\n",
       "      <td>...</td>\n",
       "      <td>NaN</td>\n",
       "      <td>0.5014</td>\n",
       "      <td>15322.0</td>\n",
       "      <td>4206.0</td>\n",
       "      <td>4292.0</td>\n",
       "      <td>0.4000</td>\n",
       "      <td>0.0035</td>\n",
       "      <td>0.439024</td>\n",
       "      <td>0.550725</td>\n",
       "      <td>39600.0</td>\n",
       "    </tr>\n",
       "    <tr>\n",
       "      <th>3</th>\n",
       "      <td>100706</td>\n",
       "      <td>105500</td>\n",
       "      <td>University of Alabama in Huntsville</td>\n",
       "      <td>Huntsville</td>\n",
       "      <td>AL</td>\n",
       "      <td>35899</td>\n",
       "      <td>5</td>\n",
       "      <td>1</td>\n",
       "      <td>Southern Association of Colleges and Schools C...</td>\n",
       "      <td>3</td>\n",
       "      <td>...</td>\n",
       "      <td>28.0</td>\n",
       "      <td>0.1443</td>\n",
       "      <td>NaN</td>\n",
       "      <td>9242.0</td>\n",
       "      <td>9442.0</td>\n",
       "      <td>0.5187</td>\n",
       "      <td>0.6176</td>\n",
       "      <td>0.680887</td>\n",
       "      <td>0.742248</td>\n",
       "      <td>46700.0</td>\n",
       "    </tr>\n",
       "    <tr>\n",
       "      <th>4</th>\n",
       "      <td>100724</td>\n",
       "      <td>100500</td>\n",
       "      <td>Alabama State University</td>\n",
       "      <td>Montgomery</td>\n",
       "      <td>AL</td>\n",
       "      <td>36104-0271</td>\n",
       "      <td>5</td>\n",
       "      <td>1</td>\n",
       "      <td>Southern Association of Colleges and Schools C...</td>\n",
       "      <td>3</td>\n",
       "      <td>...</td>\n",
       "      <td>18.0</td>\n",
       "      <td>0.0666</td>\n",
       "      <td>NaN</td>\n",
       "      <td>8527.0</td>\n",
       "      <td>7754.0</td>\n",
       "      <td>0.3001</td>\n",
       "      <td>0.8650</td>\n",
       "      <td>0.366038</td>\n",
       "      <td>0.442308</td>\n",
       "      <td>27700.0</td>\n",
       "    </tr>\n",
       "  </tbody>\n",
       "</table>\n",
       "<p>5 rows × 26 columns</p>\n",
       "</div>"
      ],
      "text/plain": [
       "   UNITID    OPEID                               INSTNM        CITY STABBR  \\\n",
       "0  100654   100200             Alabama A & M University      Normal     AL   \n",
       "1  100663   105200  University of Alabama at Birmingham  Birmingham     AL   \n",
       "2  100690  2503400                   Amridge University  Montgomery     AL   \n",
       "3  100706   105500  University of Alabama in Huntsville  Huntsville     AL   \n",
       "4  100724   100500             Alabama State University  Montgomery     AL   \n",
       "\n",
       "          ZIP  REGION  CONTROL  \\\n",
       "0       35762       5        1   \n",
       "1  35294-0110       5        1   \n",
       "2  36117-3553       5        2   \n",
       "3       35899       5        1   \n",
       "4  36104-0271       5        1   \n",
       "\n",
       "                                        ACCREDAGENCY  PREDDEG  ...  ACTCMMID  \\\n",
       "0  Southern Association of Colleges and Schools C...        3  ...      18.0   \n",
       "1  Southern Association of Colleges and Schools C...        3  ...      25.0   \n",
       "2  Southern Association of Colleges and Schools C...        3  ...       NaN   \n",
       "3  Southern Association of Colleges and Schools C...        3  ...      28.0   \n",
       "4  Southern Association of Colleges and Schools C...        3  ...      18.0   \n",
       "\n",
       "   PPTUG_EF  NPT4_PRIV  INEXPFTE  AVGFACSAL  C150_4  PFTFTUG1_EF  \\\n",
       "0    0.0587        NaN    5384.0     7101.0  0.2685       0.8987   \n",
       "1    0.2425        NaN   16454.0    10717.0  0.5829       0.6009   \n",
       "2    0.5014    15322.0    4206.0     4292.0  0.4000       0.0035   \n",
       "3    0.1443        NaN    9242.0     9442.0  0.5187       0.6176   \n",
       "4    0.0666        NaN    8527.0     7754.0  0.3001       0.8650   \n",
       "\n",
       "   COMPL_RPY_3YR_RT  COMPL_RPY_5YR_RT  MD_EARN_WNE_P10  \n",
       "0          0.429326          0.511318          31000.0  \n",
       "1          0.618270          0.673330          41200.0  \n",
       "2          0.439024          0.550725          39600.0  \n",
       "3          0.680887          0.742248          46700.0  \n",
       "4          0.366038          0.442308          27700.0  \n",
       "\n",
       "[5 rows x 26 columns]"
      ]
     },
     "execution_count": 9,
     "metadata": {},
     "output_type": "execute_result"
    }
   ],
   "source": [
    "# Based on what I was told at School, Variables with >= 40% of missing values should be drop from the dataset or \n",
    "# Dataframe in this case because if I impute over 40% of missing values it could bias the dataset and \n",
    "# so the results would not be that objective or significant. \n",
    "   \n",
    "df_bachelorsDGI_dropped = df_bachelorsDGI.drop(['SATVRMID','SATMTMID','SATWRMID','ACTENMID','ACTMTMID','ACTWRMID','NPT4_PUB'],axis=1)\n",
    "df_bachelorsDGI_dropped.head()"
   ]
  },
  {
   "cell_type": "code",
   "execution_count": 10,
   "metadata": {},
   "outputs": [
    {
     "name": "stdout",
     "output_type": "stream",
     "text": [
      "<class 'pandas.core.frame.DataFrame'>\n",
      "Int64Index: 2058 entries, 0 to 6322\n",
      "Data columns (total 26 columns):\n",
      " #   Column            Non-Null Count  Dtype  \n",
      "---  ------            --------------  -----  \n",
      " 0   UNITID            2058 non-null   int64  \n",
      " 1   OPEID             2058 non-null   int64  \n",
      " 2   INSTNM            2058 non-null   object \n",
      " 3   CITY              2058 non-null   object \n",
      " 4   STABBR            2058 non-null   object \n",
      " 5   ZIP               2058 non-null   object \n",
      " 6   REGION            2058 non-null   int64  \n",
      " 7   CONTROL           2058 non-null   int64  \n",
      " 8   ACCREDAGENCY      2018 non-null   object \n",
      " 9   PREDDEG           2058 non-null   int64  \n",
      " 10  HIGHDEG           2058 non-null   int64  \n",
      " 11  LOCALE            2058 non-null   float64\n",
      " 12  CCSIZSET          2058 non-null   float64\n",
      " 13  HBCU              2058 non-null   float64\n",
      " 14  ADM_RATE          1669 non-null   float64\n",
      " 15  SAT_AVG           1258 non-null   float64\n",
      " 16  ACTCMMID          1236 non-null   float64\n",
      " 17  PPTUG_EF          2052 non-null   float64\n",
      " 18  NPT4_PRIV         1300 non-null   float64\n",
      " 19  INEXPFTE          2055 non-null   float64\n",
      " 20  AVGFACSAL         1996 non-null   float64\n",
      " 21  C150_4            1897 non-null   float64\n",
      " 22  PFTFTUG1_EF       1903 non-null   float64\n",
      " 23  COMPL_RPY_3YR_RT  1780 non-null   float64\n",
      " 24  COMPL_RPY_5YR_RT  1730 non-null   float64\n",
      " 25  MD_EARN_WNE_P10   1805 non-null   float64\n",
      "dtypes: float64(15), int64(6), object(5)\n",
      "memory usage: 434.1+ KB\n"
     ]
    }
   ],
   "source": [
    "df_bachelorsDGI_dropped.info()"
   ]
  },
  {
   "cell_type": "code",
   "execution_count": 11,
   "metadata": {},
   "outputs": [
    {
     "name": "stdout",
     "output_type": "stream",
     "text": [
      "Requirement already satisfied: scikit-learn in /Users/leonardo/opt/anaconda3/lib/python3.8/site-packages (1.0.2)\n",
      "Requirement already satisfied: threadpoolctl>=2.0.0 in /Users/leonardo/opt/anaconda3/lib/python3.8/site-packages (from scikit-learn) (2.1.0)\n",
      "Requirement already satisfied: scipy>=1.1.0 in /Users/leonardo/opt/anaconda3/lib/python3.8/site-packages (from scikit-learn) (1.5.2)\n",
      "Requirement already satisfied: joblib>=0.11 in /Users/leonardo/opt/anaconda3/lib/python3.8/site-packages (from scikit-learn) (0.17.0)\n",
      "Requirement already satisfied: numpy>=1.14.6 in /Users/leonardo/opt/anaconda3/lib/python3.8/site-packages (from scikit-learn) (1.19.2)\n",
      "Note: you may need to restart the kernel to use updated packages.\n"
     ]
    }
   ],
   "source": [
    " pip install -U scikit-learn"
   ]
  },
  {
   "cell_type": "code",
   "execution_count": 12,
   "metadata": {},
   "outputs": [
    {
     "name": "stdout",
     "output_type": "stream",
     "text": [
      "Requirement already satisfied: pip in /Users/leonardo/opt/anaconda3/lib/python3.8/site-packages (22.0.2)\n",
      "Note: you may need to restart the kernel to use updated packages.\n"
     ]
    }
   ],
   "source": [
    "pip install --upgrade pip"
   ]
  },
  {
   "cell_type": "code",
   "execution_count": 13,
   "metadata": {},
   "outputs": [
    {
     "data": {
      "text/plain": [
       "Higher Learning Commission                                                               622\n",
       "Southern Association of Colleges and Schools Commission on Colleges                      449\n",
       "Middle States Commission on Higher Education                                             378\n",
       "New England Commission on Higher Education                                               157\n",
       "Western Association of Schools and Colleges Senior Colleges and University Commission    130\n",
       "Northwest Commission on Colleges and Universities                                         83\n",
       "Association of Advanced Rabbinical and Talmudic Schools                                   61\n",
       "Association for Bibical Higher Educaiton                                                  41\n",
       "Transnational Association of Christian Colleges and Schools                               30\n",
       "Accrediting Commission of Career Schools and Colleges                                     25\n",
       "Distance Education Accrediting Commission                                                 10\n",
       "Association of Institutions of Jewish Studies                                              9\n",
       "Accrediting Council for Independent Colleges and Schools                                   9\n",
       "Accrediting Bureau of Health Education Schools                                             5\n",
       "National Association of Schools of Arts and Design                                         3\n",
       "National Association of Schools of Music                                                   2\n",
       "Midwifery Education Accreditation Council                                                  1\n",
       "EXEMPT                                                                                     1\n",
       "Council on Occupational Education                                                          1\n",
       "Accrediting Commission for Acupuncture and Oriental Medicine                               1\n",
       "Name: ACCREDAGENCY, dtype: int64"
      ]
     },
     "execution_count": 13,
     "metadata": {},
     "output_type": "execute_result"
    }
   ],
   "source": [
    "df_bachelorsDGI_dropped['ACCREDAGENCY'].value_counts()\n"
   ]
  },
  {
   "cell_type": "markdown",
   "metadata": {},
   "source": [
    "**Imputing missing values on Categorical Variable**"
   ]
  },
  {
   "cell_type": "code",
   "execution_count": 14,
   "metadata": {},
   "outputs": [],
   "source": [
    "# missing values were place into the category missing \n",
    "\n",
    "df_bachelorsDGI_dropped['ACCREDAGENCY'].fillna('missing', inplace = True)"
   ]
  },
  {
   "cell_type": "code",
   "execution_count": 15,
   "metadata": {},
   "outputs": [
    {
     "data": {
      "text/plain": [
       "Higher Learning Commission                                                               622\n",
       "Southern Association of Colleges and Schools Commission on Colleges                      449\n",
       "Middle States Commission on Higher Education                                             378\n",
       "New England Commission on Higher Education                                               157\n",
       "Western Association of Schools and Colleges Senior Colleges and University Commission    130\n",
       "Northwest Commission on Colleges and Universities                                         83\n",
       "Association of Advanced Rabbinical and Talmudic Schools                                   61\n",
       "Association for Bibical Higher Educaiton                                                  41\n",
       "missing                                                                                   40\n",
       "Transnational Association of Christian Colleges and Schools                               30\n",
       "Accrediting Commission of Career Schools and Colleges                                     25\n",
       "Distance Education Accrediting Commission                                                 10\n",
       "Association of Institutions of Jewish Studies                                              9\n",
       "Accrediting Council for Independent Colleges and Schools                                   9\n",
       "Accrediting Bureau of Health Education Schools                                             5\n",
       "National Association of Schools of Arts and Design                                         3\n",
       "National Association of Schools of Music                                                   2\n",
       "Midwifery Education Accreditation Council                                                  1\n",
       "EXEMPT                                                                                     1\n",
       "Council on Occupational Education                                                          1\n",
       "Accrediting Commission for Acupuncture and Oriental Medicine                               1\n",
       "Name: ACCREDAGENCY, dtype: int64"
      ]
     },
     "execution_count": 15,
     "metadata": {},
     "output_type": "execute_result"
    }
   ],
   "source": [
    "df_bachelorsDGI_dropped['ACCREDAGENCY'].value_counts()"
   ]
  },
  {
   "cell_type": "code",
   "execution_count": 16,
   "metadata": {},
   "outputs": [
    {
     "name": "stdout",
     "output_type": "stream",
     "text": [
      "<class 'pandas.core.frame.DataFrame'>\n",
      "Int64Index: 2058 entries, 0 to 6322\n",
      "Data columns (total 26 columns):\n",
      " #   Column            Non-Null Count  Dtype  \n",
      "---  ------            --------------  -----  \n",
      " 0   UNITID            2058 non-null   int64  \n",
      " 1   OPEID             2058 non-null   int64  \n",
      " 2   INSTNM            2058 non-null   object \n",
      " 3   CITY              2058 non-null   object \n",
      " 4   STABBR            2058 non-null   object \n",
      " 5   ZIP               2058 non-null   object \n",
      " 6   REGION            2058 non-null   int64  \n",
      " 7   CONTROL           2058 non-null   int64  \n",
      " 8   ACCREDAGENCY      2058 non-null   object \n",
      " 9   PREDDEG           2058 non-null   int64  \n",
      " 10  HIGHDEG           2058 non-null   int64  \n",
      " 11  LOCALE            2058 non-null   float64\n",
      " 12  CCSIZSET          2058 non-null   float64\n",
      " 13  HBCU              2058 non-null   float64\n",
      " 14  ADM_RATE          1669 non-null   float64\n",
      " 15  SAT_AVG           1258 non-null   float64\n",
      " 16  ACTCMMID          1236 non-null   float64\n",
      " 17  PPTUG_EF          2052 non-null   float64\n",
      " 18  NPT4_PRIV         1300 non-null   float64\n",
      " 19  INEXPFTE          2055 non-null   float64\n",
      " 20  AVGFACSAL         1996 non-null   float64\n",
      " 21  C150_4            1897 non-null   float64\n",
      " 22  PFTFTUG1_EF       1903 non-null   float64\n",
      " 23  COMPL_RPY_3YR_RT  1780 non-null   float64\n",
      " 24  COMPL_RPY_5YR_RT  1730 non-null   float64\n",
      " 25  MD_EARN_WNE_P10   1805 non-null   float64\n",
      "dtypes: float64(15), int64(6), object(5)\n",
      "memory usage: 434.1+ KB\n"
     ]
    }
   ],
   "source": [
    "df_bachelorsDGI_dropped.info()"
   ]
  },
  {
   "cell_type": "code",
   "execution_count": 17,
   "metadata": {},
   "outputs": [
    {
     "data": {
      "text/plain": [
       "Higher Learning Commission                                                               622\n",
       "Southern Association of Colleges and Schools Commission on Colleges                      449\n",
       "Middle States Commission on Higher Education                                             378\n",
       "New England Commission on Higher Education                                               157\n",
       "Western Association of Schools and Colleges Senior Colleges and University Commission    130\n",
       "Northwest Commission on Colleges and Universities                                         83\n",
       "Association of Advanced Rabbinical and Talmudic Schools                                   61\n",
       "Association for Bibical Higher Educaiton                                                  41\n",
       "missing                                                                                   40\n",
       "Transnational Association of Christian Colleges and Schools                               30\n",
       "Accrediting Commission of Career Schools and Colleges                                     25\n",
       "Distance Education Accrediting Commission                                                 10\n",
       "Association of Institutions of Jewish Studies                                              9\n",
       "Accrediting Council for Independent Colleges and Schools                                   9\n",
       "Accrediting Bureau of Health Education Schools                                             5\n",
       "National Association of Schools of Arts and Design                                         3\n",
       "National Association of Schools of Music                                                   2\n",
       "Midwifery Education Accreditation Council                                                  1\n",
       "EXEMPT                                                                                     1\n",
       "Council on Occupational Education                                                          1\n",
       "Accrediting Commission for Acupuncture and Oriental Medicine                               1\n",
       "Name: ACCREDAGENCY, dtype: int64"
      ]
     },
     "execution_count": 17,
     "metadata": {},
     "output_type": "execute_result"
    }
   ],
   "source": [
    "df_bachelorsDGI_dropped['ACCREDAGENCY'].value_counts()"
   ]
  },
  {
   "cell_type": "code",
   "execution_count": 18,
   "metadata": {},
   "outputs": [
    {
     "data": {
      "text/html": [
       "<div>\n",
       "<style scoped>\n",
       "    .dataframe tbody tr th:only-of-type {\n",
       "        vertical-align: middle;\n",
       "    }\n",
       "\n",
       "    .dataframe tbody tr th {\n",
       "        vertical-align: top;\n",
       "    }\n",
       "\n",
       "    .dataframe thead th {\n",
       "        text-align: right;\n",
       "    }\n",
       "</style>\n",
       "<table border=\"1\" class=\"dataframe\">\n",
       "  <thead>\n",
       "    <tr style=\"text-align: right;\">\n",
       "      <th></th>\n",
       "      <th>INSTNM</th>\n",
       "      <th>CITY</th>\n",
       "      <th>STABBR</th>\n",
       "      <th>ZIP</th>\n",
       "      <th>ACCREDAGENCY</th>\n",
       "      <th>UNITID</th>\n",
       "    </tr>\n",
       "  </thead>\n",
       "  <tbody>\n",
       "    <tr>\n",
       "      <th>0</th>\n",
       "      <td>Alabama A &amp; M University</td>\n",
       "      <td>Normal</td>\n",
       "      <td>AL</td>\n",
       "      <td>35762</td>\n",
       "      <td>Southern Association of Colleges and Schools C...</td>\n",
       "      <td>100654</td>\n",
       "    </tr>\n",
       "    <tr>\n",
       "      <th>1</th>\n",
       "      <td>University of Alabama at Birmingham</td>\n",
       "      <td>Birmingham</td>\n",
       "      <td>AL</td>\n",
       "      <td>35294-0110</td>\n",
       "      <td>Southern Association of Colleges and Schools C...</td>\n",
       "      <td>100663</td>\n",
       "    </tr>\n",
       "    <tr>\n",
       "      <th>2</th>\n",
       "      <td>Amridge University</td>\n",
       "      <td>Montgomery</td>\n",
       "      <td>AL</td>\n",
       "      <td>36117-3553</td>\n",
       "      <td>Southern Association of Colleges and Schools C...</td>\n",
       "      <td>100690</td>\n",
       "    </tr>\n",
       "    <tr>\n",
       "      <th>3</th>\n",
       "      <td>University of Alabama in Huntsville</td>\n",
       "      <td>Huntsville</td>\n",
       "      <td>AL</td>\n",
       "      <td>35899</td>\n",
       "      <td>Southern Association of Colleges and Schools C...</td>\n",
       "      <td>100706</td>\n",
       "    </tr>\n",
       "    <tr>\n",
       "      <th>4</th>\n",
       "      <td>Alabama State University</td>\n",
       "      <td>Montgomery</td>\n",
       "      <td>AL</td>\n",
       "      <td>36104-0271</td>\n",
       "      <td>Southern Association of Colleges and Schools C...</td>\n",
       "      <td>100724</td>\n",
       "    </tr>\n",
       "  </tbody>\n",
       "</table>\n",
       "</div>"
      ],
      "text/plain": [
       "                                INSTNM        CITY STABBR         ZIP  \\\n",
       "0             Alabama A & M University      Normal     AL       35762   \n",
       "1  University of Alabama at Birmingham  Birmingham     AL  35294-0110   \n",
       "2                   Amridge University  Montgomery     AL  36117-3553   \n",
       "3  University of Alabama in Huntsville  Huntsville     AL       35899   \n",
       "4             Alabama State University  Montgomery     AL  36104-0271   \n",
       "\n",
       "                                        ACCREDAGENCY  UNITID  \n",
       "0  Southern Association of Colleges and Schools C...  100654  \n",
       "1  Southern Association of Colleges and Schools C...  100663  \n",
       "2  Southern Association of Colleges and Schools C...  100690  \n",
       "3  Southern Association of Colleges and Schools C...  100706  \n",
       "4  Southern Association of Colleges and Schools C...  100724  "
      ]
     },
     "execution_count": 18,
     "metadata": {},
     "output_type": "execute_result"
    }
   ],
   "source": [
    "#Splitting Numeric from Categorical variables to later on impute missing values in numeric variables, but leaving\n",
    "# a unique identifier a common attribute to later merge the dataframes\n",
    "\n",
    "Categ_Var = df_bachelorsDGI_dropped[[\"INSTNM\",\"CITY\", \"STABBR\", \"ZIP\", \"ACCREDAGENCY\",\"UNITID\"]]\n",
    "Categ_Var.head()"
   ]
  },
  {
   "cell_type": "code",
   "execution_count": 19,
   "metadata": {},
   "outputs": [
    {
     "name": "stdout",
     "output_type": "stream",
     "text": [
      "<class 'pandas.core.frame.DataFrame'>\n",
      "Int64Index: 2058 entries, 0 to 6322\n",
      "Data columns (total 6 columns):\n",
      " #   Column        Non-Null Count  Dtype \n",
      "---  ------        --------------  ----- \n",
      " 0   INSTNM        2058 non-null   object\n",
      " 1   CITY          2058 non-null   object\n",
      " 2   STABBR        2058 non-null   object\n",
      " 3   ZIP           2058 non-null   object\n",
      " 4   ACCREDAGENCY  2058 non-null   object\n",
      " 5   UNITID        2058 non-null   int64 \n",
      "dtypes: int64(1), object(5)\n",
      "memory usage: 112.5+ KB\n"
     ]
    }
   ],
   "source": [
    "Categ_Var.info()"
   ]
  },
  {
   "cell_type": "code",
   "execution_count": 20,
   "metadata": {},
   "outputs": [
    {
     "data": {
      "text/html": [
       "<div>\n",
       "<style scoped>\n",
       "    .dataframe tbody tr th:only-of-type {\n",
       "        vertical-align: middle;\n",
       "    }\n",
       "\n",
       "    .dataframe tbody tr th {\n",
       "        vertical-align: top;\n",
       "    }\n",
       "\n",
       "    .dataframe thead th {\n",
       "        text-align: right;\n",
       "    }\n",
       "</style>\n",
       "<table border=\"1\" class=\"dataframe\">\n",
       "  <thead>\n",
       "    <tr style=\"text-align: right;\">\n",
       "      <th></th>\n",
       "      <th>INSTNM</th>\n",
       "      <th>CITY</th>\n",
       "      <th>STABBR</th>\n",
       "      <th>ZIP</th>\n",
       "      <th>ACCREDAGENCY</th>\n",
       "      <th>UNITID</th>\n",
       "    </tr>\n",
       "  </thead>\n",
       "  <tbody>\n",
       "    <tr>\n",
       "      <th>0</th>\n",
       "      <td>Alabama A &amp; M University</td>\n",
       "      <td>Normal</td>\n",
       "      <td>AL</td>\n",
       "      <td>35762</td>\n",
       "      <td>Southern Association of Colleges and Schools C...</td>\n",
       "      <td>100654</td>\n",
       "    </tr>\n",
       "    <tr>\n",
       "      <th>1</th>\n",
       "      <td>University of Alabama at Birmingham</td>\n",
       "      <td>Birmingham</td>\n",
       "      <td>AL</td>\n",
       "      <td>35294-0110</td>\n",
       "      <td>Southern Association of Colleges and Schools C...</td>\n",
       "      <td>100663</td>\n",
       "    </tr>\n",
       "    <tr>\n",
       "      <th>2</th>\n",
       "      <td>Amridge University</td>\n",
       "      <td>Montgomery</td>\n",
       "      <td>AL</td>\n",
       "      <td>36117-3553</td>\n",
       "      <td>Southern Association of Colleges and Schools C...</td>\n",
       "      <td>100690</td>\n",
       "    </tr>\n",
       "    <tr>\n",
       "      <th>3</th>\n",
       "      <td>University of Alabama in Huntsville</td>\n",
       "      <td>Huntsville</td>\n",
       "      <td>AL</td>\n",
       "      <td>35899</td>\n",
       "      <td>Southern Association of Colleges and Schools C...</td>\n",
       "      <td>100706</td>\n",
       "    </tr>\n",
       "    <tr>\n",
       "      <th>4</th>\n",
       "      <td>Alabama State University</td>\n",
       "      <td>Montgomery</td>\n",
       "      <td>AL</td>\n",
       "      <td>36104-0271</td>\n",
       "      <td>Southern Association of Colleges and Schools C...</td>\n",
       "      <td>100724</td>\n",
       "    </tr>\n",
       "  </tbody>\n",
       "</table>\n",
       "</div>"
      ],
      "text/plain": [
       "                                INSTNM        CITY STABBR         ZIP  \\\n",
       "0             Alabama A & M University      Normal     AL       35762   \n",
       "1  University of Alabama at Birmingham  Birmingham     AL  35294-0110   \n",
       "2                   Amridge University  Montgomery     AL  36117-3553   \n",
       "3  University of Alabama in Huntsville  Huntsville     AL       35899   \n",
       "4             Alabama State University  Montgomery     AL  36104-0271   \n",
       "\n",
       "                                        ACCREDAGENCY  UNITID  \n",
       "0  Southern Association of Colleges and Schools C...  100654  \n",
       "1  Southern Association of Colleges and Schools C...  100663  \n",
       "2  Southern Association of Colleges and Schools C...  100690  \n",
       "3  Southern Association of Colleges and Schools C...  100706  \n",
       "4  Southern Association of Colleges and Schools C...  100724  "
      ]
     },
     "execution_count": 20,
     "metadata": {},
     "output_type": "execute_result"
    }
   ],
   "source": [
    "Categ_Var.head()"
   ]
  },
  {
   "cell_type": "code",
   "execution_count": 21,
   "metadata": {},
   "outputs": [
    {
     "name": "stdout",
     "output_type": "stream",
     "text": [
      "<class 'pandas.core.frame.DataFrame'>\n",
      "Int64Index: 2058 entries, 0 to 6322\n",
      "Data columns (total 6 columns):\n",
      " #   Column        Non-Null Count  Dtype \n",
      "---  ------        --------------  ----- \n",
      " 0   INSTNM        2058 non-null   object\n",
      " 1   CITY          2058 non-null   object\n",
      " 2   STABBR        2058 non-null   object\n",
      " 3   ZIP           2058 non-null   object\n",
      " 4   ACCREDAGENCY  2058 non-null   object\n",
      " 5   UNITID        2058 non-null   int64 \n",
      "dtypes: int64(1), object(5)\n",
      "memory usage: 112.5+ KB\n"
     ]
    }
   ],
   "source": [
    "Categ_Var.info()"
   ]
  },
  {
   "cell_type": "code",
   "execution_count": 22,
   "metadata": {},
   "outputs": [
    {
     "data": {
      "text/html": [
       "<div>\n",
       "<style scoped>\n",
       "    .dataframe tbody tr th:only-of-type {\n",
       "        vertical-align: middle;\n",
       "    }\n",
       "\n",
       "    .dataframe tbody tr th {\n",
       "        vertical-align: top;\n",
       "    }\n",
       "\n",
       "    .dataframe thead th {\n",
       "        text-align: right;\n",
       "    }\n",
       "</style>\n",
       "<table border=\"1\" class=\"dataframe\">\n",
       "  <thead>\n",
       "    <tr style=\"text-align: right;\">\n",
       "      <th></th>\n",
       "      <th>UNITID</th>\n",
       "      <th>OPEID</th>\n",
       "      <th>REGION</th>\n",
       "      <th>CONTROL</th>\n",
       "      <th>PREDDEG</th>\n",
       "      <th>HIGHDEG</th>\n",
       "      <th>LOCALE</th>\n",
       "      <th>CCSIZSET</th>\n",
       "      <th>HBCU</th>\n",
       "      <th>ADM_RATE</th>\n",
       "      <th>...</th>\n",
       "      <th>ACTCMMID</th>\n",
       "      <th>PPTUG_EF</th>\n",
       "      <th>NPT4_PRIV</th>\n",
       "      <th>INEXPFTE</th>\n",
       "      <th>AVGFACSAL</th>\n",
       "      <th>C150_4</th>\n",
       "      <th>PFTFTUG1_EF</th>\n",
       "      <th>COMPL_RPY_3YR_RT</th>\n",
       "      <th>COMPL_RPY_5YR_RT</th>\n",
       "      <th>MD_EARN_WNE_P10</th>\n",
       "    </tr>\n",
       "  </thead>\n",
       "  <tbody>\n",
       "    <tr>\n",
       "      <th>0</th>\n",
       "      <td>100654</td>\n",
       "      <td>100200</td>\n",
       "      <td>5</td>\n",
       "      <td>1</td>\n",
       "      <td>3</td>\n",
       "      <td>4</td>\n",
       "      <td>12.0</td>\n",
       "      <td>14.0</td>\n",
       "      <td>1.0</td>\n",
       "      <td>0.8986</td>\n",
       "      <td>...</td>\n",
       "      <td>18.0</td>\n",
       "      <td>0.0587</td>\n",
       "      <td>NaN</td>\n",
       "      <td>5384.0</td>\n",
       "      <td>7101.0</td>\n",
       "      <td>0.2685</td>\n",
       "      <td>0.8987</td>\n",
       "      <td>0.429326</td>\n",
       "      <td>0.511318</td>\n",
       "      <td>31000.0</td>\n",
       "    </tr>\n",
       "    <tr>\n",
       "      <th>1</th>\n",
       "      <td>100663</td>\n",
       "      <td>105200</td>\n",
       "      <td>5</td>\n",
       "      <td>1</td>\n",
       "      <td>3</td>\n",
       "      <td>4</td>\n",
       "      <td>12.0</td>\n",
       "      <td>15.0</td>\n",
       "      <td>0.0</td>\n",
       "      <td>0.9211</td>\n",
       "      <td>...</td>\n",
       "      <td>25.0</td>\n",
       "      <td>0.2425</td>\n",
       "      <td>NaN</td>\n",
       "      <td>16454.0</td>\n",
       "      <td>10717.0</td>\n",
       "      <td>0.5829</td>\n",
       "      <td>0.6009</td>\n",
       "      <td>0.618270</td>\n",
       "      <td>0.673330</td>\n",
       "      <td>41200.0</td>\n",
       "    </tr>\n",
       "    <tr>\n",
       "      <th>2</th>\n",
       "      <td>100690</td>\n",
       "      <td>2503400</td>\n",
       "      <td>5</td>\n",
       "      <td>2</td>\n",
       "      <td>3</td>\n",
       "      <td>4</td>\n",
       "      <td>12.0</td>\n",
       "      <td>6.0</td>\n",
       "      <td>0.0</td>\n",
       "      <td>NaN</td>\n",
       "      <td>...</td>\n",
       "      <td>NaN</td>\n",
       "      <td>0.5014</td>\n",
       "      <td>15322.0</td>\n",
       "      <td>4206.0</td>\n",
       "      <td>4292.0</td>\n",
       "      <td>0.4000</td>\n",
       "      <td>0.0035</td>\n",
       "      <td>0.439024</td>\n",
       "      <td>0.550725</td>\n",
       "      <td>39600.0</td>\n",
       "    </tr>\n",
       "    <tr>\n",
       "      <th>3</th>\n",
       "      <td>100706</td>\n",
       "      <td>105500</td>\n",
       "      <td>5</td>\n",
       "      <td>1</td>\n",
       "      <td>3</td>\n",
       "      <td>4</td>\n",
       "      <td>12.0</td>\n",
       "      <td>12.0</td>\n",
       "      <td>0.0</td>\n",
       "      <td>0.8087</td>\n",
       "      <td>...</td>\n",
       "      <td>28.0</td>\n",
       "      <td>0.1443</td>\n",
       "      <td>NaN</td>\n",
       "      <td>9242.0</td>\n",
       "      <td>9442.0</td>\n",
       "      <td>0.5187</td>\n",
       "      <td>0.6176</td>\n",
       "      <td>0.680887</td>\n",
       "      <td>0.742248</td>\n",
       "      <td>46700.0</td>\n",
       "    </tr>\n",
       "    <tr>\n",
       "      <th>4</th>\n",
       "      <td>100724</td>\n",
       "      <td>100500</td>\n",
       "      <td>5</td>\n",
       "      <td>1</td>\n",
       "      <td>3</td>\n",
       "      <td>4</td>\n",
       "      <td>12.0</td>\n",
       "      <td>14.0</td>\n",
       "      <td>1.0</td>\n",
       "      <td>0.9774</td>\n",
       "      <td>...</td>\n",
       "      <td>18.0</td>\n",
       "      <td>0.0666</td>\n",
       "      <td>NaN</td>\n",
       "      <td>8527.0</td>\n",
       "      <td>7754.0</td>\n",
       "      <td>0.3001</td>\n",
       "      <td>0.8650</td>\n",
       "      <td>0.366038</td>\n",
       "      <td>0.442308</td>\n",
       "      <td>27700.0</td>\n",
       "    </tr>\n",
       "  </tbody>\n",
       "</table>\n",
       "<p>5 rows × 21 columns</p>\n",
       "</div>"
      ],
      "text/plain": [
       "   UNITID    OPEID  REGION  CONTROL  PREDDEG  HIGHDEG  LOCALE  CCSIZSET  HBCU  \\\n",
       "0  100654   100200       5        1        3        4    12.0      14.0   1.0   \n",
       "1  100663   105200       5        1        3        4    12.0      15.0   0.0   \n",
       "2  100690  2503400       5        2        3        4    12.0       6.0   0.0   \n",
       "3  100706   105500       5        1        3        4    12.0      12.0   0.0   \n",
       "4  100724   100500       5        1        3        4    12.0      14.0   1.0   \n",
       "\n",
       "   ADM_RATE  ...  ACTCMMID  PPTUG_EF  NPT4_PRIV  INEXPFTE  AVGFACSAL  C150_4  \\\n",
       "0    0.8986  ...      18.0    0.0587        NaN    5384.0     7101.0  0.2685   \n",
       "1    0.9211  ...      25.0    0.2425        NaN   16454.0    10717.0  0.5829   \n",
       "2       NaN  ...       NaN    0.5014    15322.0    4206.0     4292.0  0.4000   \n",
       "3    0.8087  ...      28.0    0.1443        NaN    9242.0     9442.0  0.5187   \n",
       "4    0.9774  ...      18.0    0.0666        NaN    8527.0     7754.0  0.3001   \n",
       "\n",
       "   PFTFTUG1_EF  COMPL_RPY_3YR_RT  COMPL_RPY_5YR_RT  MD_EARN_WNE_P10  \n",
       "0       0.8987          0.429326          0.511318          31000.0  \n",
       "1       0.6009          0.618270          0.673330          41200.0  \n",
       "2       0.0035          0.439024          0.550725          39600.0  \n",
       "3       0.6176          0.680887          0.742248          46700.0  \n",
       "4       0.8650          0.366038          0.442308          27700.0  \n",
       "\n",
       "[5 rows x 21 columns]"
      ]
     },
     "execution_count": 22,
     "metadata": {},
     "output_type": "execute_result"
    }
   ],
   "source": [
    "#Splitting Numeric from Categorical variables to later on impute missing values in numeric variables\n",
    "\n",
    "Num_Var = df_bachelorsDGI_dropped[[\"UNITID\",\"OPEID\", \"REGION\", \"CONTROL\", \"PREDDEG\",\"HIGHDEG\", \"LOCALE\",\"CCSIZSET\",\n",
    "                                  \"HBCU\",\"ADM_RATE\",\"SAT_AVG\",\"ACTCMMID\",\"PPTUG_EF\",\"NPT4_PRIV\", \"INEXPFTE\", \"AVGFACSAL\", \n",
    "                                  \"C150_4\", \"PFTFTUG1_EF\", \"COMPL_RPY_3YR_RT\",\"COMPL_RPY_5YR_RT\",\n",
    "                                 \"MD_EARN_WNE_P10\"]]\n",
    "Num_Var.head()"
   ]
  },
  {
   "cell_type": "code",
   "execution_count": 23,
   "metadata": {},
   "outputs": [],
   "source": [
    "numeric_columns= columns_to_use = [\"UNITID\",\"OPEID\", \"REGION\", \"CONTROL\", \"PREDDEG\",\"HIGHDEG\", \"LOCALE\",\"CCSIZSET\",\n",
    "                                  \"HBCU\",\"ADM_RATE\",\"SAT_AVG\",\"ACTCMMID\",\"PPTUG_EF\",\"NPT4_PRIV\", \"INEXPFTE\", \"AVGFACSAL\", \n",
    "                                  \"C150_4\", \"PFTFTUG1_EF\", \"COMPL_RPY_3YR_RT\",\"COMPL_RPY_5YR_RT\",\n",
    "                                 \"MD_EARN_WNE_P10\"]"
   ]
  },
  {
   "cell_type": "code",
   "execution_count": 24,
   "metadata": {},
   "outputs": [],
   "source": [
    "# There is a particular situation with SAT_AVG because it has 38.87% of missing values, which is very close to the\n",
    "# educational threshold, due to this I am going to proceed to impute missing values with the IterativeImputer \n",
    "# from sklearn.\n",
    "\n",
    "import sklearn\n",
    "from sklearn.experimental import enable_iterative_imputer\n",
    "from sklearn.impute import IterativeImputer\n",
    "\n",
    "imputed = IterativeImputer()\n",
    "Num_Var_imputed = imputed.fit_transform(Num_Var)\n"
   ]
  },
  {
   "cell_type": "code",
   "execution_count": 25,
   "metadata": {},
   "outputs": [
    {
     "data": {
      "text/html": [
       "<div>\n",
       "<style scoped>\n",
       "    .dataframe tbody tr th:only-of-type {\n",
       "        vertical-align: middle;\n",
       "    }\n",
       "\n",
       "    .dataframe tbody tr th {\n",
       "        vertical-align: top;\n",
       "    }\n",
       "\n",
       "    .dataframe thead th {\n",
       "        text-align: right;\n",
       "    }\n",
       "</style>\n",
       "<table border=\"1\" class=\"dataframe\">\n",
       "  <thead>\n",
       "    <tr style=\"text-align: right;\">\n",
       "      <th></th>\n",
       "      <th>UNITID</th>\n",
       "      <th>OPEID</th>\n",
       "      <th>REGION</th>\n",
       "      <th>CONTROL</th>\n",
       "      <th>PREDDEG</th>\n",
       "      <th>HIGHDEG</th>\n",
       "      <th>LOCALE</th>\n",
       "      <th>CCSIZSET</th>\n",
       "      <th>HBCU</th>\n",
       "      <th>ADM_RATE</th>\n",
       "      <th>...</th>\n",
       "      <th>ACTCMMID</th>\n",
       "      <th>PPTUG_EF</th>\n",
       "      <th>NPT4_PRIV</th>\n",
       "      <th>INEXPFTE</th>\n",
       "      <th>AVGFACSAL</th>\n",
       "      <th>C150_4</th>\n",
       "      <th>PFTFTUG1_EF</th>\n",
       "      <th>COMPL_RPY_3YR_RT</th>\n",
       "      <th>COMPL_RPY_5YR_RT</th>\n",
       "      <th>MD_EARN_WNE_P10</th>\n",
       "    </tr>\n",
       "  </thead>\n",
       "  <tbody>\n",
       "    <tr>\n",
       "      <th>0</th>\n",
       "      <td>100654.0</td>\n",
       "      <td>100200.0</td>\n",
       "      <td>5.0</td>\n",
       "      <td>1.0</td>\n",
       "      <td>3.0</td>\n",
       "      <td>4.0</td>\n",
       "      <td>12.0</td>\n",
       "      <td>14.0</td>\n",
       "      <td>1.0</td>\n",
       "      <td>0.898600</td>\n",
       "      <td>...</td>\n",
       "      <td>18.000000</td>\n",
       "      <td>0.0587</td>\n",
       "      <td>21573.738617</td>\n",
       "      <td>5384.0</td>\n",
       "      <td>7101.0</td>\n",
       "      <td>0.2685</td>\n",
       "      <td>0.8987</td>\n",
       "      <td>0.429326</td>\n",
       "      <td>0.511318</td>\n",
       "      <td>31000.0</td>\n",
       "    </tr>\n",
       "    <tr>\n",
       "      <th>1</th>\n",
       "      <td>100663.0</td>\n",
       "      <td>105200.0</td>\n",
       "      <td>5.0</td>\n",
       "      <td>1.0</td>\n",
       "      <td>3.0</td>\n",
       "      <td>4.0</td>\n",
       "      <td>12.0</td>\n",
       "      <td>15.0</td>\n",
       "      <td>0.0</td>\n",
       "      <td>0.921100</td>\n",
       "      <td>...</td>\n",
       "      <td>25.000000</td>\n",
       "      <td>0.2425</td>\n",
       "      <td>25862.735358</td>\n",
       "      <td>16454.0</td>\n",
       "      <td>10717.0</td>\n",
       "      <td>0.5829</td>\n",
       "      <td>0.6009</td>\n",
       "      <td>0.618270</td>\n",
       "      <td>0.673330</td>\n",
       "      <td>41200.0</td>\n",
       "    </tr>\n",
       "    <tr>\n",
       "      <th>2</th>\n",
       "      <td>100690.0</td>\n",
       "      <td>2503400.0</td>\n",
       "      <td>5.0</td>\n",
       "      <td>2.0</td>\n",
       "      <td>3.0</td>\n",
       "      <td>4.0</td>\n",
       "      <td>12.0</td>\n",
       "      <td>6.0</td>\n",
       "      <td>0.0</td>\n",
       "      <td>0.648179</td>\n",
       "      <td>...</td>\n",
       "      <td>22.682138</td>\n",
       "      <td>0.5014</td>\n",
       "      <td>15322.000000</td>\n",
       "      <td>4206.0</td>\n",
       "      <td>4292.0</td>\n",
       "      <td>0.4000</td>\n",
       "      <td>0.0035</td>\n",
       "      <td>0.439024</td>\n",
       "      <td>0.550725</td>\n",
       "      <td>39600.0</td>\n",
       "    </tr>\n",
       "    <tr>\n",
       "      <th>3</th>\n",
       "      <td>100706.0</td>\n",
       "      <td>105500.0</td>\n",
       "      <td>5.0</td>\n",
       "      <td>1.0</td>\n",
       "      <td>3.0</td>\n",
       "      <td>4.0</td>\n",
       "      <td>12.0</td>\n",
       "      <td>12.0</td>\n",
       "      <td>0.0</td>\n",
       "      <td>0.808700</td>\n",
       "      <td>...</td>\n",
       "      <td>28.000000</td>\n",
       "      <td>0.1443</td>\n",
       "      <td>26485.605762</td>\n",
       "      <td>9242.0</td>\n",
       "      <td>9442.0</td>\n",
       "      <td>0.5187</td>\n",
       "      <td>0.6176</td>\n",
       "      <td>0.680887</td>\n",
       "      <td>0.742248</td>\n",
       "      <td>46700.0</td>\n",
       "    </tr>\n",
       "    <tr>\n",
       "      <th>4</th>\n",
       "      <td>100724.0</td>\n",
       "      <td>100500.0</td>\n",
       "      <td>5.0</td>\n",
       "      <td>1.0</td>\n",
       "      <td>3.0</td>\n",
       "      <td>4.0</td>\n",
       "      <td>12.0</td>\n",
       "      <td>14.0</td>\n",
       "      <td>1.0</td>\n",
       "      <td>0.977400</td>\n",
       "      <td>...</td>\n",
       "      <td>18.000000</td>\n",
       "      <td>0.0666</td>\n",
       "      <td>21225.911175</td>\n",
       "      <td>8527.0</td>\n",
       "      <td>7754.0</td>\n",
       "      <td>0.3001</td>\n",
       "      <td>0.8650</td>\n",
       "      <td>0.366038</td>\n",
       "      <td>0.442308</td>\n",
       "      <td>27700.0</td>\n",
       "    </tr>\n",
       "  </tbody>\n",
       "</table>\n",
       "<p>5 rows × 21 columns</p>\n",
       "</div>"
      ],
      "text/plain": [
       "     UNITID      OPEID  REGION  CONTROL  PREDDEG  HIGHDEG  LOCALE  CCSIZSET  \\\n",
       "0  100654.0   100200.0     5.0      1.0      3.0      4.0    12.0      14.0   \n",
       "1  100663.0   105200.0     5.0      1.0      3.0      4.0    12.0      15.0   \n",
       "2  100690.0  2503400.0     5.0      2.0      3.0      4.0    12.0       6.0   \n",
       "3  100706.0   105500.0     5.0      1.0      3.0      4.0    12.0      12.0   \n",
       "4  100724.0   100500.0     5.0      1.0      3.0      4.0    12.0      14.0   \n",
       "\n",
       "   HBCU  ADM_RATE  ...   ACTCMMID  PPTUG_EF     NPT4_PRIV  INEXPFTE  \\\n",
       "0   1.0  0.898600  ...  18.000000    0.0587  21573.738617    5384.0   \n",
       "1   0.0  0.921100  ...  25.000000    0.2425  25862.735358   16454.0   \n",
       "2   0.0  0.648179  ...  22.682138    0.5014  15322.000000    4206.0   \n",
       "3   0.0  0.808700  ...  28.000000    0.1443  26485.605762    9242.0   \n",
       "4   1.0  0.977400  ...  18.000000    0.0666  21225.911175    8527.0   \n",
       "\n",
       "   AVGFACSAL  C150_4  PFTFTUG1_EF  COMPL_RPY_3YR_RT  COMPL_RPY_5YR_RT  \\\n",
       "0     7101.0  0.2685       0.8987          0.429326          0.511318   \n",
       "1    10717.0  0.5829       0.6009          0.618270          0.673330   \n",
       "2     4292.0  0.4000       0.0035          0.439024          0.550725   \n",
       "3     9442.0  0.5187       0.6176          0.680887          0.742248   \n",
       "4     7754.0  0.3001       0.8650          0.366038          0.442308   \n",
       "\n",
       "   MD_EARN_WNE_P10  \n",
       "0          31000.0  \n",
       "1          41200.0  \n",
       "2          39600.0  \n",
       "3          46700.0  \n",
       "4          27700.0  \n",
       "\n",
       "[5 rows x 21 columns]"
      ]
     },
     "execution_count": 25,
     "metadata": {},
     "output_type": "execute_result"
    }
   ],
   "source": [
    "final_imputed = pd.DataFrame(Num_Var_imputed,columns=numeric_columns) \n",
    "final_imputed.head()"
   ]
  },
  {
   "cell_type": "code",
   "execution_count": 26,
   "metadata": {},
   "outputs": [
    {
     "name": "stdout",
     "output_type": "stream",
     "text": [
      "<class 'pandas.core.frame.DataFrame'>\n",
      "RangeIndex: 2058 entries, 0 to 2057\n",
      "Data columns (total 21 columns):\n",
      " #   Column            Non-Null Count  Dtype  \n",
      "---  ------            --------------  -----  \n",
      " 0   UNITID            2058 non-null   float64\n",
      " 1   OPEID             2058 non-null   float64\n",
      " 2   REGION            2058 non-null   float64\n",
      " 3   CONTROL           2058 non-null   float64\n",
      " 4   PREDDEG           2058 non-null   float64\n",
      " 5   HIGHDEG           2058 non-null   float64\n",
      " 6   LOCALE            2058 non-null   float64\n",
      " 7   CCSIZSET          2058 non-null   float64\n",
      " 8   HBCU              2058 non-null   float64\n",
      " 9   ADM_RATE          2058 non-null   float64\n",
      " 10  SAT_AVG           2058 non-null   float64\n",
      " 11  ACTCMMID          2058 non-null   float64\n",
      " 12  PPTUG_EF          2058 non-null   float64\n",
      " 13  NPT4_PRIV         2058 non-null   float64\n",
      " 14  INEXPFTE          2058 non-null   float64\n",
      " 15  AVGFACSAL         2058 non-null   float64\n",
      " 16  C150_4            2058 non-null   float64\n",
      " 17  PFTFTUG1_EF       2058 non-null   float64\n",
      " 18  COMPL_RPY_3YR_RT  2058 non-null   float64\n",
      " 19  COMPL_RPY_5YR_RT  2058 non-null   float64\n",
      " 20  MD_EARN_WNE_P10   2058 non-null   float64\n",
      "dtypes: float64(21)\n",
      "memory usage: 337.8 KB\n"
     ]
    }
   ],
   "source": [
    "final_imputed.info()"
   ]
  },
  {
   "cell_type": "code",
   "execution_count": 27,
   "metadata": {},
   "outputs": [
    {
     "data": {
      "text/html": [
       "<div>\n",
       "<style scoped>\n",
       "    .dataframe tbody tr th:only-of-type {\n",
       "        vertical-align: middle;\n",
       "    }\n",
       "\n",
       "    .dataframe tbody tr th {\n",
       "        vertical-align: top;\n",
       "    }\n",
       "\n",
       "    .dataframe thead th {\n",
       "        text-align: right;\n",
       "    }\n",
       "</style>\n",
       "<table border=\"1\" class=\"dataframe\">\n",
       "  <thead>\n",
       "    <tr style=\"text-align: right;\">\n",
       "      <th></th>\n",
       "      <th>INSTNM</th>\n",
       "      <th>CITY</th>\n",
       "      <th>STABBR</th>\n",
       "      <th>ZIP</th>\n",
       "      <th>ACCREDAGENCY</th>\n",
       "      <th>UNITID</th>\n",
       "      <th>OPEID</th>\n",
       "      <th>REGION</th>\n",
       "      <th>CONTROL</th>\n",
       "      <th>PREDDEG</th>\n",
       "      <th>...</th>\n",
       "      <th>ACTCMMID</th>\n",
       "      <th>PPTUG_EF</th>\n",
       "      <th>NPT4_PRIV</th>\n",
       "      <th>INEXPFTE</th>\n",
       "      <th>AVGFACSAL</th>\n",
       "      <th>C150_4</th>\n",
       "      <th>PFTFTUG1_EF</th>\n",
       "      <th>COMPL_RPY_3YR_RT</th>\n",
       "      <th>COMPL_RPY_5YR_RT</th>\n",
       "      <th>MD_EARN_WNE_P10</th>\n",
       "    </tr>\n",
       "  </thead>\n",
       "  <tbody>\n",
       "    <tr>\n",
       "      <th>0</th>\n",
       "      <td>Alabama A &amp; M University</td>\n",
       "      <td>Normal</td>\n",
       "      <td>AL</td>\n",
       "      <td>35762</td>\n",
       "      <td>Southern Association of Colleges and Schools C...</td>\n",
       "      <td>100654</td>\n",
       "      <td>100200.0</td>\n",
       "      <td>5.0</td>\n",
       "      <td>1.0</td>\n",
       "      <td>3.0</td>\n",
       "      <td>...</td>\n",
       "      <td>18.000000</td>\n",
       "      <td>0.0587</td>\n",
       "      <td>21573.738617</td>\n",
       "      <td>5384.0</td>\n",
       "      <td>7101.0</td>\n",
       "      <td>0.268500</td>\n",
       "      <td>0.898700</td>\n",
       "      <td>0.429326</td>\n",
       "      <td>0.511318</td>\n",
       "      <td>31000.000000</td>\n",
       "    </tr>\n",
       "    <tr>\n",
       "      <th>1</th>\n",
       "      <td>University of Alabama at Birmingham</td>\n",
       "      <td>Birmingham</td>\n",
       "      <td>AL</td>\n",
       "      <td>35294-0110</td>\n",
       "      <td>Southern Association of Colleges and Schools C...</td>\n",
       "      <td>100663</td>\n",
       "      <td>105200.0</td>\n",
       "      <td>5.0</td>\n",
       "      <td>1.0</td>\n",
       "      <td>3.0</td>\n",
       "      <td>...</td>\n",
       "      <td>25.000000</td>\n",
       "      <td>0.2425</td>\n",
       "      <td>25862.735358</td>\n",
       "      <td>16454.0</td>\n",
       "      <td>10717.0</td>\n",
       "      <td>0.582900</td>\n",
       "      <td>0.600900</td>\n",
       "      <td>0.618270</td>\n",
       "      <td>0.673330</td>\n",
       "      <td>41200.000000</td>\n",
       "    </tr>\n",
       "    <tr>\n",
       "      <th>2</th>\n",
       "      <td>Amridge University</td>\n",
       "      <td>Montgomery</td>\n",
       "      <td>AL</td>\n",
       "      <td>36117-3553</td>\n",
       "      <td>Southern Association of Colleges and Schools C...</td>\n",
       "      <td>100690</td>\n",
       "      <td>2503400.0</td>\n",
       "      <td>5.0</td>\n",
       "      <td>2.0</td>\n",
       "      <td>3.0</td>\n",
       "      <td>...</td>\n",
       "      <td>22.682138</td>\n",
       "      <td>0.5014</td>\n",
       "      <td>15322.000000</td>\n",
       "      <td>4206.0</td>\n",
       "      <td>4292.0</td>\n",
       "      <td>0.400000</td>\n",
       "      <td>0.003500</td>\n",
       "      <td>0.439024</td>\n",
       "      <td>0.550725</td>\n",
       "      <td>39600.000000</td>\n",
       "    </tr>\n",
       "    <tr>\n",
       "      <th>3</th>\n",
       "      <td>University of Alabama in Huntsville</td>\n",
       "      <td>Huntsville</td>\n",
       "      <td>AL</td>\n",
       "      <td>35899</td>\n",
       "      <td>Southern Association of Colleges and Schools C...</td>\n",
       "      <td>100706</td>\n",
       "      <td>105500.0</td>\n",
       "      <td>5.0</td>\n",
       "      <td>1.0</td>\n",
       "      <td>3.0</td>\n",
       "      <td>...</td>\n",
       "      <td>28.000000</td>\n",
       "      <td>0.1443</td>\n",
       "      <td>26485.605762</td>\n",
       "      <td>9242.0</td>\n",
       "      <td>9442.0</td>\n",
       "      <td>0.518700</td>\n",
       "      <td>0.617600</td>\n",
       "      <td>0.680887</td>\n",
       "      <td>0.742248</td>\n",
       "      <td>46700.000000</td>\n",
       "    </tr>\n",
       "    <tr>\n",
       "      <th>4</th>\n",
       "      <td>Alabama State University</td>\n",
       "      <td>Montgomery</td>\n",
       "      <td>AL</td>\n",
       "      <td>36104-0271</td>\n",
       "      <td>Southern Association of Colleges and Schools C...</td>\n",
       "      <td>100724</td>\n",
       "      <td>100500.0</td>\n",
       "      <td>5.0</td>\n",
       "      <td>1.0</td>\n",
       "      <td>3.0</td>\n",
       "      <td>...</td>\n",
       "      <td>18.000000</td>\n",
       "      <td>0.0666</td>\n",
       "      <td>21225.911175</td>\n",
       "      <td>8527.0</td>\n",
       "      <td>7754.0</td>\n",
       "      <td>0.300100</td>\n",
       "      <td>0.865000</td>\n",
       "      <td>0.366038</td>\n",
       "      <td>0.442308</td>\n",
       "      <td>27700.000000</td>\n",
       "    </tr>\n",
       "    <tr>\n",
       "      <th>...</th>\n",
       "      <td>...</td>\n",
       "      <td>...</td>\n",
       "      <td>...</td>\n",
       "      <td>...</td>\n",
       "      <td>...</td>\n",
       "      <td>...</td>\n",
       "      <td>...</td>\n",
       "      <td>...</td>\n",
       "      <td>...</td>\n",
       "      <td>...</td>\n",
       "      <td>...</td>\n",
       "      <td>...</td>\n",
       "      <td>...</td>\n",
       "      <td>...</td>\n",
       "      <td>...</td>\n",
       "      <td>...</td>\n",
       "      <td>...</td>\n",
       "      <td>...</td>\n",
       "      <td>...</td>\n",
       "      <td>...</td>\n",
       "      <td>...</td>\n",
       "    </tr>\n",
       "    <tr>\n",
       "      <th>2053</th>\n",
       "      <td>Champion Christian College</td>\n",
       "      <td>Hot Springs</td>\n",
       "      <td>AR</td>\n",
       "      <td>71913</td>\n",
       "      <td>Transnational Association of Christian College...</td>\n",
       "      <td>492069</td>\n",
       "      <td>4276100.0</td>\n",
       "      <td>5.0</td>\n",
       "      <td>2.0</td>\n",
       "      <td>3.0</td>\n",
       "      <td>...</td>\n",
       "      <td>22.523684</td>\n",
       "      <td>0.0690</td>\n",
       "      <td>14510.579999</td>\n",
       "      <td>6188.0</td>\n",
       "      <td>2667.0</td>\n",
       "      <td>0.177800</td>\n",
       "      <td>0.652200</td>\n",
       "      <td>0.691985</td>\n",
       "      <td>0.732623</td>\n",
       "      <td>34164.073885</td>\n",
       "    </tr>\n",
       "    <tr>\n",
       "      <th>2054</th>\n",
       "      <td>Texas Tech University Health Sciences Center-E...</td>\n",
       "      <td>El Paso</td>\n",
       "      <td>TX</td>\n",
       "      <td>79905-2827</td>\n",
       "      <td>Southern Association of Colleges and Schools C...</td>\n",
       "      <td>492689</td>\n",
       "      <td>1067401.0</td>\n",
       "      <td>6.0</td>\n",
       "      <td>1.0</td>\n",
       "      <td>3.0</td>\n",
       "      <td>...</td>\n",
       "      <td>26.252191</td>\n",
       "      <td>0.2348</td>\n",
       "      <td>27302.519563</td>\n",
       "      <td>153080.0</td>\n",
       "      <td>18393.0</td>\n",
       "      <td>0.491767</td>\n",
       "      <td>0.471777</td>\n",
       "      <td>0.814037</td>\n",
       "      <td>0.838347</td>\n",
       "      <td>111083.213511</td>\n",
       "    </tr>\n",
       "    <tr>\n",
       "      <th>2055</th>\n",
       "      <td>Chamberlain University-Louisiana</td>\n",
       "      <td>Jefferson</td>\n",
       "      <td>LA</td>\n",
       "      <td>70121</td>\n",
       "      <td>Higher Learning Commission</td>\n",
       "      <td>492759</td>\n",
       "      <td>638521.0</td>\n",
       "      <td>5.0</td>\n",
       "      <td>3.0</td>\n",
       "      <td>3.0</td>\n",
       "      <td>...</td>\n",
       "      <td>23.126789</td>\n",
       "      <td>0.2667</td>\n",
       "      <td>19052.053516</td>\n",
       "      <td>23749.0</td>\n",
       "      <td>6620.0</td>\n",
       "      <td>0.377939</td>\n",
       "      <td>0.580852</td>\n",
       "      <td>0.712343</td>\n",
       "      <td>0.756639</td>\n",
       "      <td>47182.808314</td>\n",
       "    </tr>\n",
       "    <tr>\n",
       "      <th>2056</th>\n",
       "      <td>Drury University-College of Continuing Profess...</td>\n",
       "      <td>Springfield</td>\n",
       "      <td>MO</td>\n",
       "      <td>65802</td>\n",
       "      <td>Higher Learning Commission</td>\n",
       "      <td>492801</td>\n",
       "      <td>246100.0</td>\n",
       "      <td>4.0</td>\n",
       "      <td>2.0</td>\n",
       "      <td>3.0</td>\n",
       "      <td>...</td>\n",
       "      <td>22.570374</td>\n",
       "      <td>0.4292</td>\n",
       "      <td>14368.000000</td>\n",
       "      <td>4515.0</td>\n",
       "      <td>5794.0</td>\n",
       "      <td>0.189000</td>\n",
       "      <td>0.256100</td>\n",
       "      <td>0.677863</td>\n",
       "      <td>0.720524</td>\n",
       "      <td>37563.381788</td>\n",
       "    </tr>\n",
       "    <tr>\n",
       "      <th>2057</th>\n",
       "      <td>Indiana Institute of Technology-College of Pro...</td>\n",
       "      <td>Fort Wayne</td>\n",
       "      <td>IN</td>\n",
       "      <td>46803</td>\n",
       "      <td>Higher Learning Commission</td>\n",
       "      <td>492962</td>\n",
       "      <td>180500.0</td>\n",
       "      <td>3.0</td>\n",
       "      <td>2.0</td>\n",
       "      <td>3.0</td>\n",
       "      <td>...</td>\n",
       "      <td>22.883339</td>\n",
       "      <td>0.4100</td>\n",
       "      <td>14061.000000</td>\n",
       "      <td>3401.0</td>\n",
       "      <td>7548.0</td>\n",
       "      <td>0.463600</td>\n",
       "      <td>0.310100</td>\n",
       "      <td>0.704159</td>\n",
       "      <td>0.742904</td>\n",
       "      <td>41860.753634</td>\n",
       "    </tr>\n",
       "  </tbody>\n",
       "</table>\n",
       "<p>2058 rows × 26 columns</p>\n",
       "</div>"
      ],
      "text/plain": [
       "                                                 INSTNM         CITY STABBR  \\\n",
       "0                              Alabama A & M University       Normal     AL   \n",
       "1                   University of Alabama at Birmingham   Birmingham     AL   \n",
       "2                                    Amridge University   Montgomery     AL   \n",
       "3                   University of Alabama in Huntsville   Huntsville     AL   \n",
       "4                              Alabama State University   Montgomery     AL   \n",
       "...                                                 ...          ...    ...   \n",
       "2053                         Champion Christian College  Hot Springs     AR   \n",
       "2054  Texas Tech University Health Sciences Center-E...      El Paso     TX   \n",
       "2055                   Chamberlain University-Louisiana    Jefferson     LA   \n",
       "2056  Drury University-College of Continuing Profess...  Springfield     MO   \n",
       "2057  Indiana Institute of Technology-College of Pro...   Fort Wayne     IN   \n",
       "\n",
       "             ZIP                                       ACCREDAGENCY  UNITID  \\\n",
       "0          35762  Southern Association of Colleges and Schools C...  100654   \n",
       "1     35294-0110  Southern Association of Colleges and Schools C...  100663   \n",
       "2     36117-3553  Southern Association of Colleges and Schools C...  100690   \n",
       "3          35899  Southern Association of Colleges and Schools C...  100706   \n",
       "4     36104-0271  Southern Association of Colleges and Schools C...  100724   \n",
       "...          ...                                                ...     ...   \n",
       "2053       71913  Transnational Association of Christian College...  492069   \n",
       "2054  79905-2827  Southern Association of Colleges and Schools C...  492689   \n",
       "2055       70121                         Higher Learning Commission  492759   \n",
       "2056       65802                         Higher Learning Commission  492801   \n",
       "2057       46803                         Higher Learning Commission  492962   \n",
       "\n",
       "          OPEID  REGION  CONTROL  PREDDEG  ...   ACTCMMID  PPTUG_EF  \\\n",
       "0      100200.0     5.0      1.0      3.0  ...  18.000000    0.0587   \n",
       "1      105200.0     5.0      1.0      3.0  ...  25.000000    0.2425   \n",
       "2     2503400.0     5.0      2.0      3.0  ...  22.682138    0.5014   \n",
       "3      105500.0     5.0      1.0      3.0  ...  28.000000    0.1443   \n",
       "4      100500.0     5.0      1.0      3.0  ...  18.000000    0.0666   \n",
       "...         ...     ...      ...      ...  ...        ...       ...   \n",
       "2053  4276100.0     5.0      2.0      3.0  ...  22.523684    0.0690   \n",
       "2054  1067401.0     6.0      1.0      3.0  ...  26.252191    0.2348   \n",
       "2055   638521.0     5.0      3.0      3.0  ...  23.126789    0.2667   \n",
       "2056   246100.0     4.0      2.0      3.0  ...  22.570374    0.4292   \n",
       "2057   180500.0     3.0      2.0      3.0  ...  22.883339    0.4100   \n",
       "\n",
       "         NPT4_PRIV  INEXPFTE  AVGFACSAL    C150_4  PFTFTUG1_EF  \\\n",
       "0     21573.738617    5384.0     7101.0  0.268500     0.898700   \n",
       "1     25862.735358   16454.0    10717.0  0.582900     0.600900   \n",
       "2     15322.000000    4206.0     4292.0  0.400000     0.003500   \n",
       "3     26485.605762    9242.0     9442.0  0.518700     0.617600   \n",
       "4     21225.911175    8527.0     7754.0  0.300100     0.865000   \n",
       "...            ...       ...        ...       ...          ...   \n",
       "2053  14510.579999    6188.0     2667.0  0.177800     0.652200   \n",
       "2054  27302.519563  153080.0    18393.0  0.491767     0.471777   \n",
       "2055  19052.053516   23749.0     6620.0  0.377939     0.580852   \n",
       "2056  14368.000000    4515.0     5794.0  0.189000     0.256100   \n",
       "2057  14061.000000    3401.0     7548.0  0.463600     0.310100   \n",
       "\n",
       "      COMPL_RPY_3YR_RT  COMPL_RPY_5YR_RT  MD_EARN_WNE_P10  \n",
       "0             0.429326          0.511318     31000.000000  \n",
       "1             0.618270          0.673330     41200.000000  \n",
       "2             0.439024          0.550725     39600.000000  \n",
       "3             0.680887          0.742248     46700.000000  \n",
       "4             0.366038          0.442308     27700.000000  \n",
       "...                ...               ...              ...  \n",
       "2053          0.691985          0.732623     34164.073885  \n",
       "2054          0.814037          0.838347    111083.213511  \n",
       "2055          0.712343          0.756639     47182.808314  \n",
       "2056          0.677863          0.720524     37563.381788  \n",
       "2057          0.704159          0.742904     41860.753634  \n",
       "\n",
       "[2058 rows x 26 columns]"
      ]
     },
     "execution_count": 27,
     "metadata": {},
     "output_type": "execute_result"
    }
   ],
   "source": [
    "# merging  dataframes that contains \"Categ_Var\" and the numeric variables with imputed missing values \n",
    "# \"final_imputed\"\n",
    "\n",
    "df_cleaned_final = pd.merge(Categ_Var, final_imputed, on = 'UNITID', how = 'inner')\n",
    "df_cleaned_final"
   ]
  },
  {
   "cell_type": "code",
   "execution_count": 28,
   "metadata": {},
   "outputs": [
    {
     "name": "stdout",
     "output_type": "stream",
     "text": [
      "<class 'pandas.core.frame.DataFrame'>\n",
      "Int64Index: 2058 entries, 0 to 2057\n",
      "Data columns (total 26 columns):\n",
      " #   Column            Non-Null Count  Dtype  \n",
      "---  ------            --------------  -----  \n",
      " 0   INSTNM            2058 non-null   object \n",
      " 1   CITY              2058 non-null   object \n",
      " 2   STABBR            2058 non-null   object \n",
      " 3   ZIP               2058 non-null   object \n",
      " 4   ACCREDAGENCY      2058 non-null   object \n",
      " 5   UNITID            2058 non-null   int64  \n",
      " 6   OPEID             2058 non-null   float64\n",
      " 7   REGION            2058 non-null   float64\n",
      " 8   CONTROL           2058 non-null   float64\n",
      " 9   PREDDEG           2058 non-null   float64\n",
      " 10  HIGHDEG           2058 non-null   float64\n",
      " 11  LOCALE            2058 non-null   float64\n",
      " 12  CCSIZSET          2058 non-null   float64\n",
      " 13  HBCU              2058 non-null   float64\n",
      " 14  ADM_RATE          2058 non-null   float64\n",
      " 15  SAT_AVG           2058 non-null   float64\n",
      " 16  ACTCMMID          2058 non-null   float64\n",
      " 17  PPTUG_EF          2058 non-null   float64\n",
      " 18  NPT4_PRIV         2058 non-null   float64\n",
      " 19  INEXPFTE          2058 non-null   float64\n",
      " 20  AVGFACSAL         2058 non-null   float64\n",
      " 21  C150_4            2058 non-null   float64\n",
      " 22  PFTFTUG1_EF       2058 non-null   float64\n",
      " 23  COMPL_RPY_3YR_RT  2058 non-null   float64\n",
      " 24  COMPL_RPY_5YR_RT  2058 non-null   float64\n",
      " 25  MD_EARN_WNE_P10   2058 non-null   float64\n",
      "dtypes: float64(20), int64(1), object(5)\n",
      "memory usage: 434.1+ KB\n"
     ]
    }
   ],
   "source": [
    "df_cleaned_final.info()"
   ]
  },
  {
   "cell_type": "markdown",
   "metadata": {},
   "source": [
    "**1. What is the mean, median and standard deviation of the average SAT for each region?**"
   ]
  },
  {
   "cell_type": "code",
   "execution_count": 29,
   "metadata": {},
   "outputs": [
    {
     "data": {
      "text/plain": [
       "5.0    482\n",
       "2.0    399\n",
       "3.0    295\n",
       "8.0    230\n",
       "4.0    210\n",
       "1.0    164\n",
       "6.0    161\n",
       "7.0     61\n",
       "9.0     51\n",
       "0.0      5\n",
       "Name: REGION, dtype: int64"
      ]
     },
     "execution_count": 29,
     "metadata": {},
     "output_type": "execute_result"
    }
   ],
   "source": [
    "df_cleaned_final['REGION'].value_counts()\n"
   ]
  },
  {
   "cell_type": "code",
   "execution_count": 30,
   "metadata": {},
   "outputs": [],
   "source": [
    "# grouping data based on region \n",
    "\n",
    "region_group= df_cleaned_final.groupby(['REGION'])\n"
   ]
  },
  {
   "cell_type": "code",
   "execution_count": 31,
   "metadata": {},
   "outputs": [
    {
     "data": {
      "text/html": [
       "<div>\n",
       "<style scoped>\n",
       "    .dataframe tbody tr th:only-of-type {\n",
       "        vertical-align: middle;\n",
       "    }\n",
       "\n",
       "    .dataframe tbody tr th {\n",
       "        vertical-align: top;\n",
       "    }\n",
       "\n",
       "    .dataframe thead th {\n",
       "        text-align: right;\n",
       "    }\n",
       "</style>\n",
       "<table border=\"1\" class=\"dataframe\">\n",
       "  <thead>\n",
       "    <tr style=\"text-align: right;\">\n",
       "      <th></th>\n",
       "      <th>mean</th>\n",
       "      <th>median</th>\n",
       "      <th>std</th>\n",
       "    </tr>\n",
       "    <tr>\n",
       "      <th>REGION</th>\n",
       "      <th></th>\n",
       "      <th></th>\n",
       "      <th></th>\n",
       "    </tr>\n",
       "  </thead>\n",
       "  <tbody>\n",
       "    <tr>\n",
       "      <th>0.0</th>\n",
       "      <td>1321.200000</td>\n",
       "      <td>1312.000000</td>\n",
       "      <td>28.420063</td>\n",
       "    </tr>\n",
       "    <tr>\n",
       "      <th>1.0</th>\n",
       "      <td>1168.811487</td>\n",
       "      <td>1133.663473</td>\n",
       "      <td>122.337994</td>\n",
       "    </tr>\n",
       "    <tr>\n",
       "      <th>2.0</th>\n",
       "      <td>1146.122876</td>\n",
       "      <td>1129.214383</td>\n",
       "      <td>106.557767</td>\n",
       "    </tr>\n",
       "    <tr>\n",
       "      <th>3.0</th>\n",
       "      <td>1136.085155</td>\n",
       "      <td>1125.982276</td>\n",
       "      <td>93.588306</td>\n",
       "    </tr>\n",
       "    <tr>\n",
       "      <th>4.0</th>\n",
       "      <td>1140.705128</td>\n",
       "      <td>1132.710773</td>\n",
       "      <td>73.922563</td>\n",
       "    </tr>\n",
       "    <tr>\n",
       "      <th>5.0</th>\n",
       "      <td>1125.353428</td>\n",
       "      <td>1126.570329</td>\n",
       "      <td>97.302351</td>\n",
       "    </tr>\n",
       "    <tr>\n",
       "      <th>6.0</th>\n",
       "      <td>1122.194875</td>\n",
       "      <td>1127.707788</td>\n",
       "      <td>91.562769</td>\n",
       "    </tr>\n",
       "    <tr>\n",
       "      <th>7.0</th>\n",
       "      <td>1149.099653</td>\n",
       "      <td>1142.484043</td>\n",
       "      <td>66.550140</td>\n",
       "    </tr>\n",
       "    <tr>\n",
       "      <th>8.0</th>\n",
       "      <td>1158.711507</td>\n",
       "      <td>1143.000000</td>\n",
       "      <td>97.639474</td>\n",
       "    </tr>\n",
       "    <tr>\n",
       "      <th>9.0</th>\n",
       "      <td>1142.074358</td>\n",
       "      <td>1147.747580</td>\n",
       "      <td>31.525226</td>\n",
       "    </tr>\n",
       "  </tbody>\n",
       "</table>\n",
       "</div>"
      ],
      "text/plain": [
       "               mean       median         std\n",
       "REGION                                      \n",
       "0.0     1321.200000  1312.000000   28.420063\n",
       "1.0     1168.811487  1133.663473  122.337994\n",
       "2.0     1146.122876  1129.214383  106.557767\n",
       "3.0     1136.085155  1125.982276   93.588306\n",
       "4.0     1140.705128  1132.710773   73.922563\n",
       "5.0     1125.353428  1126.570329   97.302351\n",
       "6.0     1122.194875  1127.707788   91.562769\n",
       "7.0     1149.099653  1142.484043   66.550140\n",
       "8.0     1158.711507  1143.000000   97.639474\n",
       "9.0     1142.074358  1147.747580   31.525226"
      ]
     },
     "execution_count": 31,
     "metadata": {},
     "output_type": "execute_result"
    }
   ],
   "source": [
    "region_group['SAT_AVG'].agg(['mean', 'median', 'std'])"
   ]
  },
  {
   "cell_type": "code",
   "execution_count": 32,
   "metadata": {},
   "outputs": [],
   "source": [
    "# (1) New englands Schools and (8) Far west present the highest mean SAT_AVG score respectively. \n",
    "# However, (1) New englands schools present the highest std (122.33)"
   ]
  },
  {
   "cell_type": "markdown",
   "metadata": {},
   "source": [
    "**2. What are the ten most selective schools and the ten least selective schools based on admission rates?**"
   ]
  },
  {
   "cell_type": "code",
   "execution_count": 33,
   "metadata": {},
   "outputs": [
    {
     "data": {
      "text/plain": [
       "1.000000    34\n",
       "0.500000     7\n",
       "0.750000     6\n",
       "0.800000     5\n",
       "0.933300     4\n",
       "            ..\n",
       "0.638898     1\n",
       "0.613500     1\n",
       "0.824000     1\n",
       "0.666945     1\n",
       "0.718012     1\n",
       "Name: ADM_RATE, Length: 1817, dtype: int64"
      ]
     },
     "execution_count": 33,
     "metadata": {},
     "output_type": "execute_result"
    }
   ],
   "source": [
    "df_cleaned_final['ADM_RATE'].value_counts()"
   ]
  },
  {
   "cell_type": "code",
   "execution_count": 34,
   "metadata": {},
   "outputs": [],
   "source": [
    "df_copy= df_cleaned_final.copy(deep=True)"
   ]
  },
  {
   "cell_type": "code",
   "execution_count": 35,
   "metadata": {},
   "outputs": [],
   "source": [
    "df_copy['rankby_admin_rate'] = df_copy['ADM_RATE'].rank(ascending=False)\n"
   ]
  },
  {
   "cell_type": "code",
   "execution_count": 36,
   "metadata": {},
   "outputs": [
    {
     "data": {
      "text/html": [
       "<div>\n",
       "<style scoped>\n",
       "    .dataframe tbody tr th:only-of-type {\n",
       "        vertical-align: middle;\n",
       "    }\n",
       "\n",
       "    .dataframe tbody tr th {\n",
       "        vertical-align: top;\n",
       "    }\n",
       "\n",
       "    .dataframe thead th {\n",
       "        text-align: right;\n",
       "    }\n",
       "</style>\n",
       "<table border=\"1\" class=\"dataframe\">\n",
       "  <thead>\n",
       "    <tr style=\"text-align: right;\">\n",
       "      <th></th>\n",
       "      <th>INSTNM</th>\n",
       "      <th>CITY</th>\n",
       "      <th>STABBR</th>\n",
       "      <th>ZIP</th>\n",
       "      <th>ACCREDAGENCY</th>\n",
       "      <th>UNITID</th>\n",
       "      <th>OPEID</th>\n",
       "      <th>REGION</th>\n",
       "      <th>CONTROL</th>\n",
       "      <th>PREDDEG</th>\n",
       "      <th>...</th>\n",
       "      <th>PPTUG_EF</th>\n",
       "      <th>NPT4_PRIV</th>\n",
       "      <th>INEXPFTE</th>\n",
       "      <th>AVGFACSAL</th>\n",
       "      <th>C150_4</th>\n",
       "      <th>PFTFTUG1_EF</th>\n",
       "      <th>COMPL_RPY_3YR_RT</th>\n",
       "      <th>COMPL_RPY_5YR_RT</th>\n",
       "      <th>MD_EARN_WNE_P10</th>\n",
       "      <th>rankby_admin_rate</th>\n",
       "    </tr>\n",
       "  </thead>\n",
       "  <tbody>\n",
       "    <tr>\n",
       "      <th>0</th>\n",
       "      <td>Alabama A &amp; M University</td>\n",
       "      <td>Normal</td>\n",
       "      <td>AL</td>\n",
       "      <td>35762</td>\n",
       "      <td>Southern Association of Colleges and Schools C...</td>\n",
       "      <td>100654</td>\n",
       "      <td>100200.0</td>\n",
       "      <td>5.0</td>\n",
       "      <td>1.0</td>\n",
       "      <td>3.0</td>\n",
       "      <td>...</td>\n",
       "      <td>0.0587</td>\n",
       "      <td>21573.738617</td>\n",
       "      <td>5384.0</td>\n",
       "      <td>7101.0</td>\n",
       "      <td>0.2685</td>\n",
       "      <td>0.8987</td>\n",
       "      <td>0.429326</td>\n",
       "      <td>0.511318</td>\n",
       "      <td>31000.0</td>\n",
       "      <td>256.0</td>\n",
       "    </tr>\n",
       "    <tr>\n",
       "      <th>1</th>\n",
       "      <td>University of Alabama at Birmingham</td>\n",
       "      <td>Birmingham</td>\n",
       "      <td>AL</td>\n",
       "      <td>35294-0110</td>\n",
       "      <td>Southern Association of Colleges and Schools C...</td>\n",
       "      <td>100663</td>\n",
       "      <td>105200.0</td>\n",
       "      <td>5.0</td>\n",
       "      <td>1.0</td>\n",
       "      <td>3.0</td>\n",
       "      <td>...</td>\n",
       "      <td>0.2425</td>\n",
       "      <td>25862.735358</td>\n",
       "      <td>16454.0</td>\n",
       "      <td>10717.0</td>\n",
       "      <td>0.5829</td>\n",
       "      <td>0.6009</td>\n",
       "      <td>0.618270</td>\n",
       "      <td>0.673330</td>\n",
       "      <td>41200.0</td>\n",
       "      <td>194.0</td>\n",
       "    </tr>\n",
       "    <tr>\n",
       "      <th>2</th>\n",
       "      <td>Amridge University</td>\n",
       "      <td>Montgomery</td>\n",
       "      <td>AL</td>\n",
       "      <td>36117-3553</td>\n",
       "      <td>Southern Association of Colleges and Schools C...</td>\n",
       "      <td>100690</td>\n",
       "      <td>2503400.0</td>\n",
       "      <td>5.0</td>\n",
       "      <td>2.0</td>\n",
       "      <td>3.0</td>\n",
       "      <td>...</td>\n",
       "      <td>0.5014</td>\n",
       "      <td>15322.000000</td>\n",
       "      <td>4206.0</td>\n",
       "      <td>4292.0</td>\n",
       "      <td>0.4000</td>\n",
       "      <td>0.0035</td>\n",
       "      <td>0.439024</td>\n",
       "      <td>0.550725</td>\n",
       "      <td>39600.0</td>\n",
       "      <td>1237.0</td>\n",
       "    </tr>\n",
       "    <tr>\n",
       "      <th>3</th>\n",
       "      <td>University of Alabama in Huntsville</td>\n",
       "      <td>Huntsville</td>\n",
       "      <td>AL</td>\n",
       "      <td>35899</td>\n",
       "      <td>Southern Association of Colleges and Schools C...</td>\n",
       "      <td>100706</td>\n",
       "      <td>105500.0</td>\n",
       "      <td>5.0</td>\n",
       "      <td>1.0</td>\n",
       "      <td>3.0</td>\n",
       "      <td>...</td>\n",
       "      <td>0.1443</td>\n",
       "      <td>26485.605762</td>\n",
       "      <td>9242.0</td>\n",
       "      <td>9442.0</td>\n",
       "      <td>0.5187</td>\n",
       "      <td>0.6176</td>\n",
       "      <td>0.680887</td>\n",
       "      <td>0.742248</td>\n",
       "      <td>46700.0</td>\n",
       "      <td>503.0</td>\n",
       "    </tr>\n",
       "    <tr>\n",
       "      <th>4</th>\n",
       "      <td>Alabama State University</td>\n",
       "      <td>Montgomery</td>\n",
       "      <td>AL</td>\n",
       "      <td>36104-0271</td>\n",
       "      <td>Southern Association of Colleges and Schools C...</td>\n",
       "      <td>100724</td>\n",
       "      <td>100500.0</td>\n",
       "      <td>5.0</td>\n",
       "      <td>1.0</td>\n",
       "      <td>3.0</td>\n",
       "      <td>...</td>\n",
       "      <td>0.0666</td>\n",
       "      <td>21225.911175</td>\n",
       "      <td>8527.0</td>\n",
       "      <td>7754.0</td>\n",
       "      <td>0.3001</td>\n",
       "      <td>0.8650</td>\n",
       "      <td>0.366038</td>\n",
       "      <td>0.442308</td>\n",
       "      <td>27700.0</td>\n",
       "      <td>78.0</td>\n",
       "    </tr>\n",
       "  </tbody>\n",
       "</table>\n",
       "<p>5 rows × 27 columns</p>\n",
       "</div>"
      ],
      "text/plain": [
       "                                INSTNM        CITY STABBR         ZIP  \\\n",
       "0             Alabama A & M University      Normal     AL       35762   \n",
       "1  University of Alabama at Birmingham  Birmingham     AL  35294-0110   \n",
       "2                   Amridge University  Montgomery     AL  36117-3553   \n",
       "3  University of Alabama in Huntsville  Huntsville     AL       35899   \n",
       "4             Alabama State University  Montgomery     AL  36104-0271   \n",
       "\n",
       "                                        ACCREDAGENCY  UNITID      OPEID  \\\n",
       "0  Southern Association of Colleges and Schools C...  100654   100200.0   \n",
       "1  Southern Association of Colleges and Schools C...  100663   105200.0   \n",
       "2  Southern Association of Colleges and Schools C...  100690  2503400.0   \n",
       "3  Southern Association of Colleges and Schools C...  100706   105500.0   \n",
       "4  Southern Association of Colleges and Schools C...  100724   100500.0   \n",
       "\n",
       "   REGION  CONTROL  PREDDEG  ...  PPTUG_EF     NPT4_PRIV  INEXPFTE  AVGFACSAL  \\\n",
       "0     5.0      1.0      3.0  ...    0.0587  21573.738617    5384.0     7101.0   \n",
       "1     5.0      1.0      3.0  ...    0.2425  25862.735358   16454.0    10717.0   \n",
       "2     5.0      2.0      3.0  ...    0.5014  15322.000000    4206.0     4292.0   \n",
       "3     5.0      1.0      3.0  ...    0.1443  26485.605762    9242.0     9442.0   \n",
       "4     5.0      1.0      3.0  ...    0.0666  21225.911175    8527.0     7754.0   \n",
       "\n",
       "   C150_4  PFTFTUG1_EF  COMPL_RPY_3YR_RT  COMPL_RPY_5YR_RT  MD_EARN_WNE_P10  \\\n",
       "0  0.2685       0.8987          0.429326          0.511318          31000.0   \n",
       "1  0.5829       0.6009          0.618270          0.673330          41200.0   \n",
       "2  0.4000       0.0035          0.439024          0.550725          39600.0   \n",
       "3  0.5187       0.6176          0.680887          0.742248          46700.0   \n",
       "4  0.3001       0.8650          0.366038          0.442308          27700.0   \n",
       "\n",
       "   rankby_admin_rate  \n",
       "0              256.0  \n",
       "1              194.0  \n",
       "2             1237.0  \n",
       "3              503.0  \n",
       "4               78.0  \n",
       "\n",
       "[5 rows x 27 columns]"
      ]
     },
     "execution_count": 36,
     "metadata": {},
     "output_type": "execute_result"
    }
   ],
   "source": [
    "df_copy.head()"
   ]
  },
  {
   "cell_type": "code",
   "execution_count": 55,
   "metadata": {},
   "outputs": [
    {
     "data": {
      "text/html": [
       "<div>\n",
       "<style scoped>\n",
       "    .dataframe tbody tr th:only-of-type {\n",
       "        vertical-align: middle;\n",
       "    }\n",
       "\n",
       "    .dataframe tbody tr th {\n",
       "        vertical-align: top;\n",
       "    }\n",
       "\n",
       "    .dataframe thead th {\n",
       "        text-align: right;\n",
       "    }\n",
       "</style>\n",
       "<table border=\"1\" class=\"dataframe\">\n",
       "  <thead>\n",
       "    <tr style=\"text-align: right;\">\n",
       "      <th></th>\n",
       "      <th>INSTNM</th>\n",
       "      <th>CITY</th>\n",
       "      <th>STABBR</th>\n",
       "      <th>ZIP</th>\n",
       "      <th>ACCREDAGENCY</th>\n",
       "      <th>UNITID</th>\n",
       "      <th>OPEID</th>\n",
       "      <th>REGION</th>\n",
       "      <th>CONTROL</th>\n",
       "      <th>PREDDEG</th>\n",
       "      <th>...</th>\n",
       "      <th>PPTUG_EF</th>\n",
       "      <th>NPT4_PRIV</th>\n",
       "      <th>INEXPFTE</th>\n",
       "      <th>AVGFACSAL</th>\n",
       "      <th>C150_4</th>\n",
       "      <th>PFTFTUG1_EF</th>\n",
       "      <th>COMPL_RPY_3YR_RT</th>\n",
       "      <th>COMPL_RPY_5YR_RT</th>\n",
       "      <th>MD_EARN_WNE_P10</th>\n",
       "      <th>rankby_admin_rate</th>\n",
       "    </tr>\n",
       "  </thead>\n",
       "  <tbody>\n",
       "    <tr>\n",
       "      <th>1991</th>\n",
       "      <td>University of Phoenix-Georgia</td>\n",
       "      <td>Atlanta</td>\n",
       "      <td>GA</td>\n",
       "      <td>30328</td>\n",
       "      <td>Higher Learning Commission</td>\n",
       "      <td>484677</td>\n",
       "      <td>82098876.0</td>\n",
       "      <td>5.0</td>\n",
       "      <td>3.0</td>\n",
       "      <td>3.0</td>\n",
       "      <td>...</td>\n",
       "      <td>0.0</td>\n",
       "      <td>4357.199381</td>\n",
       "      <td>3311.0</td>\n",
       "      <td>-6621.915363</td>\n",
       "      <td>0.1269</td>\n",
       "      <td>-0.244842</td>\n",
       "      <td>0.420775</td>\n",
       "      <td>0.543255</td>\n",
       "      <td>47100.0</td>\n",
       "      <td>1.0</td>\n",
       "    </tr>\n",
       "    <tr>\n",
       "      <th>1994</th>\n",
       "      <td>University of Phoenix-Nevada</td>\n",
       "      <td>Las Vegas</td>\n",
       "      <td>NV</td>\n",
       "      <td>89135</td>\n",
       "      <td>Higher Learning Commission</td>\n",
       "      <td>484710</td>\n",
       "      <td>82098816.0</td>\n",
       "      <td>8.0</td>\n",
       "      <td>3.0</td>\n",
       "      <td>3.0</td>\n",
       "      <td>...</td>\n",
       "      <td>0.0</td>\n",
       "      <td>14777.000000</td>\n",
       "      <td>3007.0</td>\n",
       "      <td>-6889.329295</td>\n",
       "      <td>0.1963</td>\n",
       "      <td>0.083300</td>\n",
       "      <td>0.420775</td>\n",
       "      <td>0.543255</td>\n",
       "      <td>47100.0</td>\n",
       "      <td>2.0</td>\n",
       "    </tr>\n",
       "    <tr>\n",
       "      <th>1786</th>\n",
       "      <td>University of Phoenix-Washington</td>\n",
       "      <td>Tukwila</td>\n",
       "      <td>WA</td>\n",
       "      <td>98188-8553</td>\n",
       "      <td>Higher Learning Commission</td>\n",
       "      <td>432223</td>\n",
       "      <td>52098845.0</td>\n",
       "      <td>8.0</td>\n",
       "      <td>3.0</td>\n",
       "      <td>3.0</td>\n",
       "      <td>...</td>\n",
       "      <td>0.0</td>\n",
       "      <td>10616.853709</td>\n",
       "      <td>2743.0</td>\n",
       "      <td>-2275.772707</td>\n",
       "      <td>0.1667</td>\n",
       "      <td>0.055562</td>\n",
       "      <td>0.420775</td>\n",
       "      <td>0.543255</td>\n",
       "      <td>47100.0</td>\n",
       "      <td>3.0</td>\n",
       "    </tr>\n",
       "    <tr>\n",
       "      <th>1769</th>\n",
       "      <td>University of Phoenix-New Mexico</td>\n",
       "      <td>Albuquerque</td>\n",
       "      <td>NM</td>\n",
       "      <td>87113-1570</td>\n",
       "      <td>Higher Learning Commission</td>\n",
       "      <td>405997</td>\n",
       "      <td>52098843.0</td>\n",
       "      <td>6.0</td>\n",
       "      <td>3.0</td>\n",
       "      <td>3.0</td>\n",
       "      <td>...</td>\n",
       "      <td>0.0</td>\n",
       "      <td>10756.086457</td>\n",
       "      <td>6719.0</td>\n",
       "      <td>-1842.976059</td>\n",
       "      <td>0.2642</td>\n",
       "      <td>0.067369</td>\n",
       "      <td>0.420775</td>\n",
       "      <td>0.543255</td>\n",
       "      <td>47100.0</td>\n",
       "      <td>4.0</td>\n",
       "    </tr>\n",
       "    <tr>\n",
       "      <th>1997</th>\n",
       "      <td>University of Phoenix-Texas</td>\n",
       "      <td>Houston</td>\n",
       "      <td>TX</td>\n",
       "      <td>77079</td>\n",
       "      <td>Higher Learning Commission</td>\n",
       "      <td>484756</td>\n",
       "      <td>42098871.0</td>\n",
       "      <td>6.0</td>\n",
       "      <td>3.0</td>\n",
       "      <td>3.0</td>\n",
       "      <td>...</td>\n",
       "      <td>0.0</td>\n",
       "      <td>15830.000000</td>\n",
       "      <td>2367.0</td>\n",
       "      <td>-204.947950</td>\n",
       "      <td>0.1410</td>\n",
       "      <td>0.038500</td>\n",
       "      <td>0.420775</td>\n",
       "      <td>0.543255</td>\n",
       "      <td>47100.0</td>\n",
       "      <td>5.0</td>\n",
       "    </tr>\n",
       "    <tr>\n",
       "      <th>1999</th>\n",
       "      <td>University of Phoenix-Pennsylvania</td>\n",
       "      <td>Philadelphia</td>\n",
       "      <td>PA</td>\n",
       "      <td>19103</td>\n",
       "      <td>Higher Learning Commission</td>\n",
       "      <td>484783</td>\n",
       "      <td>42098854.0</td>\n",
       "      <td>2.0</td>\n",
       "      <td>3.0</td>\n",
       "      <td>3.0</td>\n",
       "      <td>...</td>\n",
       "      <td>0.0</td>\n",
       "      <td>12114.159319</td>\n",
       "      <td>6204.0</td>\n",
       "      <td>-475.604282</td>\n",
       "      <td>0.1358</td>\n",
       "      <td>0.157225</td>\n",
       "      <td>0.420775</td>\n",
       "      <td>0.543255</td>\n",
       "      <td>47100.0</td>\n",
       "      <td>6.0</td>\n",
       "    </tr>\n",
       "    <tr>\n",
       "      <th>1996</th>\n",
       "      <td>University of Phoenix-Tennessee</td>\n",
       "      <td>Cordova</td>\n",
       "      <td>TN</td>\n",
       "      <td>38018</td>\n",
       "      <td>missing</td>\n",
       "      <td>484747</td>\n",
       "      <td>42098867.0</td>\n",
       "      <td>5.0</td>\n",
       "      <td>3.0</td>\n",
       "      <td>3.0</td>\n",
       "      <td>...</td>\n",
       "      <td>0.0</td>\n",
       "      <td>12236.676774</td>\n",
       "      <td>4245.0</td>\n",
       "      <td>-593.289020</td>\n",
       "      <td>0.1336</td>\n",
       "      <td>0.141300</td>\n",
       "      <td>0.420775</td>\n",
       "      <td>0.543255</td>\n",
       "      <td>47100.0</td>\n",
       "      <td>7.0</td>\n",
       "    </tr>\n",
       "    <tr>\n",
       "      <th>1995</th>\n",
       "      <td>University of Phoenix-North Carolina</td>\n",
       "      <td>Charlotte</td>\n",
       "      <td>NC</td>\n",
       "      <td>28273</td>\n",
       "      <td>Higher Learning Commission</td>\n",
       "      <td>484729</td>\n",
       "      <td>42098827.0</td>\n",
       "      <td>5.0</td>\n",
       "      <td>3.0</td>\n",
       "      <td>3.0</td>\n",
       "      <td>...</td>\n",
       "      <td>0.0</td>\n",
       "      <td>12271.518571</td>\n",
       "      <td>4161.0</td>\n",
       "      <td>-569.835007</td>\n",
       "      <td>0.1529</td>\n",
       "      <td>0.144256</td>\n",
       "      <td>0.420775</td>\n",
       "      <td>0.543255</td>\n",
       "      <td>47100.0</td>\n",
       "      <td>8.0</td>\n",
       "    </tr>\n",
       "    <tr>\n",
       "      <th>1998</th>\n",
       "      <td>University of Phoenix-Virginia</td>\n",
       "      <td>Virginia Beach</td>\n",
       "      <td>VA</td>\n",
       "      <td>23462</td>\n",
       "      <td>missing</td>\n",
       "      <td>484765</td>\n",
       "      <td>42098889.0</td>\n",
       "      <td>5.0</td>\n",
       "      <td>3.0</td>\n",
       "      <td>3.0</td>\n",
       "      <td>...</td>\n",
       "      <td>0.0</td>\n",
       "      <td>11918.680298</td>\n",
       "      <td>7239.0</td>\n",
       "      <td>-539.904346</td>\n",
       "      <td>0.1746</td>\n",
       "      <td>0.165671</td>\n",
       "      <td>0.420775</td>\n",
       "      <td>0.543255</td>\n",
       "      <td>47100.0</td>\n",
       "      <td>9.0</td>\n",
       "    </tr>\n",
       "    <tr>\n",
       "      <th>1755</th>\n",
       "      <td>University of Phoenix-Utah</td>\n",
       "      <td>Salt Lake City</td>\n",
       "      <td>UT</td>\n",
       "      <td>84123-4642</td>\n",
       "      <td>Higher Learning Commission</td>\n",
       "      <td>380465</td>\n",
       "      <td>42098884.0</td>\n",
       "      <td>7.0</td>\n",
       "      <td>3.0</td>\n",
       "      <td>3.0</td>\n",
       "      <td>...</td>\n",
       "      <td>0.0</td>\n",
       "      <td>12993.274769</td>\n",
       "      <td>2972.0</td>\n",
       "      <td>-732.251614</td>\n",
       "      <td>0.2000</td>\n",
       "      <td>0.166587</td>\n",
       "      <td>0.420775</td>\n",
       "      <td>0.543255</td>\n",
       "      <td>47100.0</td>\n",
       "      <td>10.0</td>\n",
       "    </tr>\n",
       "  </tbody>\n",
       "</table>\n",
       "<p>10 rows × 27 columns</p>\n",
       "</div>"
      ],
      "text/plain": [
       "                                    INSTNM            CITY STABBR         ZIP  \\\n",
       "1991         University of Phoenix-Georgia         Atlanta     GA       30328   \n",
       "1994          University of Phoenix-Nevada       Las Vegas     NV       89135   \n",
       "1786      University of Phoenix-Washington         Tukwila     WA  98188-8553   \n",
       "1769      University of Phoenix-New Mexico     Albuquerque     NM  87113-1570   \n",
       "1997           University of Phoenix-Texas         Houston     TX       77079   \n",
       "1999    University of Phoenix-Pennsylvania    Philadelphia     PA       19103   \n",
       "1996       University of Phoenix-Tennessee         Cordova     TN       38018   \n",
       "1995  University of Phoenix-North Carolina       Charlotte     NC       28273   \n",
       "1998        University of Phoenix-Virginia  Virginia Beach     VA       23462   \n",
       "1755            University of Phoenix-Utah  Salt Lake City     UT  84123-4642   \n",
       "\n",
       "                    ACCREDAGENCY  UNITID       OPEID  REGION  CONTROL  \\\n",
       "1991  Higher Learning Commission  484677  82098876.0     5.0      3.0   \n",
       "1994  Higher Learning Commission  484710  82098816.0     8.0      3.0   \n",
       "1786  Higher Learning Commission  432223  52098845.0     8.0      3.0   \n",
       "1769  Higher Learning Commission  405997  52098843.0     6.0      3.0   \n",
       "1997  Higher Learning Commission  484756  42098871.0     6.0      3.0   \n",
       "1999  Higher Learning Commission  484783  42098854.0     2.0      3.0   \n",
       "1996                     missing  484747  42098867.0     5.0      3.0   \n",
       "1995  Higher Learning Commission  484729  42098827.0     5.0      3.0   \n",
       "1998                     missing  484765  42098889.0     5.0      3.0   \n",
       "1755  Higher Learning Commission  380465  42098884.0     7.0      3.0   \n",
       "\n",
       "      PREDDEG  ...  PPTUG_EF     NPT4_PRIV  INEXPFTE    AVGFACSAL  C150_4  \\\n",
       "1991      3.0  ...       0.0   4357.199381    3311.0 -6621.915363  0.1269   \n",
       "1994      3.0  ...       0.0  14777.000000    3007.0 -6889.329295  0.1963   \n",
       "1786      3.0  ...       0.0  10616.853709    2743.0 -2275.772707  0.1667   \n",
       "1769      3.0  ...       0.0  10756.086457    6719.0 -1842.976059  0.2642   \n",
       "1997      3.0  ...       0.0  15830.000000    2367.0  -204.947950  0.1410   \n",
       "1999      3.0  ...       0.0  12114.159319    6204.0  -475.604282  0.1358   \n",
       "1996      3.0  ...       0.0  12236.676774    4245.0  -593.289020  0.1336   \n",
       "1995      3.0  ...       0.0  12271.518571    4161.0  -569.835007  0.1529   \n",
       "1998      3.0  ...       0.0  11918.680298    7239.0  -539.904346  0.1746   \n",
       "1755      3.0  ...       0.0  12993.274769    2972.0  -732.251614  0.2000   \n",
       "\n",
       "      PFTFTUG1_EF  COMPL_RPY_3YR_RT  COMPL_RPY_5YR_RT  MD_EARN_WNE_P10  \\\n",
       "1991    -0.244842          0.420775          0.543255          47100.0   \n",
       "1994     0.083300          0.420775          0.543255          47100.0   \n",
       "1786     0.055562          0.420775          0.543255          47100.0   \n",
       "1769     0.067369          0.420775          0.543255          47100.0   \n",
       "1997     0.038500          0.420775          0.543255          47100.0   \n",
       "1999     0.157225          0.420775          0.543255          47100.0   \n",
       "1996     0.141300          0.420775          0.543255          47100.0   \n",
       "1995     0.144256          0.420775          0.543255          47100.0   \n",
       "1998     0.165671          0.420775          0.543255          47100.0   \n",
       "1755     0.166587          0.420775          0.543255          47100.0   \n",
       "\n",
       "      rankby_admin_rate  \n",
       "1991                1.0  \n",
       "1994                2.0  \n",
       "1786                3.0  \n",
       "1769                4.0  \n",
       "1997                5.0  \n",
       "1999                6.0  \n",
       "1996                7.0  \n",
       "1995                8.0  \n",
       "1998                9.0  \n",
       "1755               10.0  \n",
       "\n",
       "[10 rows x 27 columns]"
      ]
     },
     "execution_count": 55,
     "metadata": {},
     "output_type": "execute_result"
    }
   ],
   "source": [
    "# 10 least selective schools based on admission rates, \n",
    "# assuming the higher the admin rate the least selective the school is \n",
    "\n",
    "df_copy_10leastselective= df_copy.sort_values('ADM_RATE',ascending=False).head(10)\n",
    "df_copy_10leastselective"
   ]
  },
  {
   "cell_type": "code",
   "execution_count": 56,
   "metadata": {},
   "outputs": [
    {
     "data": {
      "application/vnd.plotly.v1+json": {
       "config": {
        "plotlyServerURL": "https://plot.ly"
       },
       "data": [
        {
         "colorbar": {
          "title": {
           "text": "Admission Rate"
          }
         },
         "colorscale": [
          [
           0,
           "rgb(255, 198, 196)"
          ],
          [
           0.16666666666666666,
           "rgb(244, 163, 168)"
          ],
          [
           0.3333333333333333,
           "rgb(227, 129, 145)"
          ],
          [
           0.5,
           "rgb(204, 96, 125)"
          ],
          [
           0.6666666666666666,
           "rgb(173, 70, 108)"
          ],
          [
           0.8333333333333334,
           "rgb(139, 48, 88)"
          ],
          [
           1,
           "rgb(103, 32, 68)"
          ]
         ],
         "locationmode": "USA-states",
         "locations": [
          "GA",
          "NV",
          "WA",
          "NM",
          "TX",
          "PA",
          "TN",
          "NC",
          "VA",
          "UT"
         ],
         "type": "choropleth",
         "z": [
          1.6796490582865204,
          1.6358226022604603,
          1.2929307576625326,
          1.271479421398817,
          1.2055648500803278,
          1.2034012134153054,
          1.2019234398878604,
          1.1994179285380033,
          1.171582617217894,
          1.1637000040434706
         ]
        }
       ],
       "layout": {
        "geo": {
         "scope": "usa"
        },
        "template": {
         "data": {
          "bar": [
           {
            "error_x": {
             "color": "#2a3f5f"
            },
            "error_y": {
             "color": "#2a3f5f"
            },
            "marker": {
             "line": {
              "color": "#E5ECF6",
              "width": 0.5
             },
             "pattern": {
              "fillmode": "overlay",
              "size": 10,
              "solidity": 0.2
             }
            },
            "type": "bar"
           }
          ],
          "barpolar": [
           {
            "marker": {
             "line": {
              "color": "#E5ECF6",
              "width": 0.5
             },
             "pattern": {
              "fillmode": "overlay",
              "size": 10,
              "solidity": 0.2
             }
            },
            "type": "barpolar"
           }
          ],
          "carpet": [
           {
            "aaxis": {
             "endlinecolor": "#2a3f5f",
             "gridcolor": "white",
             "linecolor": "white",
             "minorgridcolor": "white",
             "startlinecolor": "#2a3f5f"
            },
            "baxis": {
             "endlinecolor": "#2a3f5f",
             "gridcolor": "white",
             "linecolor": "white",
             "minorgridcolor": "white",
             "startlinecolor": "#2a3f5f"
            },
            "type": "carpet"
           }
          ],
          "choropleth": [
           {
            "colorbar": {
             "outlinewidth": 0,
             "ticks": ""
            },
            "type": "choropleth"
           }
          ],
          "contour": [
           {
            "colorbar": {
             "outlinewidth": 0,
             "ticks": ""
            },
            "colorscale": [
             [
              0,
              "#0d0887"
             ],
             [
              0.1111111111111111,
              "#46039f"
             ],
             [
              0.2222222222222222,
              "#7201a8"
             ],
             [
              0.3333333333333333,
              "#9c179e"
             ],
             [
              0.4444444444444444,
              "#bd3786"
             ],
             [
              0.5555555555555556,
              "#d8576b"
             ],
             [
              0.6666666666666666,
              "#ed7953"
             ],
             [
              0.7777777777777778,
              "#fb9f3a"
             ],
             [
              0.8888888888888888,
              "#fdca26"
             ],
             [
              1,
              "#f0f921"
             ]
            ],
            "type": "contour"
           }
          ],
          "contourcarpet": [
           {
            "colorbar": {
             "outlinewidth": 0,
             "ticks": ""
            },
            "type": "contourcarpet"
           }
          ],
          "heatmap": [
           {
            "colorbar": {
             "outlinewidth": 0,
             "ticks": ""
            },
            "colorscale": [
             [
              0,
              "#0d0887"
             ],
             [
              0.1111111111111111,
              "#46039f"
             ],
             [
              0.2222222222222222,
              "#7201a8"
             ],
             [
              0.3333333333333333,
              "#9c179e"
             ],
             [
              0.4444444444444444,
              "#bd3786"
             ],
             [
              0.5555555555555556,
              "#d8576b"
             ],
             [
              0.6666666666666666,
              "#ed7953"
             ],
             [
              0.7777777777777778,
              "#fb9f3a"
             ],
             [
              0.8888888888888888,
              "#fdca26"
             ],
             [
              1,
              "#f0f921"
             ]
            ],
            "type": "heatmap"
           }
          ],
          "heatmapgl": [
           {
            "colorbar": {
             "outlinewidth": 0,
             "ticks": ""
            },
            "colorscale": [
             [
              0,
              "#0d0887"
             ],
             [
              0.1111111111111111,
              "#46039f"
             ],
             [
              0.2222222222222222,
              "#7201a8"
             ],
             [
              0.3333333333333333,
              "#9c179e"
             ],
             [
              0.4444444444444444,
              "#bd3786"
             ],
             [
              0.5555555555555556,
              "#d8576b"
             ],
             [
              0.6666666666666666,
              "#ed7953"
             ],
             [
              0.7777777777777778,
              "#fb9f3a"
             ],
             [
              0.8888888888888888,
              "#fdca26"
             ],
             [
              1,
              "#f0f921"
             ]
            ],
            "type": "heatmapgl"
           }
          ],
          "histogram": [
           {
            "marker": {
             "pattern": {
              "fillmode": "overlay",
              "size": 10,
              "solidity": 0.2
             }
            },
            "type": "histogram"
           }
          ],
          "histogram2d": [
           {
            "colorbar": {
             "outlinewidth": 0,
             "ticks": ""
            },
            "colorscale": [
             [
              0,
              "#0d0887"
             ],
             [
              0.1111111111111111,
              "#46039f"
             ],
             [
              0.2222222222222222,
              "#7201a8"
             ],
             [
              0.3333333333333333,
              "#9c179e"
             ],
             [
              0.4444444444444444,
              "#bd3786"
             ],
             [
              0.5555555555555556,
              "#d8576b"
             ],
             [
              0.6666666666666666,
              "#ed7953"
             ],
             [
              0.7777777777777778,
              "#fb9f3a"
             ],
             [
              0.8888888888888888,
              "#fdca26"
             ],
             [
              1,
              "#f0f921"
             ]
            ],
            "type": "histogram2d"
           }
          ],
          "histogram2dcontour": [
           {
            "colorbar": {
             "outlinewidth": 0,
             "ticks": ""
            },
            "colorscale": [
             [
              0,
              "#0d0887"
             ],
             [
              0.1111111111111111,
              "#46039f"
             ],
             [
              0.2222222222222222,
              "#7201a8"
             ],
             [
              0.3333333333333333,
              "#9c179e"
             ],
             [
              0.4444444444444444,
              "#bd3786"
             ],
             [
              0.5555555555555556,
              "#d8576b"
             ],
             [
              0.6666666666666666,
              "#ed7953"
             ],
             [
              0.7777777777777778,
              "#fb9f3a"
             ],
             [
              0.8888888888888888,
              "#fdca26"
             ],
             [
              1,
              "#f0f921"
             ]
            ],
            "type": "histogram2dcontour"
           }
          ],
          "mesh3d": [
           {
            "colorbar": {
             "outlinewidth": 0,
             "ticks": ""
            },
            "type": "mesh3d"
           }
          ],
          "parcoords": [
           {
            "line": {
             "colorbar": {
              "outlinewidth": 0,
              "ticks": ""
             }
            },
            "type": "parcoords"
           }
          ],
          "pie": [
           {
            "automargin": true,
            "type": "pie"
           }
          ],
          "scatter": [
           {
            "marker": {
             "colorbar": {
              "outlinewidth": 0,
              "ticks": ""
             }
            },
            "type": "scatter"
           }
          ],
          "scatter3d": [
           {
            "line": {
             "colorbar": {
              "outlinewidth": 0,
              "ticks": ""
             }
            },
            "marker": {
             "colorbar": {
              "outlinewidth": 0,
              "ticks": ""
             }
            },
            "type": "scatter3d"
           }
          ],
          "scattercarpet": [
           {
            "marker": {
             "colorbar": {
              "outlinewidth": 0,
              "ticks": ""
             }
            },
            "type": "scattercarpet"
           }
          ],
          "scattergeo": [
           {
            "marker": {
             "colorbar": {
              "outlinewidth": 0,
              "ticks": ""
             }
            },
            "type": "scattergeo"
           }
          ],
          "scattergl": [
           {
            "marker": {
             "colorbar": {
              "outlinewidth": 0,
              "ticks": ""
             }
            },
            "type": "scattergl"
           }
          ],
          "scattermapbox": [
           {
            "marker": {
             "colorbar": {
              "outlinewidth": 0,
              "ticks": ""
             }
            },
            "type": "scattermapbox"
           }
          ],
          "scatterpolar": [
           {
            "marker": {
             "colorbar": {
              "outlinewidth": 0,
              "ticks": ""
             }
            },
            "type": "scatterpolar"
           }
          ],
          "scatterpolargl": [
           {
            "marker": {
             "colorbar": {
              "outlinewidth": 0,
              "ticks": ""
             }
            },
            "type": "scatterpolargl"
           }
          ],
          "scatterternary": [
           {
            "marker": {
             "colorbar": {
              "outlinewidth": 0,
              "ticks": ""
             }
            },
            "type": "scatterternary"
           }
          ],
          "surface": [
           {
            "colorbar": {
             "outlinewidth": 0,
             "ticks": ""
            },
            "colorscale": [
             [
              0,
              "#0d0887"
             ],
             [
              0.1111111111111111,
              "#46039f"
             ],
             [
              0.2222222222222222,
              "#7201a8"
             ],
             [
              0.3333333333333333,
              "#9c179e"
             ],
             [
              0.4444444444444444,
              "#bd3786"
             ],
             [
              0.5555555555555556,
              "#d8576b"
             ],
             [
              0.6666666666666666,
              "#ed7953"
             ],
             [
              0.7777777777777778,
              "#fb9f3a"
             ],
             [
              0.8888888888888888,
              "#fdca26"
             ],
             [
              1,
              "#f0f921"
             ]
            ],
            "type": "surface"
           }
          ],
          "table": [
           {
            "cells": {
             "fill": {
              "color": "#EBF0F8"
             },
             "line": {
              "color": "white"
             }
            },
            "header": {
             "fill": {
              "color": "#C8D4E3"
             },
             "line": {
              "color": "white"
             }
            },
            "type": "table"
           }
          ]
         },
         "layout": {
          "annotationdefaults": {
           "arrowcolor": "#2a3f5f",
           "arrowhead": 0,
           "arrowwidth": 1
          },
          "autotypenumbers": "strict",
          "coloraxis": {
           "colorbar": {
            "outlinewidth": 0,
            "ticks": ""
           }
          },
          "colorscale": {
           "diverging": [
            [
             0,
             "#8e0152"
            ],
            [
             0.1,
             "#c51b7d"
            ],
            [
             0.2,
             "#de77ae"
            ],
            [
             0.3,
             "#f1b6da"
            ],
            [
             0.4,
             "#fde0ef"
            ],
            [
             0.5,
             "#f7f7f7"
            ],
            [
             0.6,
             "#e6f5d0"
            ],
            [
             0.7,
             "#b8e186"
            ],
            [
             0.8,
             "#7fbc41"
            ],
            [
             0.9,
             "#4d9221"
            ],
            [
             1,
             "#276419"
            ]
           ],
           "sequential": [
            [
             0,
             "#0d0887"
            ],
            [
             0.1111111111111111,
             "#46039f"
            ],
            [
             0.2222222222222222,
             "#7201a8"
            ],
            [
             0.3333333333333333,
             "#9c179e"
            ],
            [
             0.4444444444444444,
             "#bd3786"
            ],
            [
             0.5555555555555556,
             "#d8576b"
            ],
            [
             0.6666666666666666,
             "#ed7953"
            ],
            [
             0.7777777777777778,
             "#fb9f3a"
            ],
            [
             0.8888888888888888,
             "#fdca26"
            ],
            [
             1,
             "#f0f921"
            ]
           ],
           "sequentialminus": [
            [
             0,
             "#0d0887"
            ],
            [
             0.1111111111111111,
             "#46039f"
            ],
            [
             0.2222222222222222,
             "#7201a8"
            ],
            [
             0.3333333333333333,
             "#9c179e"
            ],
            [
             0.4444444444444444,
             "#bd3786"
            ],
            [
             0.5555555555555556,
             "#d8576b"
            ],
            [
             0.6666666666666666,
             "#ed7953"
            ],
            [
             0.7777777777777778,
             "#fb9f3a"
            ],
            [
             0.8888888888888888,
             "#fdca26"
            ],
            [
             1,
             "#f0f921"
            ]
           ]
          },
          "colorway": [
           "#636efa",
           "#EF553B",
           "#00cc96",
           "#ab63fa",
           "#FFA15A",
           "#19d3f3",
           "#FF6692",
           "#B6E880",
           "#FF97FF",
           "#FECB52"
          ],
          "font": {
           "color": "#2a3f5f"
          },
          "geo": {
           "bgcolor": "white",
           "lakecolor": "white",
           "landcolor": "#E5ECF6",
           "showlakes": true,
           "showland": true,
           "subunitcolor": "white"
          },
          "hoverlabel": {
           "align": "left"
          },
          "hovermode": "closest",
          "mapbox": {
           "style": "light"
          },
          "paper_bgcolor": "white",
          "plot_bgcolor": "#E5ECF6",
          "polar": {
           "angularaxis": {
            "gridcolor": "white",
            "linecolor": "white",
            "ticks": ""
           },
           "bgcolor": "#E5ECF6",
           "radialaxis": {
            "gridcolor": "white",
            "linecolor": "white",
            "ticks": ""
           }
          },
          "scene": {
           "xaxis": {
            "backgroundcolor": "#E5ECF6",
            "gridcolor": "white",
            "gridwidth": 2,
            "linecolor": "white",
            "showbackground": true,
            "ticks": "",
            "zerolinecolor": "white"
           },
           "yaxis": {
            "backgroundcolor": "#E5ECF6",
            "gridcolor": "white",
            "gridwidth": 2,
            "linecolor": "white",
            "showbackground": true,
            "ticks": "",
            "zerolinecolor": "white"
           },
           "zaxis": {
            "backgroundcolor": "#E5ECF6",
            "gridcolor": "white",
            "gridwidth": 2,
            "linecolor": "white",
            "showbackground": true,
            "ticks": "",
            "zerolinecolor": "white"
           }
          },
          "shapedefaults": {
           "line": {
            "color": "#2a3f5f"
           }
          },
          "ternary": {
           "aaxis": {
            "gridcolor": "white",
            "linecolor": "white",
            "ticks": ""
           },
           "baxis": {
            "gridcolor": "white",
            "linecolor": "white",
            "ticks": ""
           },
           "bgcolor": "#E5ECF6",
           "caxis": {
            "gridcolor": "white",
            "linecolor": "white",
            "ticks": ""
           }
          },
          "title": {
           "x": 0.05
          },
          "xaxis": {
           "automargin": true,
           "gridcolor": "white",
           "linecolor": "white",
           "ticks": "",
           "title": {
            "standoff": 15
           },
           "zerolinecolor": "white",
           "zerolinewidth": 2
          },
          "yaxis": {
           "automargin": true,
           "gridcolor": "white",
           "linecolor": "white",
           "ticks": "",
           "title": {
            "standoff": 15
           },
           "zerolinecolor": "white",
           "zerolinewidth": 2
          }
         }
        },
        "title": {
         "text": "10 Least selective schools, Admission Rate by State"
        }
       }
      },
      "text/html": [
       "<div>                            <div id=\"f2ce38f0-328d-4853-91ba-a2bef57a15f3\" class=\"plotly-graph-div\" style=\"height:525px; width:100%;\"></div>            <script type=\"text/javascript\">                require([\"plotly\"], function(Plotly) {                    window.PLOTLYENV=window.PLOTLYENV || {};                                    if (document.getElementById(\"f2ce38f0-328d-4853-91ba-a2bef57a15f3\")) {                    Plotly.newPlot(                        \"f2ce38f0-328d-4853-91ba-a2bef57a15f3\",                        [{\"colorbar\":{\"title\":{\"text\":\"Admission Rate\"}},\"colorscale\":[[0.0,\"rgb(255, 198, 196)\"],[0.16666666666666666,\"rgb(244, 163, 168)\"],[0.3333333333333333,\"rgb(227, 129, 145)\"],[0.5,\"rgb(204, 96, 125)\"],[0.6666666666666666,\"rgb(173, 70, 108)\"],[0.8333333333333334,\"rgb(139, 48, 88)\"],[1.0,\"rgb(103, 32, 68)\"]],\"locationmode\":\"USA-states\",\"locations\":[\"GA\",\"NV\",\"WA\",\"NM\",\"TX\",\"PA\",\"TN\",\"NC\",\"VA\",\"UT\"],\"type\":\"choropleth\",\"z\":[1.6796490582865204,1.6358226022604603,1.2929307576625326,1.271479421398817,1.2055648500803278,1.2034012134153054,1.2019234398878604,1.1994179285380033,1.171582617217894,1.1637000040434706]}],                        {\"geo\":{\"scope\":\"usa\"},\"template\":{\"data\":{\"bar\":[{\"error_x\":{\"color\":\"#2a3f5f\"},\"error_y\":{\"color\":\"#2a3f5f\"},\"marker\":{\"line\":{\"color\":\"#E5ECF6\",\"width\":0.5},\"pattern\":{\"fillmode\":\"overlay\",\"size\":10,\"solidity\":0.2}},\"type\":\"bar\"}],\"barpolar\":[{\"marker\":{\"line\":{\"color\":\"#E5ECF6\",\"width\":0.5},\"pattern\":{\"fillmode\":\"overlay\",\"size\":10,\"solidity\":0.2}},\"type\":\"barpolar\"}],\"carpet\":[{\"aaxis\":{\"endlinecolor\":\"#2a3f5f\",\"gridcolor\":\"white\",\"linecolor\":\"white\",\"minorgridcolor\":\"white\",\"startlinecolor\":\"#2a3f5f\"},\"baxis\":{\"endlinecolor\":\"#2a3f5f\",\"gridcolor\":\"white\",\"linecolor\":\"white\",\"minorgridcolor\":\"white\",\"startlinecolor\":\"#2a3f5f\"},\"type\":\"carpet\"}],\"choropleth\":[{\"colorbar\":{\"outlinewidth\":0,\"ticks\":\"\"},\"type\":\"choropleth\"}],\"contour\":[{\"colorbar\":{\"outlinewidth\":0,\"ticks\":\"\"},\"colorscale\":[[0.0,\"#0d0887\"],[0.1111111111111111,\"#46039f\"],[0.2222222222222222,\"#7201a8\"],[0.3333333333333333,\"#9c179e\"],[0.4444444444444444,\"#bd3786\"],[0.5555555555555556,\"#d8576b\"],[0.6666666666666666,\"#ed7953\"],[0.7777777777777778,\"#fb9f3a\"],[0.8888888888888888,\"#fdca26\"],[1.0,\"#f0f921\"]],\"type\":\"contour\"}],\"contourcarpet\":[{\"colorbar\":{\"outlinewidth\":0,\"ticks\":\"\"},\"type\":\"contourcarpet\"}],\"heatmap\":[{\"colorbar\":{\"outlinewidth\":0,\"ticks\":\"\"},\"colorscale\":[[0.0,\"#0d0887\"],[0.1111111111111111,\"#46039f\"],[0.2222222222222222,\"#7201a8\"],[0.3333333333333333,\"#9c179e\"],[0.4444444444444444,\"#bd3786\"],[0.5555555555555556,\"#d8576b\"],[0.6666666666666666,\"#ed7953\"],[0.7777777777777778,\"#fb9f3a\"],[0.8888888888888888,\"#fdca26\"],[1.0,\"#f0f921\"]],\"type\":\"heatmap\"}],\"heatmapgl\":[{\"colorbar\":{\"outlinewidth\":0,\"ticks\":\"\"},\"colorscale\":[[0.0,\"#0d0887\"],[0.1111111111111111,\"#46039f\"],[0.2222222222222222,\"#7201a8\"],[0.3333333333333333,\"#9c179e\"],[0.4444444444444444,\"#bd3786\"],[0.5555555555555556,\"#d8576b\"],[0.6666666666666666,\"#ed7953\"],[0.7777777777777778,\"#fb9f3a\"],[0.8888888888888888,\"#fdca26\"],[1.0,\"#f0f921\"]],\"type\":\"heatmapgl\"}],\"histogram\":[{\"marker\":{\"pattern\":{\"fillmode\":\"overlay\",\"size\":10,\"solidity\":0.2}},\"type\":\"histogram\"}],\"histogram2d\":[{\"colorbar\":{\"outlinewidth\":0,\"ticks\":\"\"},\"colorscale\":[[0.0,\"#0d0887\"],[0.1111111111111111,\"#46039f\"],[0.2222222222222222,\"#7201a8\"],[0.3333333333333333,\"#9c179e\"],[0.4444444444444444,\"#bd3786\"],[0.5555555555555556,\"#d8576b\"],[0.6666666666666666,\"#ed7953\"],[0.7777777777777778,\"#fb9f3a\"],[0.8888888888888888,\"#fdca26\"],[1.0,\"#f0f921\"]],\"type\":\"histogram2d\"}],\"histogram2dcontour\":[{\"colorbar\":{\"outlinewidth\":0,\"ticks\":\"\"},\"colorscale\":[[0.0,\"#0d0887\"],[0.1111111111111111,\"#46039f\"],[0.2222222222222222,\"#7201a8\"],[0.3333333333333333,\"#9c179e\"],[0.4444444444444444,\"#bd3786\"],[0.5555555555555556,\"#d8576b\"],[0.6666666666666666,\"#ed7953\"],[0.7777777777777778,\"#fb9f3a\"],[0.8888888888888888,\"#fdca26\"],[1.0,\"#f0f921\"]],\"type\":\"histogram2dcontour\"}],\"mesh3d\":[{\"colorbar\":{\"outlinewidth\":0,\"ticks\":\"\"},\"type\":\"mesh3d\"}],\"parcoords\":[{\"line\":{\"colorbar\":{\"outlinewidth\":0,\"ticks\":\"\"}},\"type\":\"parcoords\"}],\"pie\":[{\"automargin\":true,\"type\":\"pie\"}],\"scatter\":[{\"marker\":{\"colorbar\":{\"outlinewidth\":0,\"ticks\":\"\"}},\"type\":\"scatter\"}],\"scatter3d\":[{\"line\":{\"colorbar\":{\"outlinewidth\":0,\"ticks\":\"\"}},\"marker\":{\"colorbar\":{\"outlinewidth\":0,\"ticks\":\"\"}},\"type\":\"scatter3d\"}],\"scattercarpet\":[{\"marker\":{\"colorbar\":{\"outlinewidth\":0,\"ticks\":\"\"}},\"type\":\"scattercarpet\"}],\"scattergeo\":[{\"marker\":{\"colorbar\":{\"outlinewidth\":0,\"ticks\":\"\"}},\"type\":\"scattergeo\"}],\"scattergl\":[{\"marker\":{\"colorbar\":{\"outlinewidth\":0,\"ticks\":\"\"}},\"type\":\"scattergl\"}],\"scattermapbox\":[{\"marker\":{\"colorbar\":{\"outlinewidth\":0,\"ticks\":\"\"}},\"type\":\"scattermapbox\"}],\"scatterpolar\":[{\"marker\":{\"colorbar\":{\"outlinewidth\":0,\"ticks\":\"\"}},\"type\":\"scatterpolar\"}],\"scatterpolargl\":[{\"marker\":{\"colorbar\":{\"outlinewidth\":0,\"ticks\":\"\"}},\"type\":\"scatterpolargl\"}],\"scatterternary\":[{\"marker\":{\"colorbar\":{\"outlinewidth\":0,\"ticks\":\"\"}},\"type\":\"scatterternary\"}],\"surface\":[{\"colorbar\":{\"outlinewidth\":0,\"ticks\":\"\"},\"colorscale\":[[0.0,\"#0d0887\"],[0.1111111111111111,\"#46039f\"],[0.2222222222222222,\"#7201a8\"],[0.3333333333333333,\"#9c179e\"],[0.4444444444444444,\"#bd3786\"],[0.5555555555555556,\"#d8576b\"],[0.6666666666666666,\"#ed7953\"],[0.7777777777777778,\"#fb9f3a\"],[0.8888888888888888,\"#fdca26\"],[1.0,\"#f0f921\"]],\"type\":\"surface\"}],\"table\":[{\"cells\":{\"fill\":{\"color\":\"#EBF0F8\"},\"line\":{\"color\":\"white\"}},\"header\":{\"fill\":{\"color\":\"#C8D4E3\"},\"line\":{\"color\":\"white\"}},\"type\":\"table\"}]},\"layout\":{\"annotationdefaults\":{\"arrowcolor\":\"#2a3f5f\",\"arrowhead\":0,\"arrowwidth\":1},\"autotypenumbers\":\"strict\",\"coloraxis\":{\"colorbar\":{\"outlinewidth\":0,\"ticks\":\"\"}},\"colorscale\":{\"diverging\":[[0,\"#8e0152\"],[0.1,\"#c51b7d\"],[0.2,\"#de77ae\"],[0.3,\"#f1b6da\"],[0.4,\"#fde0ef\"],[0.5,\"#f7f7f7\"],[0.6,\"#e6f5d0\"],[0.7,\"#b8e186\"],[0.8,\"#7fbc41\"],[0.9,\"#4d9221\"],[1,\"#276419\"]],\"sequential\":[[0.0,\"#0d0887\"],[0.1111111111111111,\"#46039f\"],[0.2222222222222222,\"#7201a8\"],[0.3333333333333333,\"#9c179e\"],[0.4444444444444444,\"#bd3786\"],[0.5555555555555556,\"#d8576b\"],[0.6666666666666666,\"#ed7953\"],[0.7777777777777778,\"#fb9f3a\"],[0.8888888888888888,\"#fdca26\"],[1.0,\"#f0f921\"]],\"sequentialminus\":[[0.0,\"#0d0887\"],[0.1111111111111111,\"#46039f\"],[0.2222222222222222,\"#7201a8\"],[0.3333333333333333,\"#9c179e\"],[0.4444444444444444,\"#bd3786\"],[0.5555555555555556,\"#d8576b\"],[0.6666666666666666,\"#ed7953\"],[0.7777777777777778,\"#fb9f3a\"],[0.8888888888888888,\"#fdca26\"],[1.0,\"#f0f921\"]]},\"colorway\":[\"#636efa\",\"#EF553B\",\"#00cc96\",\"#ab63fa\",\"#FFA15A\",\"#19d3f3\",\"#FF6692\",\"#B6E880\",\"#FF97FF\",\"#FECB52\"],\"font\":{\"color\":\"#2a3f5f\"},\"geo\":{\"bgcolor\":\"white\",\"lakecolor\":\"white\",\"landcolor\":\"#E5ECF6\",\"showlakes\":true,\"showland\":true,\"subunitcolor\":\"white\"},\"hoverlabel\":{\"align\":\"left\"},\"hovermode\":\"closest\",\"mapbox\":{\"style\":\"light\"},\"paper_bgcolor\":\"white\",\"plot_bgcolor\":\"#E5ECF6\",\"polar\":{\"angularaxis\":{\"gridcolor\":\"white\",\"linecolor\":\"white\",\"ticks\":\"\"},\"bgcolor\":\"#E5ECF6\",\"radialaxis\":{\"gridcolor\":\"white\",\"linecolor\":\"white\",\"ticks\":\"\"}},\"scene\":{\"xaxis\":{\"backgroundcolor\":\"#E5ECF6\",\"gridcolor\":\"white\",\"gridwidth\":2,\"linecolor\":\"white\",\"showbackground\":true,\"ticks\":\"\",\"zerolinecolor\":\"white\"},\"yaxis\":{\"backgroundcolor\":\"#E5ECF6\",\"gridcolor\":\"white\",\"gridwidth\":2,\"linecolor\":\"white\",\"showbackground\":true,\"ticks\":\"\",\"zerolinecolor\":\"white\"},\"zaxis\":{\"backgroundcolor\":\"#E5ECF6\",\"gridcolor\":\"white\",\"gridwidth\":2,\"linecolor\":\"white\",\"showbackground\":true,\"ticks\":\"\",\"zerolinecolor\":\"white\"}},\"shapedefaults\":{\"line\":{\"color\":\"#2a3f5f\"}},\"ternary\":{\"aaxis\":{\"gridcolor\":\"white\",\"linecolor\":\"white\",\"ticks\":\"\"},\"baxis\":{\"gridcolor\":\"white\",\"linecolor\":\"white\",\"ticks\":\"\"},\"bgcolor\":\"#E5ECF6\",\"caxis\":{\"gridcolor\":\"white\",\"linecolor\":\"white\",\"ticks\":\"\"}},\"title\":{\"x\":0.05},\"xaxis\":{\"automargin\":true,\"gridcolor\":\"white\",\"linecolor\":\"white\",\"ticks\":\"\",\"title\":{\"standoff\":15},\"zerolinecolor\":\"white\",\"zerolinewidth\":2},\"yaxis\":{\"automargin\":true,\"gridcolor\":\"white\",\"linecolor\":\"white\",\"ticks\":\"\",\"title\":{\"standoff\":15},\"zerolinecolor\":\"white\",\"zerolinewidth\":2}}},\"title\":{\"text\":\"10 Least selective schools, Admission Rate by State\"}},                        {\"responsive\": true}                    ).then(function(){\n",
       "                            \n",
       "var gd = document.getElementById('f2ce38f0-328d-4853-91ba-a2bef57a15f3');\n",
       "var x = new MutationObserver(function (mutations, observer) {{\n",
       "        var display = window.getComputedStyle(gd).display;\n",
       "        if (!display || display === 'none') {{\n",
       "            console.log([gd, 'removed!']);\n",
       "            Plotly.purge(gd);\n",
       "            observer.disconnect();\n",
       "        }}\n",
       "}});\n",
       "\n",
       "// Listen for the removal of the full notebook cells\n",
       "var notebookContainer = gd.closest('#notebook-container');\n",
       "if (notebookContainer) {{\n",
       "    x.observe(notebookContainer, {childList: true});\n",
       "}}\n",
       "\n",
       "// Listen for the clearing of the current output cell\n",
       "var outputEl = gd.closest('.output');\n",
       "if (outputEl) {{\n",
       "    x.observe(outputEl, {childList: true});\n",
       "}}\n",
       "\n",
       "                        })                };                });            </script>        </div>"
      ]
     },
     "metadata": {},
     "output_type": "display_data"
    }
   ],
   "source": [
    "import plotly.graph_objects as go\n",
    "fig = go.Figure(data=go.Choropleth(\n",
    "    locations=df_copy_10leastselective['STABBR'], # Spatial coordinates\n",
    "    z = df_copy_10leastselective['ADM_RATE'].astype(float), # Data to be color-coded\n",
    "    locationmode = 'USA-states', # set of locations match entries in `locations`\n",
    "    colorscale = 'Burg',\n",
    "    colorbar_title = \"Admission Rate\",\n",
    "))\n",
    "\n",
    "fig.update_layout(\n",
    "    title_text = '10 Least selective schools, Admission Rate by State',\n",
    "    geo_scope='usa', # limite map scope to USA\n",
    ")\n",
    "\n",
    "fig.show()"
   ]
  },
  {
   "cell_type": "code",
   "execution_count": 57,
   "metadata": {},
   "outputs": [
    {
     "data": {
      "text/html": [
       "<div>\n",
       "<style scoped>\n",
       "    .dataframe tbody tr th:only-of-type {\n",
       "        vertical-align: middle;\n",
       "    }\n",
       "\n",
       "    .dataframe tbody tr th {\n",
       "        vertical-align: top;\n",
       "    }\n",
       "\n",
       "    .dataframe thead th {\n",
       "        text-align: right;\n",
       "    }\n",
       "</style>\n",
       "<table border=\"1\" class=\"dataframe\">\n",
       "  <thead>\n",
       "    <tr style=\"text-align: right;\">\n",
       "      <th></th>\n",
       "      <th>INSTNM</th>\n",
       "      <th>CITY</th>\n",
       "      <th>STABBR</th>\n",
       "      <th>ZIP</th>\n",
       "      <th>ACCREDAGENCY</th>\n",
       "      <th>UNITID</th>\n",
       "      <th>OPEID</th>\n",
       "      <th>REGION</th>\n",
       "      <th>CONTROL</th>\n",
       "      <th>PREDDEG</th>\n",
       "      <th>...</th>\n",
       "      <th>PPTUG_EF</th>\n",
       "      <th>NPT4_PRIV</th>\n",
       "      <th>INEXPFTE</th>\n",
       "      <th>AVGFACSAL</th>\n",
       "      <th>C150_4</th>\n",
       "      <th>PFTFTUG1_EF</th>\n",
       "      <th>COMPL_RPY_3YR_RT</th>\n",
       "      <th>COMPL_RPY_5YR_RT</th>\n",
       "      <th>MD_EARN_WNE_P10</th>\n",
       "      <th>rankby_admin_rate</th>\n",
       "    </tr>\n",
       "  </thead>\n",
       "  <tbody>\n",
       "    <tr>\n",
       "      <th>2054</th>\n",
       "      <td>Texas Tech University Health Sciences Center-E...</td>\n",
       "      <td>El Paso</td>\n",
       "      <td>TX</td>\n",
       "      <td>79905-2827</td>\n",
       "      <td>Southern Association of Colleges and Schools C...</td>\n",
       "      <td>492689</td>\n",
       "      <td>1067401.0</td>\n",
       "      <td>6.0</td>\n",
       "      <td>1.0</td>\n",
       "      <td>3.0</td>\n",
       "      <td>...</td>\n",
       "      <td>0.2348</td>\n",
       "      <td>27302.519563</td>\n",
       "      <td>153080.0</td>\n",
       "      <td>18393.0</td>\n",
       "      <td>0.491767</td>\n",
       "      <td>0.471777</td>\n",
       "      <td>0.814037</td>\n",
       "      <td>0.838347</td>\n",
       "      <td>111083.213511</td>\n",
       "      <td>2058.0</td>\n",
       "    </tr>\n",
       "    <tr>\n",
       "      <th>1536</th>\n",
       "      <td>The University of Texas Health Science Center ...</td>\n",
       "      <td>Houston</td>\n",
       "      <td>TX</td>\n",
       "      <td>77030</td>\n",
       "      <td>Southern Association of Colleges and Schools C...</td>\n",
       "      <td>229300</td>\n",
       "      <td>495100.0</td>\n",
       "      <td>6.0</td>\n",
       "      <td>1.0</td>\n",
       "      <td>3.0</td>\n",
       "      <td>...</td>\n",
       "      <td>0.1883</td>\n",
       "      <td>15933.379391</td>\n",
       "      <td>161644.0</td>\n",
       "      <td>10430.0</td>\n",
       "      <td>0.561651</td>\n",
       "      <td>0.683130</td>\n",
       "      <td>0.875536</td>\n",
       "      <td>0.881295</td>\n",
       "      <td>90300.000000</td>\n",
       "      <td>2057.0</td>\n",
       "    </tr>\n",
       "    <tr>\n",
       "      <th>389</th>\n",
       "      <td>Saint Anthony College of Nursing</td>\n",
       "      <td>Rockford</td>\n",
       "      <td>IL</td>\n",
       "      <td>61114</td>\n",
       "      <td>Higher Learning Commission</td>\n",
       "      <td>149028</td>\n",
       "      <td>998700.0</td>\n",
       "      <td>3.0</td>\n",
       "      <td>2.0</td>\n",
       "      <td>3.0</td>\n",
       "      <td>...</td>\n",
       "      <td>0.2353</td>\n",
       "      <td>26208.625775</td>\n",
       "      <td>10658.0</td>\n",
       "      <td>7137.0</td>\n",
       "      <td>0.633392</td>\n",
       "      <td>0.582063</td>\n",
       "      <td>0.905512</td>\n",
       "      <td>0.914154</td>\n",
       "      <td>60600.000000</td>\n",
       "      <td>2055.5</td>\n",
       "    </tr>\n",
       "    <tr>\n",
       "      <th>2029</th>\n",
       "      <td>Chamberlain University-California</td>\n",
       "      <td>Rancho Cordova</td>\n",
       "      <td>CA</td>\n",
       "      <td>95670</td>\n",
       "      <td>Higher Learning Commission</td>\n",
       "      <td>489353</td>\n",
       "      <td>638520.0</td>\n",
       "      <td>8.0</td>\n",
       "      <td>3.0</td>\n",
       "      <td>3.0</td>\n",
       "      <td>...</td>\n",
       "      <td>0.4027</td>\n",
       "      <td>26535.000000</td>\n",
       "      <td>9333.0</td>\n",
       "      <td>9172.0</td>\n",
       "      <td>0.392818</td>\n",
       "      <td>0.411915</td>\n",
       "      <td>0.664636</td>\n",
       "      <td>0.737939</td>\n",
       "      <td>51735.963642</td>\n",
       "      <td>2055.5</td>\n",
       "    </tr>\n",
       "    <tr>\n",
       "      <th>1724</th>\n",
       "      <td>Stanford University</td>\n",
       "      <td>Stanford</td>\n",
       "      <td>CA</td>\n",
       "      <td>94305</td>\n",
       "      <td>Western Association of Schools and Colleges Se...</td>\n",
       "      <td>243744</td>\n",
       "      <td>130500.0</td>\n",
       "      <td>8.0</td>\n",
       "      <td>2.0</td>\n",
       "      <td>3.0</td>\n",
       "      <td>...</td>\n",
       "      <td>0.0000</td>\n",
       "      <td>12265.000000</td>\n",
       "      <td>108509.0</td>\n",
       "      <td>20279.0</td>\n",
       "      <td>0.943800</td>\n",
       "      <td>0.986000</td>\n",
       "      <td>0.915870</td>\n",
       "      <td>0.919866</td>\n",
       "      <td>94000.000000</td>\n",
       "      <td>2054.0</td>\n",
       "    </tr>\n",
       "    <tr>\n",
       "      <th>1262</th>\n",
       "      <td>Curtis Institute of Music</td>\n",
       "      <td>Philadelphia</td>\n",
       "      <td>PA</td>\n",
       "      <td>19103</td>\n",
       "      <td>Middle States Commission on Higher Education</td>\n",
       "      <td>211893</td>\n",
       "      <td>325100.0</td>\n",
       "      <td>2.0</td>\n",
       "      <td>2.0</td>\n",
       "      <td>3.0</td>\n",
       "      <td>...</td>\n",
       "      <td>0.0000</td>\n",
       "      <td>18232.000000</td>\n",
       "      <td>50390.0</td>\n",
       "      <td>8681.0</td>\n",
       "      <td>0.642900</td>\n",
       "      <td>0.812500</td>\n",
       "      <td>0.726381</td>\n",
       "      <td>0.766107</td>\n",
       "      <td>54785.370230</td>\n",
       "      <td>2053.0</td>\n",
       "    </tr>\n",
       "    <tr>\n",
       "      <th>631</th>\n",
       "      <td>Harvard University</td>\n",
       "      <td>Cambridge</td>\n",
       "      <td>MA</td>\n",
       "      <td>2138</td>\n",
       "      <td>New England Commission on Higher Education</td>\n",
       "      <td>166027</td>\n",
       "      <td>215500.0</td>\n",
       "      <td>1.0</td>\n",
       "      <td>2.0</td>\n",
       "      <td>3.0</td>\n",
       "      <td>...</td>\n",
       "      <td>0.0794</td>\n",
       "      <td>15561.000000</td>\n",
       "      <td>45799.0</td>\n",
       "      <td>20484.0</td>\n",
       "      <td>0.977100</td>\n",
       "      <td>0.992200</td>\n",
       "      <td>0.826087</td>\n",
       "      <td>0.784946</td>\n",
       "      <td>89700.000000</td>\n",
       "      <td>2052.0</td>\n",
       "    </tr>\n",
       "    <tr>\n",
       "      <th>886</th>\n",
       "      <td>Princeton University</td>\n",
       "      <td>Princeton</td>\n",
       "      <td>NJ</td>\n",
       "      <td>08544-0070</td>\n",
       "      <td>Middle States Commission on Higher Education</td>\n",
       "      <td>186131</td>\n",
       "      <td>262700.0</td>\n",
       "      <td>2.0</td>\n",
       "      <td>2.0</td>\n",
       "      <td>3.0</td>\n",
       "      <td>...</td>\n",
       "      <td>0.0000</td>\n",
       "      <td>9749.000000</td>\n",
       "      <td>58337.0</td>\n",
       "      <td>20185.0</td>\n",
       "      <td>0.963800</td>\n",
       "      <td>0.993300</td>\n",
       "      <td>0.769268</td>\n",
       "      <td>0.806055</td>\n",
       "      <td>74700.000000</td>\n",
       "      <td>2051.0</td>\n",
       "    </tr>\n",
       "    <tr>\n",
       "      <th>925</th>\n",
       "      <td>Columbia University in the City of New York</td>\n",
       "      <td>New York</td>\n",
       "      <td>NY</td>\n",
       "      <td>10027</td>\n",
       "      <td>Middle States Commission on Higher Education</td>\n",
       "      <td>190150</td>\n",
       "      <td>270700.0</td>\n",
       "      <td>2.0</td>\n",
       "      <td>2.0</td>\n",
       "      <td>3.0</td>\n",
       "      <td>...</td>\n",
       "      <td>0.0669</td>\n",
       "      <td>22637.000000</td>\n",
       "      <td>92003.0</td>\n",
       "      <td>18763.0</td>\n",
       "      <td>0.958200</td>\n",
       "      <td>0.688400</td>\n",
       "      <td>0.838610</td>\n",
       "      <td>0.882396</td>\n",
       "      <td>83300.000000</td>\n",
       "      <td>2050.0</td>\n",
       "    </tr>\n",
       "    <tr>\n",
       "      <th>210</th>\n",
       "      <td>Yale University</td>\n",
       "      <td>New Haven</td>\n",
       "      <td>CT</td>\n",
       "      <td>6520</td>\n",
       "      <td>New England Commission on Higher Education</td>\n",
       "      <td>130794</td>\n",
       "      <td>142600.0</td>\n",
       "      <td>1.0</td>\n",
       "      <td>2.0</td>\n",
       "      <td>3.0</td>\n",
       "      <td>...</td>\n",
       "      <td>0.0042</td>\n",
       "      <td>18770.000000</td>\n",
       "      <td>65270.0</td>\n",
       "      <td>19093.0</td>\n",
       "      <td>0.966000</td>\n",
       "      <td>0.989900</td>\n",
       "      <td>0.910663</td>\n",
       "      <td>0.906375</td>\n",
       "      <td>83200.000000</td>\n",
       "      <td>2049.0</td>\n",
       "    </tr>\n",
       "  </tbody>\n",
       "</table>\n",
       "<p>10 rows × 27 columns</p>\n",
       "</div>"
      ],
      "text/plain": [
       "                                                 INSTNM            CITY  \\\n",
       "2054  Texas Tech University Health Sciences Center-E...         El Paso   \n",
       "1536  The University of Texas Health Science Center ...         Houston   \n",
       "389                    Saint Anthony College of Nursing        Rockford   \n",
       "2029                  Chamberlain University-California  Rancho Cordova   \n",
       "1724                                Stanford University        Stanford   \n",
       "1262                          Curtis Institute of Music    Philadelphia   \n",
       "631                                  Harvard University       Cambridge   \n",
       "886                                Princeton University       Princeton   \n",
       "925         Columbia University in the City of New York        New York   \n",
       "210                                     Yale University       New Haven   \n",
       "\n",
       "     STABBR         ZIP                                       ACCREDAGENCY  \\\n",
       "2054     TX  79905-2827  Southern Association of Colleges and Schools C...   \n",
       "1536     TX       77030  Southern Association of Colleges and Schools C...   \n",
       "389      IL       61114                         Higher Learning Commission   \n",
       "2029     CA       95670                         Higher Learning Commission   \n",
       "1724     CA       94305  Western Association of Schools and Colleges Se...   \n",
       "1262     PA       19103       Middle States Commission on Higher Education   \n",
       "631      MA        2138         New England Commission on Higher Education   \n",
       "886      NJ  08544-0070       Middle States Commission on Higher Education   \n",
       "925      NY       10027       Middle States Commission on Higher Education   \n",
       "210      CT        6520         New England Commission on Higher Education   \n",
       "\n",
       "      UNITID      OPEID  REGION  CONTROL  PREDDEG  ...  PPTUG_EF  \\\n",
       "2054  492689  1067401.0     6.0      1.0      3.0  ...    0.2348   \n",
       "1536  229300   495100.0     6.0      1.0      3.0  ...    0.1883   \n",
       "389   149028   998700.0     3.0      2.0      3.0  ...    0.2353   \n",
       "2029  489353   638520.0     8.0      3.0      3.0  ...    0.4027   \n",
       "1724  243744   130500.0     8.0      2.0      3.0  ...    0.0000   \n",
       "1262  211893   325100.0     2.0      2.0      3.0  ...    0.0000   \n",
       "631   166027   215500.0     1.0      2.0      3.0  ...    0.0794   \n",
       "886   186131   262700.0     2.0      2.0      3.0  ...    0.0000   \n",
       "925   190150   270700.0     2.0      2.0      3.0  ...    0.0669   \n",
       "210   130794   142600.0     1.0      2.0      3.0  ...    0.0042   \n",
       "\n",
       "         NPT4_PRIV  INEXPFTE  AVGFACSAL    C150_4  PFTFTUG1_EF  \\\n",
       "2054  27302.519563  153080.0    18393.0  0.491767     0.471777   \n",
       "1536  15933.379391  161644.0    10430.0  0.561651     0.683130   \n",
       "389   26208.625775   10658.0     7137.0  0.633392     0.582063   \n",
       "2029  26535.000000    9333.0     9172.0  0.392818     0.411915   \n",
       "1724  12265.000000  108509.0    20279.0  0.943800     0.986000   \n",
       "1262  18232.000000   50390.0     8681.0  0.642900     0.812500   \n",
       "631   15561.000000   45799.0    20484.0  0.977100     0.992200   \n",
       "886    9749.000000   58337.0    20185.0  0.963800     0.993300   \n",
       "925   22637.000000   92003.0    18763.0  0.958200     0.688400   \n",
       "210   18770.000000   65270.0    19093.0  0.966000     0.989900   \n",
       "\n",
       "      COMPL_RPY_3YR_RT  COMPL_RPY_5YR_RT  MD_EARN_WNE_P10  rankby_admin_rate  \n",
       "2054          0.814037          0.838347    111083.213511             2058.0  \n",
       "1536          0.875536          0.881295     90300.000000             2057.0  \n",
       "389           0.905512          0.914154     60600.000000             2055.5  \n",
       "2029          0.664636          0.737939     51735.963642             2055.5  \n",
       "1724          0.915870          0.919866     94000.000000             2054.0  \n",
       "1262          0.726381          0.766107     54785.370230             2053.0  \n",
       "631           0.826087          0.784946     89700.000000             2052.0  \n",
       "886           0.769268          0.806055     74700.000000             2051.0  \n",
       "925           0.838610          0.882396     83300.000000             2050.0  \n",
       "210           0.910663          0.906375     83200.000000             2049.0  \n",
       "\n",
       "[10 rows x 27 columns]"
      ]
     },
     "execution_count": 57,
     "metadata": {},
     "output_type": "execute_result"
    }
   ],
   "source": [
    "# These are the 10 most selective schools based on admission rates\n",
    "\n",
    "df_copy_10mostselective=df_copy.sort_values('ADM_RATE',ascending=True).head(10)\n",
    "df_copy_10mostselective"
   ]
  },
  {
   "cell_type": "code",
   "execution_count": 58,
   "metadata": {},
   "outputs": [
    {
     "data": {
      "application/vnd.plotly.v1+json": {
       "config": {
        "plotlyServerURL": "https://plot.ly"
       },
       "data": [
        {
         "colorbar": {
          "title": {
           "text": "Admission Rate"
          }
         },
         "colorscale": [
          [
           0,
           "rgb(255, 198, 196)"
          ],
          [
           0.16666666666666666,
           "rgb(244, 163, 168)"
          ],
          [
           0.3333333333333333,
           "rgb(227, 129, 145)"
          ],
          [
           0.5,
           "rgb(204, 96, 125)"
          ],
          [
           0.6666666666666666,
           "rgb(173, 70, 108)"
          ],
          [
           0.8333333333333334,
           "rgb(139, 48, 88)"
          ],
          [
           1,
           "rgb(103, 32, 68)"
          ]
         ],
         "locationmode": "USA-states",
         "locations": [
          "TX",
          "TX",
          "IL",
          "CA",
          "CA",
          "PA",
          "MA",
          "NJ",
          "NY",
          "CT"
         ],
         "type": "choropleth",
         "z": [
          -0.11985241978892691,
          -0.009286513451540634,
          0,
          0,
          0.0436,
          0.0455,
          0.0473,
          0.0548,
          0.0591,
          0.0635
         ]
        }
       ],
       "layout": {
        "geo": {
         "scope": "usa"
        },
        "template": {
         "data": {
          "bar": [
           {
            "error_x": {
             "color": "#2a3f5f"
            },
            "error_y": {
             "color": "#2a3f5f"
            },
            "marker": {
             "line": {
              "color": "#E5ECF6",
              "width": 0.5
             },
             "pattern": {
              "fillmode": "overlay",
              "size": 10,
              "solidity": 0.2
             }
            },
            "type": "bar"
           }
          ],
          "barpolar": [
           {
            "marker": {
             "line": {
              "color": "#E5ECF6",
              "width": 0.5
             },
             "pattern": {
              "fillmode": "overlay",
              "size": 10,
              "solidity": 0.2
             }
            },
            "type": "barpolar"
           }
          ],
          "carpet": [
           {
            "aaxis": {
             "endlinecolor": "#2a3f5f",
             "gridcolor": "white",
             "linecolor": "white",
             "minorgridcolor": "white",
             "startlinecolor": "#2a3f5f"
            },
            "baxis": {
             "endlinecolor": "#2a3f5f",
             "gridcolor": "white",
             "linecolor": "white",
             "minorgridcolor": "white",
             "startlinecolor": "#2a3f5f"
            },
            "type": "carpet"
           }
          ],
          "choropleth": [
           {
            "colorbar": {
             "outlinewidth": 0,
             "ticks": ""
            },
            "type": "choropleth"
           }
          ],
          "contour": [
           {
            "colorbar": {
             "outlinewidth": 0,
             "ticks": ""
            },
            "colorscale": [
             [
              0,
              "#0d0887"
             ],
             [
              0.1111111111111111,
              "#46039f"
             ],
             [
              0.2222222222222222,
              "#7201a8"
             ],
             [
              0.3333333333333333,
              "#9c179e"
             ],
             [
              0.4444444444444444,
              "#bd3786"
             ],
             [
              0.5555555555555556,
              "#d8576b"
             ],
             [
              0.6666666666666666,
              "#ed7953"
             ],
             [
              0.7777777777777778,
              "#fb9f3a"
             ],
             [
              0.8888888888888888,
              "#fdca26"
             ],
             [
              1,
              "#f0f921"
             ]
            ],
            "type": "contour"
           }
          ],
          "contourcarpet": [
           {
            "colorbar": {
             "outlinewidth": 0,
             "ticks": ""
            },
            "type": "contourcarpet"
           }
          ],
          "heatmap": [
           {
            "colorbar": {
             "outlinewidth": 0,
             "ticks": ""
            },
            "colorscale": [
             [
              0,
              "#0d0887"
             ],
             [
              0.1111111111111111,
              "#46039f"
             ],
             [
              0.2222222222222222,
              "#7201a8"
             ],
             [
              0.3333333333333333,
              "#9c179e"
             ],
             [
              0.4444444444444444,
              "#bd3786"
             ],
             [
              0.5555555555555556,
              "#d8576b"
             ],
             [
              0.6666666666666666,
              "#ed7953"
             ],
             [
              0.7777777777777778,
              "#fb9f3a"
             ],
             [
              0.8888888888888888,
              "#fdca26"
             ],
             [
              1,
              "#f0f921"
             ]
            ],
            "type": "heatmap"
           }
          ],
          "heatmapgl": [
           {
            "colorbar": {
             "outlinewidth": 0,
             "ticks": ""
            },
            "colorscale": [
             [
              0,
              "#0d0887"
             ],
             [
              0.1111111111111111,
              "#46039f"
             ],
             [
              0.2222222222222222,
              "#7201a8"
             ],
             [
              0.3333333333333333,
              "#9c179e"
             ],
             [
              0.4444444444444444,
              "#bd3786"
             ],
             [
              0.5555555555555556,
              "#d8576b"
             ],
             [
              0.6666666666666666,
              "#ed7953"
             ],
             [
              0.7777777777777778,
              "#fb9f3a"
             ],
             [
              0.8888888888888888,
              "#fdca26"
             ],
             [
              1,
              "#f0f921"
             ]
            ],
            "type": "heatmapgl"
           }
          ],
          "histogram": [
           {
            "marker": {
             "pattern": {
              "fillmode": "overlay",
              "size": 10,
              "solidity": 0.2
             }
            },
            "type": "histogram"
           }
          ],
          "histogram2d": [
           {
            "colorbar": {
             "outlinewidth": 0,
             "ticks": ""
            },
            "colorscale": [
             [
              0,
              "#0d0887"
             ],
             [
              0.1111111111111111,
              "#46039f"
             ],
             [
              0.2222222222222222,
              "#7201a8"
             ],
             [
              0.3333333333333333,
              "#9c179e"
             ],
             [
              0.4444444444444444,
              "#bd3786"
             ],
             [
              0.5555555555555556,
              "#d8576b"
             ],
             [
              0.6666666666666666,
              "#ed7953"
             ],
             [
              0.7777777777777778,
              "#fb9f3a"
             ],
             [
              0.8888888888888888,
              "#fdca26"
             ],
             [
              1,
              "#f0f921"
             ]
            ],
            "type": "histogram2d"
           }
          ],
          "histogram2dcontour": [
           {
            "colorbar": {
             "outlinewidth": 0,
             "ticks": ""
            },
            "colorscale": [
             [
              0,
              "#0d0887"
             ],
             [
              0.1111111111111111,
              "#46039f"
             ],
             [
              0.2222222222222222,
              "#7201a8"
             ],
             [
              0.3333333333333333,
              "#9c179e"
             ],
             [
              0.4444444444444444,
              "#bd3786"
             ],
             [
              0.5555555555555556,
              "#d8576b"
             ],
             [
              0.6666666666666666,
              "#ed7953"
             ],
             [
              0.7777777777777778,
              "#fb9f3a"
             ],
             [
              0.8888888888888888,
              "#fdca26"
             ],
             [
              1,
              "#f0f921"
             ]
            ],
            "type": "histogram2dcontour"
           }
          ],
          "mesh3d": [
           {
            "colorbar": {
             "outlinewidth": 0,
             "ticks": ""
            },
            "type": "mesh3d"
           }
          ],
          "parcoords": [
           {
            "line": {
             "colorbar": {
              "outlinewidth": 0,
              "ticks": ""
             }
            },
            "type": "parcoords"
           }
          ],
          "pie": [
           {
            "automargin": true,
            "type": "pie"
           }
          ],
          "scatter": [
           {
            "marker": {
             "colorbar": {
              "outlinewidth": 0,
              "ticks": ""
             }
            },
            "type": "scatter"
           }
          ],
          "scatter3d": [
           {
            "line": {
             "colorbar": {
              "outlinewidth": 0,
              "ticks": ""
             }
            },
            "marker": {
             "colorbar": {
              "outlinewidth": 0,
              "ticks": ""
             }
            },
            "type": "scatter3d"
           }
          ],
          "scattercarpet": [
           {
            "marker": {
             "colorbar": {
              "outlinewidth": 0,
              "ticks": ""
             }
            },
            "type": "scattercarpet"
           }
          ],
          "scattergeo": [
           {
            "marker": {
             "colorbar": {
              "outlinewidth": 0,
              "ticks": ""
             }
            },
            "type": "scattergeo"
           }
          ],
          "scattergl": [
           {
            "marker": {
             "colorbar": {
              "outlinewidth": 0,
              "ticks": ""
             }
            },
            "type": "scattergl"
           }
          ],
          "scattermapbox": [
           {
            "marker": {
             "colorbar": {
              "outlinewidth": 0,
              "ticks": ""
             }
            },
            "type": "scattermapbox"
           }
          ],
          "scatterpolar": [
           {
            "marker": {
             "colorbar": {
              "outlinewidth": 0,
              "ticks": ""
             }
            },
            "type": "scatterpolar"
           }
          ],
          "scatterpolargl": [
           {
            "marker": {
             "colorbar": {
              "outlinewidth": 0,
              "ticks": ""
             }
            },
            "type": "scatterpolargl"
           }
          ],
          "scatterternary": [
           {
            "marker": {
             "colorbar": {
              "outlinewidth": 0,
              "ticks": ""
             }
            },
            "type": "scatterternary"
           }
          ],
          "surface": [
           {
            "colorbar": {
             "outlinewidth": 0,
             "ticks": ""
            },
            "colorscale": [
             [
              0,
              "#0d0887"
             ],
             [
              0.1111111111111111,
              "#46039f"
             ],
             [
              0.2222222222222222,
              "#7201a8"
             ],
             [
              0.3333333333333333,
              "#9c179e"
             ],
             [
              0.4444444444444444,
              "#bd3786"
             ],
             [
              0.5555555555555556,
              "#d8576b"
             ],
             [
              0.6666666666666666,
              "#ed7953"
             ],
             [
              0.7777777777777778,
              "#fb9f3a"
             ],
             [
              0.8888888888888888,
              "#fdca26"
             ],
             [
              1,
              "#f0f921"
             ]
            ],
            "type": "surface"
           }
          ],
          "table": [
           {
            "cells": {
             "fill": {
              "color": "#EBF0F8"
             },
             "line": {
              "color": "white"
             }
            },
            "header": {
             "fill": {
              "color": "#C8D4E3"
             },
             "line": {
              "color": "white"
             }
            },
            "type": "table"
           }
          ]
         },
         "layout": {
          "annotationdefaults": {
           "arrowcolor": "#2a3f5f",
           "arrowhead": 0,
           "arrowwidth": 1
          },
          "autotypenumbers": "strict",
          "coloraxis": {
           "colorbar": {
            "outlinewidth": 0,
            "ticks": ""
           }
          },
          "colorscale": {
           "diverging": [
            [
             0,
             "#8e0152"
            ],
            [
             0.1,
             "#c51b7d"
            ],
            [
             0.2,
             "#de77ae"
            ],
            [
             0.3,
             "#f1b6da"
            ],
            [
             0.4,
             "#fde0ef"
            ],
            [
             0.5,
             "#f7f7f7"
            ],
            [
             0.6,
             "#e6f5d0"
            ],
            [
             0.7,
             "#b8e186"
            ],
            [
             0.8,
             "#7fbc41"
            ],
            [
             0.9,
             "#4d9221"
            ],
            [
             1,
             "#276419"
            ]
           ],
           "sequential": [
            [
             0,
             "#0d0887"
            ],
            [
             0.1111111111111111,
             "#46039f"
            ],
            [
             0.2222222222222222,
             "#7201a8"
            ],
            [
             0.3333333333333333,
             "#9c179e"
            ],
            [
             0.4444444444444444,
             "#bd3786"
            ],
            [
             0.5555555555555556,
             "#d8576b"
            ],
            [
             0.6666666666666666,
             "#ed7953"
            ],
            [
             0.7777777777777778,
             "#fb9f3a"
            ],
            [
             0.8888888888888888,
             "#fdca26"
            ],
            [
             1,
             "#f0f921"
            ]
           ],
           "sequentialminus": [
            [
             0,
             "#0d0887"
            ],
            [
             0.1111111111111111,
             "#46039f"
            ],
            [
             0.2222222222222222,
             "#7201a8"
            ],
            [
             0.3333333333333333,
             "#9c179e"
            ],
            [
             0.4444444444444444,
             "#bd3786"
            ],
            [
             0.5555555555555556,
             "#d8576b"
            ],
            [
             0.6666666666666666,
             "#ed7953"
            ],
            [
             0.7777777777777778,
             "#fb9f3a"
            ],
            [
             0.8888888888888888,
             "#fdca26"
            ],
            [
             1,
             "#f0f921"
            ]
           ]
          },
          "colorway": [
           "#636efa",
           "#EF553B",
           "#00cc96",
           "#ab63fa",
           "#FFA15A",
           "#19d3f3",
           "#FF6692",
           "#B6E880",
           "#FF97FF",
           "#FECB52"
          ],
          "font": {
           "color": "#2a3f5f"
          },
          "geo": {
           "bgcolor": "white",
           "lakecolor": "white",
           "landcolor": "#E5ECF6",
           "showlakes": true,
           "showland": true,
           "subunitcolor": "white"
          },
          "hoverlabel": {
           "align": "left"
          },
          "hovermode": "closest",
          "mapbox": {
           "style": "light"
          },
          "paper_bgcolor": "white",
          "plot_bgcolor": "#E5ECF6",
          "polar": {
           "angularaxis": {
            "gridcolor": "white",
            "linecolor": "white",
            "ticks": ""
           },
           "bgcolor": "#E5ECF6",
           "radialaxis": {
            "gridcolor": "white",
            "linecolor": "white",
            "ticks": ""
           }
          },
          "scene": {
           "xaxis": {
            "backgroundcolor": "#E5ECF6",
            "gridcolor": "white",
            "gridwidth": 2,
            "linecolor": "white",
            "showbackground": true,
            "ticks": "",
            "zerolinecolor": "white"
           },
           "yaxis": {
            "backgroundcolor": "#E5ECF6",
            "gridcolor": "white",
            "gridwidth": 2,
            "linecolor": "white",
            "showbackground": true,
            "ticks": "",
            "zerolinecolor": "white"
           },
           "zaxis": {
            "backgroundcolor": "#E5ECF6",
            "gridcolor": "white",
            "gridwidth": 2,
            "linecolor": "white",
            "showbackground": true,
            "ticks": "",
            "zerolinecolor": "white"
           }
          },
          "shapedefaults": {
           "line": {
            "color": "#2a3f5f"
           }
          },
          "ternary": {
           "aaxis": {
            "gridcolor": "white",
            "linecolor": "white",
            "ticks": ""
           },
           "baxis": {
            "gridcolor": "white",
            "linecolor": "white",
            "ticks": ""
           },
           "bgcolor": "#E5ECF6",
           "caxis": {
            "gridcolor": "white",
            "linecolor": "white",
            "ticks": ""
           }
          },
          "title": {
           "x": 0.05
          },
          "xaxis": {
           "automargin": true,
           "gridcolor": "white",
           "linecolor": "white",
           "ticks": "",
           "title": {
            "standoff": 15
           },
           "zerolinecolor": "white",
           "zerolinewidth": 2
          },
          "yaxis": {
           "automargin": true,
           "gridcolor": "white",
           "linecolor": "white",
           "ticks": "",
           "title": {
            "standoff": 15
           },
           "zerolinecolor": "white",
           "zerolinewidth": 2
          }
         }
        },
        "title": {
         "text": "10 Most selective schools, Admission Rate by State"
        }
       }
      },
      "text/html": [
       "<div>                            <div id=\"782f65b6-6da0-4888-b7dc-ffbc8fb16c46\" class=\"plotly-graph-div\" style=\"height:525px; width:100%;\"></div>            <script type=\"text/javascript\">                require([\"plotly\"], function(Plotly) {                    window.PLOTLYENV=window.PLOTLYENV || {};                                    if (document.getElementById(\"782f65b6-6da0-4888-b7dc-ffbc8fb16c46\")) {                    Plotly.newPlot(                        \"782f65b6-6da0-4888-b7dc-ffbc8fb16c46\",                        [{\"colorbar\":{\"title\":{\"text\":\"Admission Rate\"}},\"colorscale\":[[0.0,\"rgb(255, 198, 196)\"],[0.16666666666666666,\"rgb(244, 163, 168)\"],[0.3333333333333333,\"rgb(227, 129, 145)\"],[0.5,\"rgb(204, 96, 125)\"],[0.6666666666666666,\"rgb(173, 70, 108)\"],[0.8333333333333334,\"rgb(139, 48, 88)\"],[1.0,\"rgb(103, 32, 68)\"]],\"locationmode\":\"USA-states\",\"locations\":[\"TX\",\"TX\",\"IL\",\"CA\",\"CA\",\"PA\",\"MA\",\"NJ\",\"NY\",\"CT\"],\"type\":\"choropleth\",\"z\":[-0.11985241978892691,-0.009286513451540634,0.0,0.0,0.0436,0.0455,0.0473,0.0548,0.0591,0.0635]}],                        {\"geo\":{\"scope\":\"usa\"},\"template\":{\"data\":{\"bar\":[{\"error_x\":{\"color\":\"#2a3f5f\"},\"error_y\":{\"color\":\"#2a3f5f\"},\"marker\":{\"line\":{\"color\":\"#E5ECF6\",\"width\":0.5},\"pattern\":{\"fillmode\":\"overlay\",\"size\":10,\"solidity\":0.2}},\"type\":\"bar\"}],\"barpolar\":[{\"marker\":{\"line\":{\"color\":\"#E5ECF6\",\"width\":0.5},\"pattern\":{\"fillmode\":\"overlay\",\"size\":10,\"solidity\":0.2}},\"type\":\"barpolar\"}],\"carpet\":[{\"aaxis\":{\"endlinecolor\":\"#2a3f5f\",\"gridcolor\":\"white\",\"linecolor\":\"white\",\"minorgridcolor\":\"white\",\"startlinecolor\":\"#2a3f5f\"},\"baxis\":{\"endlinecolor\":\"#2a3f5f\",\"gridcolor\":\"white\",\"linecolor\":\"white\",\"minorgridcolor\":\"white\",\"startlinecolor\":\"#2a3f5f\"},\"type\":\"carpet\"}],\"choropleth\":[{\"colorbar\":{\"outlinewidth\":0,\"ticks\":\"\"},\"type\":\"choropleth\"}],\"contour\":[{\"colorbar\":{\"outlinewidth\":0,\"ticks\":\"\"},\"colorscale\":[[0.0,\"#0d0887\"],[0.1111111111111111,\"#46039f\"],[0.2222222222222222,\"#7201a8\"],[0.3333333333333333,\"#9c179e\"],[0.4444444444444444,\"#bd3786\"],[0.5555555555555556,\"#d8576b\"],[0.6666666666666666,\"#ed7953\"],[0.7777777777777778,\"#fb9f3a\"],[0.8888888888888888,\"#fdca26\"],[1.0,\"#f0f921\"]],\"type\":\"contour\"}],\"contourcarpet\":[{\"colorbar\":{\"outlinewidth\":0,\"ticks\":\"\"},\"type\":\"contourcarpet\"}],\"heatmap\":[{\"colorbar\":{\"outlinewidth\":0,\"ticks\":\"\"},\"colorscale\":[[0.0,\"#0d0887\"],[0.1111111111111111,\"#46039f\"],[0.2222222222222222,\"#7201a8\"],[0.3333333333333333,\"#9c179e\"],[0.4444444444444444,\"#bd3786\"],[0.5555555555555556,\"#d8576b\"],[0.6666666666666666,\"#ed7953\"],[0.7777777777777778,\"#fb9f3a\"],[0.8888888888888888,\"#fdca26\"],[1.0,\"#f0f921\"]],\"type\":\"heatmap\"}],\"heatmapgl\":[{\"colorbar\":{\"outlinewidth\":0,\"ticks\":\"\"},\"colorscale\":[[0.0,\"#0d0887\"],[0.1111111111111111,\"#46039f\"],[0.2222222222222222,\"#7201a8\"],[0.3333333333333333,\"#9c179e\"],[0.4444444444444444,\"#bd3786\"],[0.5555555555555556,\"#d8576b\"],[0.6666666666666666,\"#ed7953\"],[0.7777777777777778,\"#fb9f3a\"],[0.8888888888888888,\"#fdca26\"],[1.0,\"#f0f921\"]],\"type\":\"heatmapgl\"}],\"histogram\":[{\"marker\":{\"pattern\":{\"fillmode\":\"overlay\",\"size\":10,\"solidity\":0.2}},\"type\":\"histogram\"}],\"histogram2d\":[{\"colorbar\":{\"outlinewidth\":0,\"ticks\":\"\"},\"colorscale\":[[0.0,\"#0d0887\"],[0.1111111111111111,\"#46039f\"],[0.2222222222222222,\"#7201a8\"],[0.3333333333333333,\"#9c179e\"],[0.4444444444444444,\"#bd3786\"],[0.5555555555555556,\"#d8576b\"],[0.6666666666666666,\"#ed7953\"],[0.7777777777777778,\"#fb9f3a\"],[0.8888888888888888,\"#fdca26\"],[1.0,\"#f0f921\"]],\"type\":\"histogram2d\"}],\"histogram2dcontour\":[{\"colorbar\":{\"outlinewidth\":0,\"ticks\":\"\"},\"colorscale\":[[0.0,\"#0d0887\"],[0.1111111111111111,\"#46039f\"],[0.2222222222222222,\"#7201a8\"],[0.3333333333333333,\"#9c179e\"],[0.4444444444444444,\"#bd3786\"],[0.5555555555555556,\"#d8576b\"],[0.6666666666666666,\"#ed7953\"],[0.7777777777777778,\"#fb9f3a\"],[0.8888888888888888,\"#fdca26\"],[1.0,\"#f0f921\"]],\"type\":\"histogram2dcontour\"}],\"mesh3d\":[{\"colorbar\":{\"outlinewidth\":0,\"ticks\":\"\"},\"type\":\"mesh3d\"}],\"parcoords\":[{\"line\":{\"colorbar\":{\"outlinewidth\":0,\"ticks\":\"\"}},\"type\":\"parcoords\"}],\"pie\":[{\"automargin\":true,\"type\":\"pie\"}],\"scatter\":[{\"marker\":{\"colorbar\":{\"outlinewidth\":0,\"ticks\":\"\"}},\"type\":\"scatter\"}],\"scatter3d\":[{\"line\":{\"colorbar\":{\"outlinewidth\":0,\"ticks\":\"\"}},\"marker\":{\"colorbar\":{\"outlinewidth\":0,\"ticks\":\"\"}},\"type\":\"scatter3d\"}],\"scattercarpet\":[{\"marker\":{\"colorbar\":{\"outlinewidth\":0,\"ticks\":\"\"}},\"type\":\"scattercarpet\"}],\"scattergeo\":[{\"marker\":{\"colorbar\":{\"outlinewidth\":0,\"ticks\":\"\"}},\"type\":\"scattergeo\"}],\"scattergl\":[{\"marker\":{\"colorbar\":{\"outlinewidth\":0,\"ticks\":\"\"}},\"type\":\"scattergl\"}],\"scattermapbox\":[{\"marker\":{\"colorbar\":{\"outlinewidth\":0,\"ticks\":\"\"}},\"type\":\"scattermapbox\"}],\"scatterpolar\":[{\"marker\":{\"colorbar\":{\"outlinewidth\":0,\"ticks\":\"\"}},\"type\":\"scatterpolar\"}],\"scatterpolargl\":[{\"marker\":{\"colorbar\":{\"outlinewidth\":0,\"ticks\":\"\"}},\"type\":\"scatterpolargl\"}],\"scatterternary\":[{\"marker\":{\"colorbar\":{\"outlinewidth\":0,\"ticks\":\"\"}},\"type\":\"scatterternary\"}],\"surface\":[{\"colorbar\":{\"outlinewidth\":0,\"ticks\":\"\"},\"colorscale\":[[0.0,\"#0d0887\"],[0.1111111111111111,\"#46039f\"],[0.2222222222222222,\"#7201a8\"],[0.3333333333333333,\"#9c179e\"],[0.4444444444444444,\"#bd3786\"],[0.5555555555555556,\"#d8576b\"],[0.6666666666666666,\"#ed7953\"],[0.7777777777777778,\"#fb9f3a\"],[0.8888888888888888,\"#fdca26\"],[1.0,\"#f0f921\"]],\"type\":\"surface\"}],\"table\":[{\"cells\":{\"fill\":{\"color\":\"#EBF0F8\"},\"line\":{\"color\":\"white\"}},\"header\":{\"fill\":{\"color\":\"#C8D4E3\"},\"line\":{\"color\":\"white\"}},\"type\":\"table\"}]},\"layout\":{\"annotationdefaults\":{\"arrowcolor\":\"#2a3f5f\",\"arrowhead\":0,\"arrowwidth\":1},\"autotypenumbers\":\"strict\",\"coloraxis\":{\"colorbar\":{\"outlinewidth\":0,\"ticks\":\"\"}},\"colorscale\":{\"diverging\":[[0,\"#8e0152\"],[0.1,\"#c51b7d\"],[0.2,\"#de77ae\"],[0.3,\"#f1b6da\"],[0.4,\"#fde0ef\"],[0.5,\"#f7f7f7\"],[0.6,\"#e6f5d0\"],[0.7,\"#b8e186\"],[0.8,\"#7fbc41\"],[0.9,\"#4d9221\"],[1,\"#276419\"]],\"sequential\":[[0.0,\"#0d0887\"],[0.1111111111111111,\"#46039f\"],[0.2222222222222222,\"#7201a8\"],[0.3333333333333333,\"#9c179e\"],[0.4444444444444444,\"#bd3786\"],[0.5555555555555556,\"#d8576b\"],[0.6666666666666666,\"#ed7953\"],[0.7777777777777778,\"#fb9f3a\"],[0.8888888888888888,\"#fdca26\"],[1.0,\"#f0f921\"]],\"sequentialminus\":[[0.0,\"#0d0887\"],[0.1111111111111111,\"#46039f\"],[0.2222222222222222,\"#7201a8\"],[0.3333333333333333,\"#9c179e\"],[0.4444444444444444,\"#bd3786\"],[0.5555555555555556,\"#d8576b\"],[0.6666666666666666,\"#ed7953\"],[0.7777777777777778,\"#fb9f3a\"],[0.8888888888888888,\"#fdca26\"],[1.0,\"#f0f921\"]]},\"colorway\":[\"#636efa\",\"#EF553B\",\"#00cc96\",\"#ab63fa\",\"#FFA15A\",\"#19d3f3\",\"#FF6692\",\"#B6E880\",\"#FF97FF\",\"#FECB52\"],\"font\":{\"color\":\"#2a3f5f\"},\"geo\":{\"bgcolor\":\"white\",\"lakecolor\":\"white\",\"landcolor\":\"#E5ECF6\",\"showlakes\":true,\"showland\":true,\"subunitcolor\":\"white\"},\"hoverlabel\":{\"align\":\"left\"},\"hovermode\":\"closest\",\"mapbox\":{\"style\":\"light\"},\"paper_bgcolor\":\"white\",\"plot_bgcolor\":\"#E5ECF6\",\"polar\":{\"angularaxis\":{\"gridcolor\":\"white\",\"linecolor\":\"white\",\"ticks\":\"\"},\"bgcolor\":\"#E5ECF6\",\"radialaxis\":{\"gridcolor\":\"white\",\"linecolor\":\"white\",\"ticks\":\"\"}},\"scene\":{\"xaxis\":{\"backgroundcolor\":\"#E5ECF6\",\"gridcolor\":\"white\",\"gridwidth\":2,\"linecolor\":\"white\",\"showbackground\":true,\"ticks\":\"\",\"zerolinecolor\":\"white\"},\"yaxis\":{\"backgroundcolor\":\"#E5ECF6\",\"gridcolor\":\"white\",\"gridwidth\":2,\"linecolor\":\"white\",\"showbackground\":true,\"ticks\":\"\",\"zerolinecolor\":\"white\"},\"zaxis\":{\"backgroundcolor\":\"#E5ECF6\",\"gridcolor\":\"white\",\"gridwidth\":2,\"linecolor\":\"white\",\"showbackground\":true,\"ticks\":\"\",\"zerolinecolor\":\"white\"}},\"shapedefaults\":{\"line\":{\"color\":\"#2a3f5f\"}},\"ternary\":{\"aaxis\":{\"gridcolor\":\"white\",\"linecolor\":\"white\",\"ticks\":\"\"},\"baxis\":{\"gridcolor\":\"white\",\"linecolor\":\"white\",\"ticks\":\"\"},\"bgcolor\":\"#E5ECF6\",\"caxis\":{\"gridcolor\":\"white\",\"linecolor\":\"white\",\"ticks\":\"\"}},\"title\":{\"x\":0.05},\"xaxis\":{\"automargin\":true,\"gridcolor\":\"white\",\"linecolor\":\"white\",\"ticks\":\"\",\"title\":{\"standoff\":15},\"zerolinecolor\":\"white\",\"zerolinewidth\":2},\"yaxis\":{\"automargin\":true,\"gridcolor\":\"white\",\"linecolor\":\"white\",\"ticks\":\"\",\"title\":{\"standoff\":15},\"zerolinecolor\":\"white\",\"zerolinewidth\":2}}},\"title\":{\"text\":\"10 Most selective schools, Admission Rate by State\"}},                        {\"responsive\": true}                    ).then(function(){\n",
       "                            \n",
       "var gd = document.getElementById('782f65b6-6da0-4888-b7dc-ffbc8fb16c46');\n",
       "var x = new MutationObserver(function (mutations, observer) {{\n",
       "        var display = window.getComputedStyle(gd).display;\n",
       "        if (!display || display === 'none') {{\n",
       "            console.log([gd, 'removed!']);\n",
       "            Plotly.purge(gd);\n",
       "            observer.disconnect();\n",
       "        }}\n",
       "}});\n",
       "\n",
       "// Listen for the removal of the full notebook cells\n",
       "var notebookContainer = gd.closest('#notebook-container');\n",
       "if (notebookContainer) {{\n",
       "    x.observe(notebookContainer, {childList: true});\n",
       "}}\n",
       "\n",
       "// Listen for the clearing of the current output cell\n",
       "var outputEl = gd.closest('.output');\n",
       "if (outputEl) {{\n",
       "    x.observe(outputEl, {childList: true});\n",
       "}}\n",
       "\n",
       "                        })                };                });            </script>        </div>"
      ]
     },
     "metadata": {},
     "output_type": "display_data"
    }
   ],
   "source": [
    "import plotly.graph_objects as go\n",
    "fig = go.Figure(data=go.Choropleth(\n",
    "    locations=df_copy_10mostselective['STABBR'], # Spatial coordinates\n",
    "    z = df_copy_10mostselective['ADM_RATE'].astype(float), # Data to be color-coded\n",
    "    locationmode = 'USA-states', # set of locations match entries in `locations`\n",
    "    colorscale = 'Burg',\n",
    "    colorbar_title = \"Admission Rate\",\n",
    "))\n",
    "\n",
    "fig.update_layout(\n",
    "    title_text = '10 Most selective schools, Admission Rate by State',\n",
    "    geo_scope='usa', # limite map scope to USA\n",
    ")\n",
    "\n",
    "fig.show()"
   ]
  },
  {
   "cell_type": "code",
   "execution_count": null,
   "metadata": {},
   "outputs": [],
   "source": [
    "# Some of the most well-known universities have the lowest ADM_RATE and it could be because most students\n",
    "# want to pursue higher education with them and so the number of applications could be higher  "
   ]
  },
  {
   "cell_type": "markdown",
   "metadata": {},
   "source": [
    "**3. Which of the variables in the dataset are most highly correlated with median income 10 years after graduating?**"
   ]
  },
  {
   "cell_type": "code",
   "execution_count": 39,
   "metadata": {},
   "outputs": [
    {
     "data": {
      "text/html": [
       "<div>\n",
       "<style scoped>\n",
       "    .dataframe tbody tr th:only-of-type {\n",
       "        vertical-align: middle;\n",
       "    }\n",
       "\n",
       "    .dataframe tbody tr th {\n",
       "        vertical-align: top;\n",
       "    }\n",
       "\n",
       "    .dataframe thead th {\n",
       "        text-align: right;\n",
       "    }\n",
       "</style>\n",
       "<table border=\"1\" class=\"dataframe\">\n",
       "  <thead>\n",
       "    <tr style=\"text-align: right;\">\n",
       "      <th></th>\n",
       "      <th>INSTNM</th>\n",
       "      <th>CITY</th>\n",
       "      <th>STABBR</th>\n",
       "      <th>ZIP</th>\n",
       "      <th>ACCREDAGENCY</th>\n",
       "      <th>UNITID</th>\n",
       "      <th>OPEID</th>\n",
       "      <th>REGION</th>\n",
       "      <th>CONTROL</th>\n",
       "      <th>PREDDEG</th>\n",
       "      <th>...</th>\n",
       "      <th>ACTCMMID</th>\n",
       "      <th>PPTUG_EF</th>\n",
       "      <th>NPT4_PRIV</th>\n",
       "      <th>INEXPFTE</th>\n",
       "      <th>AVGFACSAL</th>\n",
       "      <th>C150_4</th>\n",
       "      <th>PFTFTUG1_EF</th>\n",
       "      <th>COMPL_RPY_3YR_RT</th>\n",
       "      <th>COMPL_RPY_5YR_RT</th>\n",
       "      <th>MD_EARN_WNE_P10</th>\n",
       "    </tr>\n",
       "  </thead>\n",
       "  <tbody>\n",
       "    <tr>\n",
       "      <th>0</th>\n",
       "      <td>Alabama A &amp; M University</td>\n",
       "      <td>Normal</td>\n",
       "      <td>AL</td>\n",
       "      <td>35762</td>\n",
       "      <td>Southern Association of Colleges and Schools C...</td>\n",
       "      <td>100654</td>\n",
       "      <td>100200.0</td>\n",
       "      <td>5.0</td>\n",
       "      <td>1.0</td>\n",
       "      <td>3.0</td>\n",
       "      <td>...</td>\n",
       "      <td>18.000000</td>\n",
       "      <td>0.0587</td>\n",
       "      <td>21573.738617</td>\n",
       "      <td>5384.0</td>\n",
       "      <td>7101.0</td>\n",
       "      <td>0.2685</td>\n",
       "      <td>0.8987</td>\n",
       "      <td>0.429326</td>\n",
       "      <td>0.511318</td>\n",
       "      <td>31000.0</td>\n",
       "    </tr>\n",
       "    <tr>\n",
       "      <th>1</th>\n",
       "      <td>University of Alabama at Birmingham</td>\n",
       "      <td>Birmingham</td>\n",
       "      <td>AL</td>\n",
       "      <td>35294-0110</td>\n",
       "      <td>Southern Association of Colleges and Schools C...</td>\n",
       "      <td>100663</td>\n",
       "      <td>105200.0</td>\n",
       "      <td>5.0</td>\n",
       "      <td>1.0</td>\n",
       "      <td>3.0</td>\n",
       "      <td>...</td>\n",
       "      <td>25.000000</td>\n",
       "      <td>0.2425</td>\n",
       "      <td>25862.735358</td>\n",
       "      <td>16454.0</td>\n",
       "      <td>10717.0</td>\n",
       "      <td>0.5829</td>\n",
       "      <td>0.6009</td>\n",
       "      <td>0.618270</td>\n",
       "      <td>0.673330</td>\n",
       "      <td>41200.0</td>\n",
       "    </tr>\n",
       "    <tr>\n",
       "      <th>2</th>\n",
       "      <td>Amridge University</td>\n",
       "      <td>Montgomery</td>\n",
       "      <td>AL</td>\n",
       "      <td>36117-3553</td>\n",
       "      <td>Southern Association of Colleges and Schools C...</td>\n",
       "      <td>100690</td>\n",
       "      <td>2503400.0</td>\n",
       "      <td>5.0</td>\n",
       "      <td>2.0</td>\n",
       "      <td>3.0</td>\n",
       "      <td>...</td>\n",
       "      <td>22.682138</td>\n",
       "      <td>0.5014</td>\n",
       "      <td>15322.000000</td>\n",
       "      <td>4206.0</td>\n",
       "      <td>4292.0</td>\n",
       "      <td>0.4000</td>\n",
       "      <td>0.0035</td>\n",
       "      <td>0.439024</td>\n",
       "      <td>0.550725</td>\n",
       "      <td>39600.0</td>\n",
       "    </tr>\n",
       "    <tr>\n",
       "      <th>3</th>\n",
       "      <td>University of Alabama in Huntsville</td>\n",
       "      <td>Huntsville</td>\n",
       "      <td>AL</td>\n",
       "      <td>35899</td>\n",
       "      <td>Southern Association of Colleges and Schools C...</td>\n",
       "      <td>100706</td>\n",
       "      <td>105500.0</td>\n",
       "      <td>5.0</td>\n",
       "      <td>1.0</td>\n",
       "      <td>3.0</td>\n",
       "      <td>...</td>\n",
       "      <td>28.000000</td>\n",
       "      <td>0.1443</td>\n",
       "      <td>26485.605762</td>\n",
       "      <td>9242.0</td>\n",
       "      <td>9442.0</td>\n",
       "      <td>0.5187</td>\n",
       "      <td>0.6176</td>\n",
       "      <td>0.680887</td>\n",
       "      <td>0.742248</td>\n",
       "      <td>46700.0</td>\n",
       "    </tr>\n",
       "    <tr>\n",
       "      <th>4</th>\n",
       "      <td>Alabama State University</td>\n",
       "      <td>Montgomery</td>\n",
       "      <td>AL</td>\n",
       "      <td>36104-0271</td>\n",
       "      <td>Southern Association of Colleges and Schools C...</td>\n",
       "      <td>100724</td>\n",
       "      <td>100500.0</td>\n",
       "      <td>5.0</td>\n",
       "      <td>1.0</td>\n",
       "      <td>3.0</td>\n",
       "      <td>...</td>\n",
       "      <td>18.000000</td>\n",
       "      <td>0.0666</td>\n",
       "      <td>21225.911175</td>\n",
       "      <td>8527.0</td>\n",
       "      <td>7754.0</td>\n",
       "      <td>0.3001</td>\n",
       "      <td>0.8650</td>\n",
       "      <td>0.366038</td>\n",
       "      <td>0.442308</td>\n",
       "      <td>27700.0</td>\n",
       "    </tr>\n",
       "  </tbody>\n",
       "</table>\n",
       "<p>5 rows × 26 columns</p>\n",
       "</div>"
      ],
      "text/plain": [
       "                                INSTNM        CITY STABBR         ZIP  \\\n",
       "0             Alabama A & M University      Normal     AL       35762   \n",
       "1  University of Alabama at Birmingham  Birmingham     AL  35294-0110   \n",
       "2                   Amridge University  Montgomery     AL  36117-3553   \n",
       "3  University of Alabama in Huntsville  Huntsville     AL       35899   \n",
       "4             Alabama State University  Montgomery     AL  36104-0271   \n",
       "\n",
       "                                        ACCREDAGENCY  UNITID      OPEID  \\\n",
       "0  Southern Association of Colleges and Schools C...  100654   100200.0   \n",
       "1  Southern Association of Colleges and Schools C...  100663   105200.0   \n",
       "2  Southern Association of Colleges and Schools C...  100690  2503400.0   \n",
       "3  Southern Association of Colleges and Schools C...  100706   105500.0   \n",
       "4  Southern Association of Colleges and Schools C...  100724   100500.0   \n",
       "\n",
       "   REGION  CONTROL  PREDDEG  ...   ACTCMMID  PPTUG_EF     NPT4_PRIV  INEXPFTE  \\\n",
       "0     5.0      1.0      3.0  ...  18.000000    0.0587  21573.738617    5384.0   \n",
       "1     5.0      1.0      3.0  ...  25.000000    0.2425  25862.735358   16454.0   \n",
       "2     5.0      2.0      3.0  ...  22.682138    0.5014  15322.000000    4206.0   \n",
       "3     5.0      1.0      3.0  ...  28.000000    0.1443  26485.605762    9242.0   \n",
       "4     5.0      1.0      3.0  ...  18.000000    0.0666  21225.911175    8527.0   \n",
       "\n",
       "   AVGFACSAL  C150_4  PFTFTUG1_EF  COMPL_RPY_3YR_RT  COMPL_RPY_5YR_RT  \\\n",
       "0     7101.0  0.2685       0.8987          0.429326          0.511318   \n",
       "1    10717.0  0.5829       0.6009          0.618270          0.673330   \n",
       "2     4292.0  0.4000       0.0035          0.439024          0.550725   \n",
       "3     9442.0  0.5187       0.6176          0.680887          0.742248   \n",
       "4     7754.0  0.3001       0.8650          0.366038          0.442308   \n",
       "\n",
       "   MD_EARN_WNE_P10  \n",
       "0          31000.0  \n",
       "1          41200.0  \n",
       "2          39600.0  \n",
       "3          46700.0  \n",
       "4          27700.0  \n",
       "\n",
       "[5 rows x 26 columns]"
      ]
     },
     "execution_count": 39,
     "metadata": {},
     "output_type": "execute_result"
    }
   ],
   "source": [
    "df_cleaned_final.head()"
   ]
  },
  {
   "cell_type": "code",
   "execution_count": 40,
   "metadata": {},
   "outputs": [
    {
     "data": {
      "text/html": [
       "<div>\n",
       "<style scoped>\n",
       "    .dataframe tbody tr th:only-of-type {\n",
       "        vertical-align: middle;\n",
       "    }\n",
       "\n",
       "    .dataframe tbody tr th {\n",
       "        vertical-align: top;\n",
       "    }\n",
       "\n",
       "    .dataframe thead th {\n",
       "        text-align: right;\n",
       "    }\n",
       "</style>\n",
       "<table border=\"1\" class=\"dataframe\">\n",
       "  <thead>\n",
       "    <tr style=\"text-align: right;\">\n",
       "      <th></th>\n",
       "      <th>UNITID</th>\n",
       "      <th>OPEID</th>\n",
       "      <th>REGION</th>\n",
       "      <th>CONTROL</th>\n",
       "      <th>PREDDEG</th>\n",
       "      <th>HIGHDEG</th>\n",
       "      <th>LOCALE</th>\n",
       "      <th>CCSIZSET</th>\n",
       "      <th>HBCU</th>\n",
       "      <th>ADM_RATE</th>\n",
       "      <th>...</th>\n",
       "      <th>ACTCMMID</th>\n",
       "      <th>PPTUG_EF</th>\n",
       "      <th>NPT4_PRIV</th>\n",
       "      <th>INEXPFTE</th>\n",
       "      <th>AVGFACSAL</th>\n",
       "      <th>C150_4</th>\n",
       "      <th>PFTFTUG1_EF</th>\n",
       "      <th>COMPL_RPY_3YR_RT</th>\n",
       "      <th>COMPL_RPY_5YR_RT</th>\n",
       "      <th>MD_EARN_WNE_P10</th>\n",
       "    </tr>\n",
       "  </thead>\n",
       "  <tbody>\n",
       "    <tr>\n",
       "      <th>UNITID</th>\n",
       "      <td>1.000000</td>\n",
       "      <td>0.335665</td>\n",
       "      <td>0.110249</td>\n",
       "      <td>0.321522</td>\n",
       "      <td>NaN</td>\n",
       "      <td>-0.171454</td>\n",
       "      <td>-0.086629</td>\n",
       "      <td>-0.427252</td>\n",
       "      <td>-0.084174</td>\n",
       "      <td>0.149594</td>\n",
       "      <td>...</td>\n",
       "      <td>-0.074978</td>\n",
       "      <td>0.283502</td>\n",
       "      <td>-0.231991</td>\n",
       "      <td>-0.128773</td>\n",
       "      <td>-0.288759</td>\n",
       "      <td>-0.319513</td>\n",
       "      <td>-0.364739</td>\n",
       "      <td>-0.182069</td>\n",
       "      <td>-0.174065</td>\n",
       "      <td>-0.064495</td>\n",
       "    </tr>\n",
       "    <tr>\n",
       "      <th>OPEID</th>\n",
       "      <td>0.335665</td>\n",
       "      <td>1.000000</td>\n",
       "      <td>0.087944</td>\n",
       "      <td>0.240882</td>\n",
       "      <td>NaN</td>\n",
       "      <td>-0.031844</td>\n",
       "      <td>-0.058103</td>\n",
       "      <td>-0.195337</td>\n",
       "      <td>-0.038333</td>\n",
       "      <td>0.274463</td>\n",
       "      <td>...</td>\n",
       "      <td>-0.049004</td>\n",
       "      <td>-0.023785</td>\n",
       "      <td>-0.201202</td>\n",
       "      <td>-0.081478</td>\n",
       "      <td>-0.357840</td>\n",
       "      <td>-0.207311</td>\n",
       "      <td>-0.239401</td>\n",
       "      <td>-0.208681</td>\n",
       "      <td>-0.185872</td>\n",
       "      <td>-0.022262</td>\n",
       "    </tr>\n",
       "    <tr>\n",
       "      <th>REGION</th>\n",
       "      <td>0.110249</td>\n",
       "      <td>0.087944</td>\n",
       "      <td>1.000000</td>\n",
       "      <td>0.035560</td>\n",
       "      <td>NaN</td>\n",
       "      <td>0.036418</td>\n",
       "      <td>-0.081501</td>\n",
       "      <td>-0.063471</td>\n",
       "      <td>0.043326</td>\n",
       "      <td>0.021926</td>\n",
       "      <td>...</td>\n",
       "      <td>-0.099497</td>\n",
       "      <td>0.120335</td>\n",
       "      <td>-0.107537</td>\n",
       "      <td>-0.080481</td>\n",
       "      <td>-0.134964</td>\n",
       "      <td>-0.185308</td>\n",
       "      <td>-0.184422</td>\n",
       "      <td>-0.177103</td>\n",
       "      <td>-0.224412</td>\n",
       "      <td>-0.154590</td>\n",
       "    </tr>\n",
       "    <tr>\n",
       "      <th>CONTROL</th>\n",
       "      <td>0.321522</td>\n",
       "      <td>0.240882</td>\n",
       "      <td>0.035560</td>\n",
       "      <td>1.000000</td>\n",
       "      <td>NaN</td>\n",
       "      <td>-0.175975</td>\n",
       "      <td>-0.118062</td>\n",
       "      <td>-0.470277</td>\n",
       "      <td>-0.094633</td>\n",
       "      <td>-0.021698</td>\n",
       "      <td>...</td>\n",
       "      <td>0.007806</td>\n",
       "      <td>0.117138</td>\n",
       "      <td>-0.135406</td>\n",
       "      <td>-0.101314</td>\n",
       "      <td>-0.326778</td>\n",
       "      <td>-0.129759</td>\n",
       "      <td>-0.222626</td>\n",
       "      <td>-0.215533</td>\n",
       "      <td>-0.170860</td>\n",
       "      <td>-0.063259</td>\n",
       "    </tr>\n",
       "    <tr>\n",
       "      <th>PREDDEG</th>\n",
       "      <td>NaN</td>\n",
       "      <td>NaN</td>\n",
       "      <td>NaN</td>\n",
       "      <td>NaN</td>\n",
       "      <td>NaN</td>\n",
       "      <td>NaN</td>\n",
       "      <td>NaN</td>\n",
       "      <td>NaN</td>\n",
       "      <td>NaN</td>\n",
       "      <td>NaN</td>\n",
       "      <td>...</td>\n",
       "      <td>NaN</td>\n",
       "      <td>NaN</td>\n",
       "      <td>NaN</td>\n",
       "      <td>NaN</td>\n",
       "      <td>NaN</td>\n",
       "      <td>NaN</td>\n",
       "      <td>NaN</td>\n",
       "      <td>NaN</td>\n",
       "      <td>NaN</td>\n",
       "      <td>NaN</td>\n",
       "    </tr>\n",
       "    <tr>\n",
       "      <th>HIGHDEG</th>\n",
       "      <td>-0.171454</td>\n",
       "      <td>-0.031844</td>\n",
       "      <td>0.036418</td>\n",
       "      <td>-0.175975</td>\n",
       "      <td>NaN</td>\n",
       "      <td>1.000000</td>\n",
       "      <td>-0.114142</td>\n",
       "      <td>0.363673</td>\n",
       "      <td>-0.055656</td>\n",
       "      <td>0.102963</td>\n",
       "      <td>...</td>\n",
       "      <td>0.033228</td>\n",
       "      <td>0.085947</td>\n",
       "      <td>0.157664</td>\n",
       "      <td>0.006645</td>\n",
       "      <td>0.214163</td>\n",
       "      <td>0.097761</td>\n",
       "      <td>-0.085540</td>\n",
       "      <td>0.033422</td>\n",
       "      <td>0.040117</td>\n",
       "      <td>0.143365</td>\n",
       "    </tr>\n",
       "    <tr>\n",
       "      <th>LOCALE</th>\n",
       "      <td>-0.086629</td>\n",
       "      <td>-0.058103</td>\n",
       "      <td>-0.081501</td>\n",
       "      <td>-0.118062</td>\n",
       "      <td>NaN</td>\n",
       "      <td>-0.114142</td>\n",
       "      <td>1.000000</td>\n",
       "      <td>-0.051688</td>\n",
       "      <td>-0.017698</td>\n",
       "      <td>0.038478</td>\n",
       "      <td>...</td>\n",
       "      <td>-0.136901</td>\n",
       "      <td>-0.088248</td>\n",
       "      <td>-0.119246</td>\n",
       "      <td>-0.096359</td>\n",
       "      <td>-0.144167</td>\n",
       "      <td>-0.033802</td>\n",
       "      <td>0.144195</td>\n",
       "      <td>0.080988</td>\n",
       "      <td>0.105269</td>\n",
       "      <td>-0.165023</td>\n",
       "    </tr>\n",
       "    <tr>\n",
       "      <th>CCSIZSET</th>\n",
       "      <td>-0.427252</td>\n",
       "      <td>-0.195337</td>\n",
       "      <td>-0.063471</td>\n",
       "      <td>-0.470277</td>\n",
       "      <td>NaN</td>\n",
       "      <td>0.363673</td>\n",
       "      <td>-0.051688</td>\n",
       "      <td>1.000000</td>\n",
       "      <td>0.023487</td>\n",
       "      <td>-0.078922</td>\n",
       "      <td>...</td>\n",
       "      <td>0.307007</td>\n",
       "      <td>-0.261310</td>\n",
       "      <td>0.340913</td>\n",
       "      <td>0.171113</td>\n",
       "      <td>0.563620</td>\n",
       "      <td>0.418909</td>\n",
       "      <td>0.353552</td>\n",
       "      <td>0.302789</td>\n",
       "      <td>0.290422</td>\n",
       "      <td>0.310767</td>\n",
       "    </tr>\n",
       "    <tr>\n",
       "      <th>HBCU</th>\n",
       "      <td>-0.084174</td>\n",
       "      <td>-0.038333</td>\n",
       "      <td>0.043326</td>\n",
       "      <td>-0.094633</td>\n",
       "      <td>NaN</td>\n",
       "      <td>-0.055656</td>\n",
       "      <td>-0.017698</td>\n",
       "      <td>0.023487</td>\n",
       "      <td>1.000000</td>\n",
       "      <td>-0.072005</td>\n",
       "      <td>...</td>\n",
       "      <td>-0.228597</td>\n",
       "      <td>-0.074233</td>\n",
       "      <td>-0.066935</td>\n",
       "      <td>-0.054703</td>\n",
       "      <td>-0.077450</td>\n",
       "      <td>-0.175265</td>\n",
       "      <td>0.090383</td>\n",
       "      <td>-0.389840</td>\n",
       "      <td>-0.420454</td>\n",
       "      <td>-0.197703</td>\n",
       "    </tr>\n",
       "    <tr>\n",
       "      <th>ADM_RATE</th>\n",
       "      <td>0.149594</td>\n",
       "      <td>0.274463</td>\n",
       "      <td>0.021926</td>\n",
       "      <td>-0.021698</td>\n",
       "      <td>NaN</td>\n",
       "      <td>0.102963</td>\n",
       "      <td>0.038478</td>\n",
       "      <td>-0.078922</td>\n",
       "      <td>-0.072005</td>\n",
       "      <td>1.000000</td>\n",
       "      <td>...</td>\n",
       "      <td>-0.383011</td>\n",
       "      <td>0.047994</td>\n",
       "      <td>-0.159349</td>\n",
       "      <td>-0.412065</td>\n",
       "      <td>-0.373433</td>\n",
       "      <td>-0.304595</td>\n",
       "      <td>-0.161835</td>\n",
       "      <td>-0.120470</td>\n",
       "      <td>-0.068388</td>\n",
       "      <td>-0.279113</td>\n",
       "    </tr>\n",
       "    <tr>\n",
       "      <th>SAT_AVG</th>\n",
       "      <td>-0.051938</td>\n",
       "      <td>-0.042067</td>\n",
       "      <td>-0.035078</td>\n",
       "      <td>0.012980</td>\n",
       "      <td>NaN</td>\n",
       "      <td>0.037001</td>\n",
       "      <td>-0.143536</td>\n",
       "      <td>0.297608</td>\n",
       "      <td>-0.228749</td>\n",
       "      <td>-0.380991</td>\n",
       "      <td>...</td>\n",
       "      <td>0.977327</td>\n",
       "      <td>-0.192008</td>\n",
       "      <td>0.300603</td>\n",
       "      <td>0.465256</td>\n",
       "      <td>0.543252</td>\n",
       "      <td>0.592507</td>\n",
       "      <td>0.279375</td>\n",
       "      <td>0.477876</td>\n",
       "      <td>0.428926</td>\n",
       "      <td>0.509388</td>\n",
       "    </tr>\n",
       "    <tr>\n",
       "      <th>ACTCMMID</th>\n",
       "      <td>-0.074978</td>\n",
       "      <td>-0.049004</td>\n",
       "      <td>-0.099497</td>\n",
       "      <td>0.007806</td>\n",
       "      <td>NaN</td>\n",
       "      <td>0.033228</td>\n",
       "      <td>-0.136901</td>\n",
       "      <td>0.307007</td>\n",
       "      <td>-0.228597</td>\n",
       "      <td>-0.383011</td>\n",
       "      <td>...</td>\n",
       "      <td>1.000000</td>\n",
       "      <td>-0.210963</td>\n",
       "      <td>0.354361</td>\n",
       "      <td>0.477255</td>\n",
       "      <td>0.577083</td>\n",
       "      <td>0.620251</td>\n",
       "      <td>0.301582</td>\n",
       "      <td>0.493867</td>\n",
       "      <td>0.453060</td>\n",
       "      <td>0.545135</td>\n",
       "    </tr>\n",
       "    <tr>\n",
       "      <th>PPTUG_EF</th>\n",
       "      <td>0.283502</td>\n",
       "      <td>-0.023785</td>\n",
       "      <td>0.120335</td>\n",
       "      <td>0.117138</td>\n",
       "      <td>NaN</td>\n",
       "      <td>0.085947</td>\n",
       "      <td>-0.088248</td>\n",
       "      <td>-0.261310</td>\n",
       "      <td>-0.074233</td>\n",
       "      <td>0.047994</td>\n",
       "      <td>...</td>\n",
       "      <td>-0.210963</td>\n",
       "      <td>1.000000</td>\n",
       "      <td>-0.123637</td>\n",
       "      <td>-0.210936</td>\n",
       "      <td>-0.158125</td>\n",
       "      <td>-0.458301</td>\n",
       "      <td>-0.771842</td>\n",
       "      <td>-0.329143</td>\n",
       "      <td>-0.307466</td>\n",
       "      <td>-0.086162</td>\n",
       "    </tr>\n",
       "    <tr>\n",
       "      <th>NPT4_PRIV</th>\n",
       "      <td>-0.231991</td>\n",
       "      <td>-0.201202</td>\n",
       "      <td>-0.107537</td>\n",
       "      <td>-0.135406</td>\n",
       "      <td>NaN</td>\n",
       "      <td>0.157664</td>\n",
       "      <td>-0.119246</td>\n",
       "      <td>0.340913</td>\n",
       "      <td>-0.066935</td>\n",
       "      <td>-0.159349</td>\n",
       "      <td>...</td>\n",
       "      <td>0.354361</td>\n",
       "      <td>-0.123637</td>\n",
       "      <td>1.000000</td>\n",
       "      <td>0.191065</td>\n",
       "      <td>0.588440</td>\n",
       "      <td>0.465939</td>\n",
       "      <td>0.182359</td>\n",
       "      <td>0.361865</td>\n",
       "      <td>0.368879</td>\n",
       "      <td>0.524867</td>\n",
       "    </tr>\n",
       "    <tr>\n",
       "      <th>INEXPFTE</th>\n",
       "      <td>-0.128773</td>\n",
       "      <td>-0.081478</td>\n",
       "      <td>-0.080481</td>\n",
       "      <td>-0.101314</td>\n",
       "      <td>NaN</td>\n",
       "      <td>0.006645</td>\n",
       "      <td>-0.096359</td>\n",
       "      <td>0.171113</td>\n",
       "      <td>-0.054703</td>\n",
       "      <td>-0.412065</td>\n",
       "      <td>...</td>\n",
       "      <td>0.477255</td>\n",
       "      <td>-0.210936</td>\n",
       "      <td>0.191065</td>\n",
       "      <td>1.000000</td>\n",
       "      <td>0.489270</td>\n",
       "      <td>0.367792</td>\n",
       "      <td>0.248231</td>\n",
       "      <td>0.325358</td>\n",
       "      <td>0.292749</td>\n",
       "      <td>0.516970</td>\n",
       "    </tr>\n",
       "    <tr>\n",
       "      <th>AVGFACSAL</th>\n",
       "      <td>-0.288759</td>\n",
       "      <td>-0.357840</td>\n",
       "      <td>-0.134964</td>\n",
       "      <td>-0.326778</td>\n",
       "      <td>NaN</td>\n",
       "      <td>0.214163</td>\n",
       "      <td>-0.144167</td>\n",
       "      <td>0.563620</td>\n",
       "      <td>-0.077450</td>\n",
       "      <td>-0.373433</td>\n",
       "      <td>...</td>\n",
       "      <td>0.577083</td>\n",
       "      <td>-0.158125</td>\n",
       "      <td>0.588440</td>\n",
       "      <td>0.489270</td>\n",
       "      <td>1.000000</td>\n",
       "      <td>0.586177</td>\n",
       "      <td>0.294307</td>\n",
       "      <td>0.462519</td>\n",
       "      <td>0.436913</td>\n",
       "      <td>0.674599</td>\n",
       "    </tr>\n",
       "    <tr>\n",
       "      <th>C150_4</th>\n",
       "      <td>-0.319513</td>\n",
       "      <td>-0.207311</td>\n",
       "      <td>-0.185308</td>\n",
       "      <td>-0.129759</td>\n",
       "      <td>NaN</td>\n",
       "      <td>0.097761</td>\n",
       "      <td>-0.033802</td>\n",
       "      <td>0.418909</td>\n",
       "      <td>-0.175265</td>\n",
       "      <td>-0.304595</td>\n",
       "      <td>...</td>\n",
       "      <td>0.620251</td>\n",
       "      <td>-0.458301</td>\n",
       "      <td>0.465939</td>\n",
       "      <td>0.367792</td>\n",
       "      <td>0.586177</td>\n",
       "      <td>1.000000</td>\n",
       "      <td>0.552664</td>\n",
       "      <td>0.639935</td>\n",
       "      <td>0.592847</td>\n",
       "      <td>0.491232</td>\n",
       "    </tr>\n",
       "    <tr>\n",
       "      <th>PFTFTUG1_EF</th>\n",
       "      <td>-0.364739</td>\n",
       "      <td>-0.239401</td>\n",
       "      <td>-0.184422</td>\n",
       "      <td>-0.222626</td>\n",
       "      <td>NaN</td>\n",
       "      <td>-0.085540</td>\n",
       "      <td>0.144195</td>\n",
       "      <td>0.353552</td>\n",
       "      <td>0.090383</td>\n",
       "      <td>-0.161835</td>\n",
       "      <td>...</td>\n",
       "      <td>0.301582</td>\n",
       "      <td>-0.771842</td>\n",
       "      <td>0.182359</td>\n",
       "      <td>0.248231</td>\n",
       "      <td>0.294307</td>\n",
       "      <td>0.552664</td>\n",
       "      <td>1.000000</td>\n",
       "      <td>0.454729</td>\n",
       "      <td>0.412841</td>\n",
       "      <td>0.146424</td>\n",
       "    </tr>\n",
       "    <tr>\n",
       "      <th>COMPL_RPY_3YR_RT</th>\n",
       "      <td>-0.182069</td>\n",
       "      <td>-0.208681</td>\n",
       "      <td>-0.177103</td>\n",
       "      <td>-0.215533</td>\n",
       "      <td>NaN</td>\n",
       "      <td>0.033422</td>\n",
       "      <td>0.080988</td>\n",
       "      <td>0.302789</td>\n",
       "      <td>-0.389840</td>\n",
       "      <td>-0.120470</td>\n",
       "      <td>...</td>\n",
       "      <td>0.493867</td>\n",
       "      <td>-0.329143</td>\n",
       "      <td>0.361865</td>\n",
       "      <td>0.325358</td>\n",
       "      <td>0.462519</td>\n",
       "      <td>0.639935</td>\n",
       "      <td>0.454729</td>\n",
       "      <td>1.000000</td>\n",
       "      <td>0.943300</td>\n",
       "      <td>0.526561</td>\n",
       "    </tr>\n",
       "    <tr>\n",
       "      <th>COMPL_RPY_5YR_RT</th>\n",
       "      <td>-0.174065</td>\n",
       "      <td>-0.185872</td>\n",
       "      <td>-0.224412</td>\n",
       "      <td>-0.170860</td>\n",
       "      <td>NaN</td>\n",
       "      <td>0.040117</td>\n",
       "      <td>0.105269</td>\n",
       "      <td>0.290422</td>\n",
       "      <td>-0.420454</td>\n",
       "      <td>-0.068388</td>\n",
       "      <td>...</td>\n",
       "      <td>0.453060</td>\n",
       "      <td>-0.307466</td>\n",
       "      <td>0.368879</td>\n",
       "      <td>0.292749</td>\n",
       "      <td>0.436913</td>\n",
       "      <td>0.592847</td>\n",
       "      <td>0.412841</td>\n",
       "      <td>0.943300</td>\n",
       "      <td>1.000000</td>\n",
       "      <td>0.516023</td>\n",
       "    </tr>\n",
       "    <tr>\n",
       "      <th>MD_EARN_WNE_P10</th>\n",
       "      <td>-0.064495</td>\n",
       "      <td>-0.022262</td>\n",
       "      <td>-0.154590</td>\n",
       "      <td>-0.063259</td>\n",
       "      <td>NaN</td>\n",
       "      <td>0.143365</td>\n",
       "      <td>-0.165023</td>\n",
       "      <td>0.310767</td>\n",
       "      <td>-0.197703</td>\n",
       "      <td>-0.279113</td>\n",
       "      <td>...</td>\n",
       "      <td>0.545135</td>\n",
       "      <td>-0.086162</td>\n",
       "      <td>0.524867</td>\n",
       "      <td>0.516970</td>\n",
       "      <td>0.674599</td>\n",
       "      <td>0.491232</td>\n",
       "      <td>0.146424</td>\n",
       "      <td>0.526561</td>\n",
       "      <td>0.516023</td>\n",
       "      <td>1.000000</td>\n",
       "    </tr>\n",
       "  </tbody>\n",
       "</table>\n",
       "<p>21 rows × 21 columns</p>\n",
       "</div>"
      ],
      "text/plain": [
       "                    UNITID     OPEID    REGION   CONTROL  PREDDEG   HIGHDEG  \\\n",
       "UNITID            1.000000  0.335665  0.110249  0.321522      NaN -0.171454   \n",
       "OPEID             0.335665  1.000000  0.087944  0.240882      NaN -0.031844   \n",
       "REGION            0.110249  0.087944  1.000000  0.035560      NaN  0.036418   \n",
       "CONTROL           0.321522  0.240882  0.035560  1.000000      NaN -0.175975   \n",
       "PREDDEG                NaN       NaN       NaN       NaN      NaN       NaN   \n",
       "HIGHDEG          -0.171454 -0.031844  0.036418 -0.175975      NaN  1.000000   \n",
       "LOCALE           -0.086629 -0.058103 -0.081501 -0.118062      NaN -0.114142   \n",
       "CCSIZSET         -0.427252 -0.195337 -0.063471 -0.470277      NaN  0.363673   \n",
       "HBCU             -0.084174 -0.038333  0.043326 -0.094633      NaN -0.055656   \n",
       "ADM_RATE          0.149594  0.274463  0.021926 -0.021698      NaN  0.102963   \n",
       "SAT_AVG          -0.051938 -0.042067 -0.035078  0.012980      NaN  0.037001   \n",
       "ACTCMMID         -0.074978 -0.049004 -0.099497  0.007806      NaN  0.033228   \n",
       "PPTUG_EF          0.283502 -0.023785  0.120335  0.117138      NaN  0.085947   \n",
       "NPT4_PRIV        -0.231991 -0.201202 -0.107537 -0.135406      NaN  0.157664   \n",
       "INEXPFTE         -0.128773 -0.081478 -0.080481 -0.101314      NaN  0.006645   \n",
       "AVGFACSAL        -0.288759 -0.357840 -0.134964 -0.326778      NaN  0.214163   \n",
       "C150_4           -0.319513 -0.207311 -0.185308 -0.129759      NaN  0.097761   \n",
       "PFTFTUG1_EF      -0.364739 -0.239401 -0.184422 -0.222626      NaN -0.085540   \n",
       "COMPL_RPY_3YR_RT -0.182069 -0.208681 -0.177103 -0.215533      NaN  0.033422   \n",
       "COMPL_RPY_5YR_RT -0.174065 -0.185872 -0.224412 -0.170860      NaN  0.040117   \n",
       "MD_EARN_WNE_P10  -0.064495 -0.022262 -0.154590 -0.063259      NaN  0.143365   \n",
       "\n",
       "                    LOCALE  CCSIZSET      HBCU  ADM_RATE  ...  ACTCMMID  \\\n",
       "UNITID           -0.086629 -0.427252 -0.084174  0.149594  ... -0.074978   \n",
       "OPEID            -0.058103 -0.195337 -0.038333  0.274463  ... -0.049004   \n",
       "REGION           -0.081501 -0.063471  0.043326  0.021926  ... -0.099497   \n",
       "CONTROL          -0.118062 -0.470277 -0.094633 -0.021698  ...  0.007806   \n",
       "PREDDEG                NaN       NaN       NaN       NaN  ...       NaN   \n",
       "HIGHDEG          -0.114142  0.363673 -0.055656  0.102963  ...  0.033228   \n",
       "LOCALE            1.000000 -0.051688 -0.017698  0.038478  ... -0.136901   \n",
       "CCSIZSET         -0.051688  1.000000  0.023487 -0.078922  ...  0.307007   \n",
       "HBCU             -0.017698  0.023487  1.000000 -0.072005  ... -0.228597   \n",
       "ADM_RATE          0.038478 -0.078922 -0.072005  1.000000  ... -0.383011   \n",
       "SAT_AVG          -0.143536  0.297608 -0.228749 -0.380991  ...  0.977327   \n",
       "ACTCMMID         -0.136901  0.307007 -0.228597 -0.383011  ...  1.000000   \n",
       "PPTUG_EF         -0.088248 -0.261310 -0.074233  0.047994  ... -0.210963   \n",
       "NPT4_PRIV        -0.119246  0.340913 -0.066935 -0.159349  ...  0.354361   \n",
       "INEXPFTE         -0.096359  0.171113 -0.054703 -0.412065  ...  0.477255   \n",
       "AVGFACSAL        -0.144167  0.563620 -0.077450 -0.373433  ...  0.577083   \n",
       "C150_4           -0.033802  0.418909 -0.175265 -0.304595  ...  0.620251   \n",
       "PFTFTUG1_EF       0.144195  0.353552  0.090383 -0.161835  ...  0.301582   \n",
       "COMPL_RPY_3YR_RT  0.080988  0.302789 -0.389840 -0.120470  ...  0.493867   \n",
       "COMPL_RPY_5YR_RT  0.105269  0.290422 -0.420454 -0.068388  ...  0.453060   \n",
       "MD_EARN_WNE_P10  -0.165023  0.310767 -0.197703 -0.279113  ...  0.545135   \n",
       "\n",
       "                  PPTUG_EF  NPT4_PRIV  INEXPFTE  AVGFACSAL    C150_4  \\\n",
       "UNITID            0.283502  -0.231991 -0.128773  -0.288759 -0.319513   \n",
       "OPEID            -0.023785  -0.201202 -0.081478  -0.357840 -0.207311   \n",
       "REGION            0.120335  -0.107537 -0.080481  -0.134964 -0.185308   \n",
       "CONTROL           0.117138  -0.135406 -0.101314  -0.326778 -0.129759   \n",
       "PREDDEG                NaN        NaN       NaN        NaN       NaN   \n",
       "HIGHDEG           0.085947   0.157664  0.006645   0.214163  0.097761   \n",
       "LOCALE           -0.088248  -0.119246 -0.096359  -0.144167 -0.033802   \n",
       "CCSIZSET         -0.261310   0.340913  0.171113   0.563620  0.418909   \n",
       "HBCU             -0.074233  -0.066935 -0.054703  -0.077450 -0.175265   \n",
       "ADM_RATE          0.047994  -0.159349 -0.412065  -0.373433 -0.304595   \n",
       "SAT_AVG          -0.192008   0.300603  0.465256   0.543252  0.592507   \n",
       "ACTCMMID         -0.210963   0.354361  0.477255   0.577083  0.620251   \n",
       "PPTUG_EF          1.000000  -0.123637 -0.210936  -0.158125 -0.458301   \n",
       "NPT4_PRIV        -0.123637   1.000000  0.191065   0.588440  0.465939   \n",
       "INEXPFTE         -0.210936   0.191065  1.000000   0.489270  0.367792   \n",
       "AVGFACSAL        -0.158125   0.588440  0.489270   1.000000  0.586177   \n",
       "C150_4           -0.458301   0.465939  0.367792   0.586177  1.000000   \n",
       "PFTFTUG1_EF      -0.771842   0.182359  0.248231   0.294307  0.552664   \n",
       "COMPL_RPY_3YR_RT -0.329143   0.361865  0.325358   0.462519  0.639935   \n",
       "COMPL_RPY_5YR_RT -0.307466   0.368879  0.292749   0.436913  0.592847   \n",
       "MD_EARN_WNE_P10  -0.086162   0.524867  0.516970   0.674599  0.491232   \n",
       "\n",
       "                  PFTFTUG1_EF  COMPL_RPY_3YR_RT  COMPL_RPY_5YR_RT  \\\n",
       "UNITID              -0.364739         -0.182069         -0.174065   \n",
       "OPEID               -0.239401         -0.208681         -0.185872   \n",
       "REGION              -0.184422         -0.177103         -0.224412   \n",
       "CONTROL             -0.222626         -0.215533         -0.170860   \n",
       "PREDDEG                   NaN               NaN               NaN   \n",
       "HIGHDEG             -0.085540          0.033422          0.040117   \n",
       "LOCALE               0.144195          0.080988          0.105269   \n",
       "CCSIZSET             0.353552          0.302789          0.290422   \n",
       "HBCU                 0.090383         -0.389840         -0.420454   \n",
       "ADM_RATE            -0.161835         -0.120470         -0.068388   \n",
       "SAT_AVG              0.279375          0.477876          0.428926   \n",
       "ACTCMMID             0.301582          0.493867          0.453060   \n",
       "PPTUG_EF            -0.771842         -0.329143         -0.307466   \n",
       "NPT4_PRIV            0.182359          0.361865          0.368879   \n",
       "INEXPFTE             0.248231          0.325358          0.292749   \n",
       "AVGFACSAL            0.294307          0.462519          0.436913   \n",
       "C150_4               0.552664          0.639935          0.592847   \n",
       "PFTFTUG1_EF          1.000000          0.454729          0.412841   \n",
       "COMPL_RPY_3YR_RT     0.454729          1.000000          0.943300   \n",
       "COMPL_RPY_5YR_RT     0.412841          0.943300          1.000000   \n",
       "MD_EARN_WNE_P10      0.146424          0.526561          0.516023   \n",
       "\n",
       "                  MD_EARN_WNE_P10  \n",
       "UNITID                  -0.064495  \n",
       "OPEID                   -0.022262  \n",
       "REGION                  -0.154590  \n",
       "CONTROL                 -0.063259  \n",
       "PREDDEG                       NaN  \n",
       "HIGHDEG                  0.143365  \n",
       "LOCALE                  -0.165023  \n",
       "CCSIZSET                 0.310767  \n",
       "HBCU                    -0.197703  \n",
       "ADM_RATE                -0.279113  \n",
       "SAT_AVG                  0.509388  \n",
       "ACTCMMID                 0.545135  \n",
       "PPTUG_EF                -0.086162  \n",
       "NPT4_PRIV                0.524867  \n",
       "INEXPFTE                 0.516970  \n",
       "AVGFACSAL                0.674599  \n",
       "C150_4                   0.491232  \n",
       "PFTFTUG1_EF              0.146424  \n",
       "COMPL_RPY_3YR_RT         0.526561  \n",
       "COMPL_RPY_5YR_RT         0.516023  \n",
       "MD_EARN_WNE_P10          1.000000  \n",
       "\n",
       "[21 rows x 21 columns]"
      ]
     },
     "execution_count": 40,
     "metadata": {},
     "output_type": "execute_result"
    }
   ],
   "source": [
    "df_cleaned_final_correlation=df_cleaned_final.corr()\n",
    "df_cleaned_final_correlation"
   ]
  },
  {
   "cell_type": "code",
   "execution_count": 41,
   "metadata": {
    "scrolled": true
   },
   "outputs": [
    {
     "data": {
      "image/png": "[encoded data removed]",
      "text/plain": [
       "<Figure size 2268x2268 with 462 Axes>"
      ]
     },
     "metadata": {
      "needs_background": "light"
     },
     "output_type": "display_data"
    }
   ],
   "source": [
    "import matplotlib.pyplot as plt\n",
    "import seaborn as sns\n",
    "\n",
    "%matplotlib inline\n",
    "\n",
    "sns.pairplot(df_cleaned_final_correlation, height=1.5)\n",
    "plt.tight_layout()"
   ]
  },
  {
   "cell_type": "code",
   "execution_count": 42,
   "metadata": {},
   "outputs": [
    {
     "data": {
      "image/png": "[encoded data removed]",
      "text/plain": [
       "<Figure size 1152x720 with 2 Axes>"
      ]
     },
     "metadata": {
      "needs_background": "light"
     },
     "output_type": "display_data"
    }
   ],
   "source": [
    "plt.figure(figsize=(16,10))\n",
    "sns.heatmap(df_cleaned_final_correlation.corr(),center=0)\n",
    "plt.show()"
   ]
  },
  {
   "cell_type": "code",
   "execution_count": 43,
   "metadata": {},
   "outputs": [],
   "source": [
    "# Keep in mind the range used at Stride funding to consider variables highly correlated.\n",
    "\n",
    "# The variable that correlates the most to median income 10 years after graduating would be AVGFACSAL\n",
    "#(Average faculty salary) with 0.6745\n",
    "\n",
    "#Based on literature, highly correlated variables presents coefficients between 0.7-1\n",
    "\n"
   ]
  },
  {
   "cell_type": "markdown",
   "metadata": {},
   "source": [
    "**4. Describe, if any, the relationship between a school’s five year repayment rate versus a school’s completion rate for first time full time students?**"
   ]
  },
  {
   "cell_type": "code",
   "execution_count": 44,
   "metadata": {},
   "outputs": [
    {
     "data": {
      "text/plain": [
       "0.869773    20\n",
       "0.543255    19\n",
       "0.520375    17\n",
       "0.665704    17\n",
       "0.737939    14\n",
       "            ..\n",
       "0.727529     1\n",
       "0.917446     1\n",
       "0.800877     1\n",
       "0.907923     1\n",
       "0.851632     1\n",
       "Name: COMPL_RPY_5YR_RT, Length: 1790, dtype: int64"
      ]
     },
     "execution_count": 44,
     "metadata": {},
     "output_type": "execute_result"
    }
   ],
   "source": [
    "df_cleaned_final['COMPL_RPY_5YR_RT'].value_counts()"
   ]
  },
  {
   "cell_type": "code",
   "execution_count": 45,
   "metadata": {},
   "outputs": [
    {
     "data": {
      "text/plain": [
       "0.0000    33\n",
       "0.5000    25\n",
       "0.3333    13\n",
       "0.3750    11\n",
       "1.0000    11\n",
       "          ..\n",
       "0.9298     1\n",
       "0.7378     1\n",
       "0.0962     1\n",
       "0.4832     1\n",
       "0.5822     1\n",
       "Name: C150_4, Length: 1690, dtype: int64"
      ]
     },
     "execution_count": 45,
     "metadata": {},
     "output_type": "execute_result"
    }
   ],
   "source": [
    "df_cleaned_final['C150_4'].value_counts()"
   ]
  },
  {
   "cell_type": "code",
   "execution_count": 46,
   "metadata": {},
   "outputs": [
    {
     "data": {
      "image/png": "[encoded data removed]",
      "text/plain": [
       "<Figure size 432x288 with 2 Axes>"
      ]
     },
     "metadata": {
      "needs_background": "light"
     },
     "output_type": "display_data"
    }
   ],
   "source": [
    "import matplotlib.pyplot as plt\n",
    "import seaborn as sns\n",
    "\n",
    "\n",
    "x = df_cleaned_final['C150_4']\n",
    "y = df_cleaned_final['COMPL_RPY_5YR_RT']\n",
    "colors = 'tab:green'\n",
    "sizes = 5\n",
    "\n",
    "plt.title(\"Five year Repayment Rate Vs Completion rate first time students\") #title\n",
    "plt.xlabel(\"C150_4\") #x label\n",
    "plt.ylabel(\"COMPL_RPY_5YR_RT\") #y label\n",
    "\n",
    "plt.scatter(x, y, c=colors, s=sizes, alpha=0.3,\n",
    "            cmap='viridis')\n",
    "plt.colorbar();  # show color scale"
   ]
  },
  {
   "cell_type": "code",
   "execution_count": 47,
   "metadata": {},
   "outputs": [],
   "source": [
    "# Based on the plot, there is in general a positive relationship between these two variables,\n",
    "# despite the significant dispersion, which means that first-time students at a 4 year program tend \n",
    "# to complete 5 year repayment plans. The higher the higher the completion rate the higher the repayment plan rate "
   ]
  },
  {
   "cell_type": "markdown",
   "metadata": {},
   "source": [
    "**5. Visualize the distribution of the average SAT per institution and each institution’s admission rates. How would you describe each distribution? How do they compare to one another (Note, we aren’t necessarily looking for specific statistical tests here).**"
   ]
  },
  {
   "cell_type": "code",
   "execution_count": 48,
   "metadata": {},
   "outputs": [
    {
     "data": {
      "text/plain": [
       "1.000000    34\n",
       "0.500000     7\n",
       "0.750000     6\n",
       "0.800000     5\n",
       "0.933300     4\n",
       "            ..\n",
       "0.638898     1\n",
       "0.613500     1\n",
       "0.824000     1\n",
       "0.666945     1\n",
       "0.718012     1\n",
       "Name: ADM_RATE, Length: 1817, dtype: int64"
      ]
     },
     "execution_count": 48,
     "metadata": {},
     "output_type": "execute_result"
    }
   ],
   "source": [
    "df_cleaned_final['ADM_RATE'].value_counts()"
   ]
  },
  {
   "cell_type": "code",
   "execution_count": 49,
   "metadata": {},
   "outputs": [
    {
     "data": {
      "text/plain": [
       "Text(0, 0.5, 'Frequency')"
      ]
     },
     "execution_count": 49,
     "metadata": {},
     "output_type": "execute_result"
    },
    {
     "data": {
      "image/png": "[encoded data removed]",
      "text/plain": [
       "<Figure size 432x288 with 1 Axes>"
      ]
     },
     "metadata": {
      "needs_background": "light"
     },
     "output_type": "display_data"
    }
   ],
   "source": [
    "#Distrubition of Admission Rate\n",
    "\n",
    "df_cleaned_final['ADM_RATE'].hist(bins=12, grid=True, xlabelsize=12, ylabelsize=12)\n",
    "plt.xlabel(\"Admission Rate\", fontsize=15)\n",
    "plt.ylabel(\"Frequency\",fontsize=15)\n"
   ]
  },
  {
   "cell_type": "code",
   "execution_count": 50,
   "metadata": {},
   "outputs": [],
   "source": [
    "# The distribution of ADM_RATE tends to be normal; the bin between 0.5 and 0.75 presents the highest frequency  "
   ]
  },
  {
   "cell_type": "code",
   "execution_count": 51,
   "metadata": {},
   "outputs": [
    {
     "data": {
      "text/plain": [
       "1120.000000    19\n",
       "1105.000000    13\n",
       "1133.000000    12\n",
       "1084.000000    11\n",
       "1050.000000    11\n",
       "               ..\n",
       "1110.930424     1\n",
       "1148.011028     1\n",
       "1152.774336     1\n",
       "1121.273410     1\n",
       "1132.805950     1\n",
       "Name: SAT_AVG, Length: 1241, dtype: int64"
      ]
     },
     "execution_count": 51,
     "metadata": {},
     "output_type": "execute_result"
    }
   ],
   "source": [
    "df_cleaned_final['SAT_AVG'].value_counts()"
   ]
  },
  {
   "cell_type": "code",
   "execution_count": 52,
   "metadata": {},
   "outputs": [
    {
     "data": {
      "text/plain": [
       "Text(0.5, 0, 'SAT Average')"
      ]
     },
     "execution_count": 52,
     "metadata": {},
     "output_type": "execute_result"
    },
    {
     "data": {
      "image/png": "[encoded data removed]",
      "text/plain": [
       "<Figure size 432x288 with 1 Axes>"
      ]
     },
     "metadata": {
      "needs_background": "light"
     },
     "output_type": "display_data"
    }
   ],
   "source": [
    "#Distrubition of SAT Average\n",
    "\n",
    "df_cleaned_final['SAT_AVG'].hist(bins=12, grid=True, xlabelsize=12, ylabelsize=12)\n",
    "plt.xlabel(\"SAT Average\", fontsize=15)\n"
   ]
  },
  {
   "cell_type": "code",
   "execution_count": 53,
   "metadata": {},
   "outputs": [],
   "source": [
    "# The distribution of ADM_RATE tends to be normal; the bin between 1100 and 1200 presents the highest frequency  "
   ]
  },
  {
   "cell_type": "code",
   "execution_count": 54,
   "metadata": {},
   "outputs": [
    {
     "data": {
      "text/plain": [
       "Union College                      3\n",
       "Westminster College                3\n",
       "Stevens-Henager College            3\n",
       "Lincoln University                 3\n",
       "Bethel University                  3\n",
       "                                  ..\n",
       "Selma University                   1\n",
       "Champion Christian College         1\n",
       "University of California-Irvine    1\n",
       "Mount Holyoke College              1\n",
       "Herzing University-Minneapolis     1\n",
       "Name: INSTNM, Length: 2037, dtype: int64"
      ]
     },
     "execution_count": 54,
     "metadata": {},
     "output_type": "execute_result"
    }
   ],
   "source": [
    "df_cleaned_final['INSTNM'].value_counts()"
   ]
  },
  {
   "cell_type": "code",
   "execution_count": 99,
   "metadata": {},
   "outputs": [
    {
     "data": {
      "text/plain": [
       "Text(0, 0.5, 'Frequency')"
      ]
     },
     "execution_count": 99,
     "metadata": {},
     "output_type": "execute_result"
    },
    {
     "data": {
      "image/png": "[encoded data removed]",
      "text/plain": [
       "<Figure size 432x288 with 1 Axes>"
      ]
     },
     "metadata": {
      "needs_background": "light"
     },
     "output_type": "display_data"
    }
   ],
   "source": [
    "df_cleaned_final['INSTNM'].hist(bins=1000, grid=True, xlabelsize=12, ylabelsize=12)\n",
    "plt.xlabel(\"Institutions\", fontsize=5)\n",
    "plt.ylabel(\"Frequency\",fontsize=0.5)"
   ]
  },
  {
   "cell_type": "code",
   "execution_count": 54,
   "metadata": {},
   "outputs": [],
   "source": [
    "#Is there any other criteria that could be used to filter the data because there is 2037 unique values "
   ]
  },
  {
   "cell_type": "code",
   "execution_count": 55,
   "metadata": {},
   "outputs": [],
   "source": [
    "# I tried to approach this question in different ways, \n",
    "# but I was not able to present the distribution in another way, tho. \n",
    "\n",
    "# I would appreacite your feedback to learn more about it,\n",
    "\n",
    "\n",
    "# Best,\n"
   ]
  },
  {
   "cell_type": "code",
   "execution_count": null,
   "metadata": {},
   "outputs": [],
   "source": []
  }
 ],
 "metadata": {
  "kernelspec": {
   "display_name": "Python 3",
   "language": "python",
   "name": "python3"
  },
  "language_info": {
   "codemirror_mode": {
    "name": "ipython",
    "version": 3
   },
   "file_extension": ".py",
   "mimetype": "text/x-python",
   "name": "python",
   "nbconvert_exporter": "python",
   "pygments_lexer": "ipython3",
   "version": "3.8.5"
  }
 },
 "nbformat": 4,
 "nbformat_minor": 4
}
